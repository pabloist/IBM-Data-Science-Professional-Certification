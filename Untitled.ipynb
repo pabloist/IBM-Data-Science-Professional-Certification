{
 "cells": [
  {
   "cell_type": "code",
   "execution_count": 1,
   "metadata": {},
   "outputs": [
    {
     "name": "stderr",
     "output_type": "stream",
     "text": [
      "c:\\users\\pablo\\appdata\\local\\programs\\python\\python37\\lib\\site-packages\\sklearn\\utils\\deprecation.py:143: FutureWarning: The sklearn.datasets.samples_generator module is  deprecated in version 0.22 and will be removed in version 0.24. The corresponding classes / functions should instead be imported from sklearn.datasets. Anything that cannot be imported from sklearn.datasets is now part of the private API.\n",
      "  warnings.warn(message, FutureWarning)\n"
     ]
    }
   ],
   "source": [
    "import pandas as pd\n",
    "import numpy as np\n",
    "import seaborn as sns\n",
    "import calendar\n",
    "import random \n",
    "import numpy as np \n",
    "import matplotlib.pyplot as plt \n",
    "from sklearn.cluster import KMeans \n",
    "from sklearn.datasets.samples_generator import make_blobs \n",
    "%matplotlib inline"
   ]
  },
  {
   "cell_type": "code",
   "execution_count": 2,
   "metadata": {},
   "outputs": [
    {
     "name": "stdout",
     "output_type": "stream",
     "text": [
      "Note: you may need to restart the kernel to use updated packages.\n"
     ]
    },
    {
     "name": "stderr",
     "output_type": "stream",
     "text": [
      "WARNING: You are using pip version 20.2.2; however, version 20.2.3 is available.\n",
      "You should consider upgrading via the 'c:\\users\\pablo\\appdata\\local\\programs\\python\\python37\\python.exe -m pip install --upgrade pip' command.\n"
     ]
    },
    {
     "name": "stdout",
     "output_type": "stream",
     "text": [
      "Requirement already satisfied: xlrd in c:\\users\\pablo\\appdata\\local\\programs\\python\\python37\\lib\\site-packages (1.2.0)\n"
     ]
    }
   ],
   "source": [
    "pip install xlrd"
   ]
  },
  {
   "cell_type": "markdown",
   "metadata": {},
   "source": [
    "### Blueliv "
   ]
  },
  {
   "cell_type": "code",
   "execution_count": 3,
   "metadata": {},
   "outputs": [
    {
     "data": {
      "text/html": [
       "<div>\n",
       "<style scoped>\n",
       "    .dataframe tbody tr th:only-of-type {\n",
       "        vertical-align: middle;\n",
       "    }\n",
       "\n",
       "    .dataframe tbody tr th {\n",
       "        vertical-align: top;\n",
       "    }\n",
       "\n",
       "    .dataframe thead th {\n",
       "        text-align: right;\n",
       "    }\n",
       "</style>\n",
       "<table border=\"1\" class=\"dataframe\">\n",
       "  <thead>\n",
       "    <tr style=\"text-align: right;\">\n",
       "      <th></th>\n",
       "      <th>_time</th>\n",
       "      <th>threat_match_field</th>\n",
       "      <th>threat_match_value</th>\n",
       "      <th>sourcetype</th>\n",
       "      <th>src</th>\n",
       "      <th>dest</th>\n",
       "      <th>threat_collection</th>\n",
       "      <th>threat_group</th>\n",
       "      <th>threat_category</th>\n",
       "    </tr>\n",
       "  </thead>\n",
       "  <tbody>\n",
       "    <tr>\n",
       "      <th>0</th>\n",
       "      <td>2020-09-22 01:45:00</td>\n",
       "      <td>src</td>\n",
       "      <td>74.82.47.4</td>\n",
       "      <td>pan:traffic</td>\n",
       "      <td>74.82.47.4</td>\n",
       "      <td>186.10.122.22</td>\n",
       "      <td>ip_intel</td>\n",
       "      <td>blueliv_attacking_ips</td>\n",
       "      <td>threatlist</td>\n",
       "    </tr>\n",
       "    <tr>\n",
       "      <th>1</th>\n",
       "      <td>2020-09-21 22:45:00</td>\n",
       "      <td>dest</td>\n",
       "      <td>34.102.176.152</td>\n",
       "      <td>cisco:asa fgt_traffic</td>\n",
       "      <td>10.39.141.10 10.57.0.198 10.57.4.103 10.57.4.1...</td>\n",
       "      <td>34.102.176.152</td>\n",
       "      <td>ip_intel</td>\n",
       "      <td>blueliv_crimeservers</td>\n",
       "      <td>threatlist</td>\n",
       "    </tr>\n",
       "    <tr>\n",
       "      <th>2</th>\n",
       "      <td>2020-09-21 19:45:00</td>\n",
       "      <td>src</td>\n",
       "      <td>45.129.33.142</td>\n",
       "      <td>cisco:asa</td>\n",
       "      <td>45.129.33.142</td>\n",
       "      <td>10.44.0.141 10.44.0.142 172.16.20.79 186.67.17...</td>\n",
       "      <td>ip_intel</td>\n",
       "      <td>blueliv_attacking_ips</td>\n",
       "      <td>threatlist</td>\n",
       "    </tr>\n",
       "    <tr>\n",
       "      <th>3</th>\n",
       "      <td>2020-09-21 18:45:00</td>\n",
       "      <td>src</td>\n",
       "      <td>103.145.13.43</td>\n",
       "      <td>cisco:asa</td>\n",
       "      <td>103.145.13.43</td>\n",
       "      <td>10.44.0.141 172.16.20.79</td>\n",
       "      <td>ip_intel</td>\n",
       "      <td>blueliv_attacking_ips</td>\n",
       "      <td>threatlist</td>\n",
       "    </tr>\n",
       "    <tr>\n",
       "      <th>4</th>\n",
       "      <td>2020-09-21 17:45:00</td>\n",
       "      <td>src</td>\n",
       "      <td>84.17.43.179</td>\n",
       "      <td>cisco:asa</td>\n",
       "      <td>84.17.43.179</td>\n",
       "      <td>10.44.0.141 10.44.0.142</td>\n",
       "      <td>ip_intel</td>\n",
       "      <td>blueliv_attacking_ips</td>\n",
       "      <td>threatlist</td>\n",
       "    </tr>\n",
       "  </tbody>\n",
       "</table>\n",
       "</div>"
      ],
      "text/plain": [
       "                _time threat_match_field threat_match_value  \\\n",
       "0 2020-09-22 01:45:00                src         74.82.47.4   \n",
       "1 2020-09-21 22:45:00               dest     34.102.176.152   \n",
       "2 2020-09-21 19:45:00                src      45.129.33.142   \n",
       "3 2020-09-21 18:45:00                src      103.145.13.43   \n",
       "4 2020-09-21 17:45:00                src       84.17.43.179   \n",
       "\n",
       "              sourcetype                                                src  \\\n",
       "0            pan:traffic                                         74.82.47.4   \n",
       "1  cisco:asa fgt_traffic  10.39.141.10 10.57.0.198 10.57.4.103 10.57.4.1...   \n",
       "2              cisco:asa                                      45.129.33.142   \n",
       "3              cisco:asa                                      103.145.13.43   \n",
       "4              cisco:asa                                       84.17.43.179   \n",
       "\n",
       "                                                dest threat_collection  \\\n",
       "0                                      186.10.122.22          ip_intel   \n",
       "1                                     34.102.176.152          ip_intel   \n",
       "2  10.44.0.141 10.44.0.142 172.16.20.79 186.67.17...          ip_intel   \n",
       "3                           10.44.0.141 172.16.20.79          ip_intel   \n",
       "4                            10.44.0.141 10.44.0.142          ip_intel   \n",
       "\n",
       "            threat_group threat_category  \n",
       "0  blueliv_attacking_ips      threatlist  \n",
       "1   blueliv_crimeservers      threatlist  \n",
       "2  blueliv_attacking_ips      threatlist  \n",
       "3  blueliv_attacking_ips      threatlist  \n",
       "4  blueliv_attacking_ips      threatlist  "
      ]
     },
     "execution_count": 3,
     "metadata": {},
     "output_type": "execute_result"
    }
   ],
   "source": [
    "df_blueliv = pd.read_excel(\"threat_activity.xlsx\", sheet_name= \"blueliv\")\n",
    "df_blueliv = df_blueliv.drop(columns=\"Per-panel Filter\")\n",
    "df_blueliv.head()"
   ]
  },
  {
   "cell_type": "markdown",
   "metadata": {},
   "source": [
    "### Análisis del día"
   ]
  },
  {
   "cell_type": "code",
   "execution_count": 106,
   "metadata": {},
   "outputs": [
    {
     "data": {
      "text/html": [
       "<div>\n",
       "<style scoped>\n",
       "    .dataframe tbody tr th:only-of-type {\n",
       "        vertical-align: middle;\n",
       "    }\n",
       "\n",
       "    .dataframe tbody tr th {\n",
       "        vertical-align: top;\n",
       "    }\n",
       "\n",
       "    .dataframe thead th {\n",
       "        text-align: right;\n",
       "    }\n",
       "</style>\n",
       "<table border=\"1\" class=\"dataframe\">\n",
       "  <thead>\n",
       "    <tr style=\"text-align: right;\">\n",
       "      <th></th>\n",
       "      <th>_time</th>\n",
       "      <th>threat_match_field</th>\n",
       "      <th>threat_match_value</th>\n",
       "      <th>sourcetype</th>\n",
       "      <th>src</th>\n",
       "      <th>dest</th>\n",
       "      <th>threat_collection</th>\n",
       "      <th>threat_group</th>\n",
       "      <th>threat_category</th>\n",
       "      <th>Day_id</th>\n",
       "    </tr>\n",
       "  </thead>\n",
       "  <tbody>\n",
       "    <tr>\n",
       "      <th>12</th>\n",
       "      <td>Monday</td>\n",
       "      <td>dest</td>\n",
       "      <td>198.54.117.212</td>\n",
       "      <td>cisco:asa</td>\n",
       "      <td>128.223.55.186</td>\n",
       "      <td>198.54.117.212</td>\n",
       "      <td>ip_intel</td>\n",
       "      <td>blueliv_botips</td>\n",
       "      <td>threatlist</td>\n",
       "      <td>0.0</td>\n",
       "    </tr>\n",
       "    <tr>\n",
       "      <th>1</th>\n",
       "      <td>Monday</td>\n",
       "      <td>dest</td>\n",
       "      <td>34.102.176.152</td>\n",
       "      <td>cisco:asa fgt_traffic</td>\n",
       "      <td>10.39.141.10 10.57.0.198 10.57.4.103 10.57.4.1...</td>\n",
       "      <td>34.102.176.152</td>\n",
       "      <td>ip_intel</td>\n",
       "      <td>blueliv_crimeservers</td>\n",
       "      <td>threatlist</td>\n",
       "      <td>0.0</td>\n",
       "    </tr>\n",
       "    <tr>\n",
       "      <th>2</th>\n",
       "      <td>Monday</td>\n",
       "      <td>src</td>\n",
       "      <td>45.129.33.142</td>\n",
       "      <td>cisco:asa</td>\n",
       "      <td>45.129.33.142</td>\n",
       "      <td>10.44.0.141 10.44.0.142 172.16.20.79 186.67.17...</td>\n",
       "      <td>ip_intel</td>\n",
       "      <td>blueliv_attacking_ips</td>\n",
       "      <td>threatlist</td>\n",
       "      <td>0.0</td>\n",
       "    </tr>\n",
       "    <tr>\n",
       "      <th>3</th>\n",
       "      <td>Monday</td>\n",
       "      <td>src</td>\n",
       "      <td>103.145.13.43</td>\n",
       "      <td>cisco:asa</td>\n",
       "      <td>103.145.13.43</td>\n",
       "      <td>10.44.0.141 172.16.20.79</td>\n",
       "      <td>ip_intel</td>\n",
       "      <td>blueliv_attacking_ips</td>\n",
       "      <td>threatlist</td>\n",
       "      <td>0.0</td>\n",
       "    </tr>\n",
       "    <tr>\n",
       "      <th>4</th>\n",
       "      <td>Monday</td>\n",
       "      <td>src</td>\n",
       "      <td>84.17.43.179</td>\n",
       "      <td>cisco:asa</td>\n",
       "      <td>84.17.43.179</td>\n",
       "      <td>10.44.0.141 10.44.0.142</td>\n",
       "      <td>ip_intel</td>\n",
       "      <td>blueliv_attacking_ips</td>\n",
       "      <td>threatlist</td>\n",
       "      <td>0.0</td>\n",
       "    </tr>\n",
       "  </tbody>\n",
       "</table>\n",
       "</div>"
      ],
      "text/plain": [
       "     _time threat_match_field threat_match_value             sourcetype  \\\n",
       "12  Monday               dest     198.54.117.212              cisco:asa   \n",
       "1   Monday               dest     34.102.176.152  cisco:asa fgt_traffic   \n",
       "2   Monday                src      45.129.33.142              cisco:asa   \n",
       "3   Monday                src      103.145.13.43              cisco:asa   \n",
       "4   Monday                src       84.17.43.179              cisco:asa   \n",
       "\n",
       "                                                  src  \\\n",
       "12                                     128.223.55.186   \n",
       "1   10.39.141.10 10.57.0.198 10.57.4.103 10.57.4.1...   \n",
       "2                                       45.129.33.142   \n",
       "3                                       103.145.13.43   \n",
       "4                                        84.17.43.179   \n",
       "\n",
       "                                                 dest threat_collection  \\\n",
       "12                                     198.54.117.212          ip_intel   \n",
       "1                                      34.102.176.152          ip_intel   \n",
       "2   10.44.0.141 10.44.0.142 172.16.20.79 186.67.17...          ip_intel   \n",
       "3                            10.44.0.141 172.16.20.79          ip_intel   \n",
       "4                             10.44.0.141 10.44.0.142          ip_intel   \n",
       "\n",
       "             threat_group threat_category  Day_id  \n",
       "12         blueliv_botips      threatlist     0.0  \n",
       "1    blueliv_crimeservers      threatlist     0.0  \n",
       "2   blueliv_attacking_ips      threatlist     0.0  \n",
       "3   blueliv_attacking_ips      threatlist     0.0  \n",
       "4   blueliv_attacking_ips      threatlist     0.0  "
      ]
     },
     "execution_count": 106,
     "metadata": {},
     "output_type": "execute_result"
    }
   ],
   "source": [
    "df_blueliv_day = df_blueliv.copy()\n",
    "for i in range (len(df_blueliv_day)):\n",
    "    df_blueliv_day.at[i,\"_time\"] = calendar.day_name[df_blueliv_day.at[i,\"_time\"].weekday()]\n",
    "    df_blueliv_day.at[i,\"Day_id\"] = df_blueliv.at[i,\"_time\"].weekday()\n",
    "df_blueliv_day.sort_values('Day_id', inplace=True)\n",
    "df_blueliv_day.head()"
   ]
  },
  {
   "cell_type": "code",
   "execution_count": 129,
   "metadata": {},
   "outputs": [
    {
     "data": {
      "text/plain": [
       "[Text(0.5, 0, 'Día'),\n",
       " Text(0, 0.5, 'Cantidad de eventos'),\n",
       " Text(0.5, 1.0, 'Eventos Blueliv')]"
      ]
     },
     "execution_count": 129,
     "metadata": {},
     "output_type": "execute_result"
    },
    {
     "data": {
      "image/png": "[encoded data removed]",
      "text/plain": [
       "<Figure size 432x288 with 1 Axes>"
      ]
     },
     "metadata": {
      "needs_background": "light"
     },
     "output_type": "display_data"
    }
   ],
   "source": [
    "datos_dias_blueliv = sns.countplot(x=\"_time\", data=df_blueliv_day)\n",
    "datos_dias_blueliv.set(xlabel='Día', ylabel='Cantidad de eventos', title=\"Eventos Blueliv\")"
   ]
  },
  {
   "cell_type": "markdown",
   "metadata": {},
   "source": [
    "### Analisis de hora"
   ]
  },
  {
   "cell_type": "code",
   "execution_count": 6,
   "metadata": {},
   "outputs": [
    {
     "data": {
      "text/html": [
       "<div>\n",
       "<style scoped>\n",
       "    .dataframe tbody tr th:only-of-type {\n",
       "        vertical-align: middle;\n",
       "    }\n",
       "\n",
       "    .dataframe tbody tr th {\n",
       "        vertical-align: top;\n",
       "    }\n",
       "\n",
       "    .dataframe thead th {\n",
       "        text-align: right;\n",
       "    }\n",
       "</style>\n",
       "<table border=\"1\" class=\"dataframe\">\n",
       "  <thead>\n",
       "    <tr style=\"text-align: right;\">\n",
       "      <th></th>\n",
       "      <th>_time</th>\n",
       "      <th>threat_match_field</th>\n",
       "      <th>threat_match_value</th>\n",
       "      <th>sourcetype</th>\n",
       "      <th>src</th>\n",
       "      <th>dest</th>\n",
       "      <th>threat_collection</th>\n",
       "      <th>threat_group</th>\n",
       "      <th>threat_category</th>\n",
       "    </tr>\n",
       "  </thead>\n",
       "  <tbody>\n",
       "    <tr>\n",
       "      <th>0</th>\n",
       "      <td>1</td>\n",
       "      <td>src</td>\n",
       "      <td>74.82.47.4</td>\n",
       "      <td>pan:traffic</td>\n",
       "      <td>74.82.47.4</td>\n",
       "      <td>186.10.122.22</td>\n",
       "      <td>ip_intel</td>\n",
       "      <td>blueliv_attacking_ips</td>\n",
       "      <td>threatlist</td>\n",
       "    </tr>\n",
       "    <tr>\n",
       "      <th>1</th>\n",
       "      <td>22</td>\n",
       "      <td>dest</td>\n",
       "      <td>34.102.176.152</td>\n",
       "      <td>cisco:asa fgt_traffic</td>\n",
       "      <td>10.39.141.10 10.57.0.198 10.57.4.103 10.57.4.1...</td>\n",
       "      <td>34.102.176.152</td>\n",
       "      <td>ip_intel</td>\n",
       "      <td>blueliv_crimeservers</td>\n",
       "      <td>threatlist</td>\n",
       "    </tr>\n",
       "    <tr>\n",
       "      <th>2</th>\n",
       "      <td>19</td>\n",
       "      <td>src</td>\n",
       "      <td>45.129.33.142</td>\n",
       "      <td>cisco:asa</td>\n",
       "      <td>45.129.33.142</td>\n",
       "      <td>10.44.0.141 10.44.0.142 172.16.20.79 186.67.17...</td>\n",
       "      <td>ip_intel</td>\n",
       "      <td>blueliv_attacking_ips</td>\n",
       "      <td>threatlist</td>\n",
       "    </tr>\n",
       "    <tr>\n",
       "      <th>3</th>\n",
       "      <td>18</td>\n",
       "      <td>src</td>\n",
       "      <td>103.145.13.43</td>\n",
       "      <td>cisco:asa</td>\n",
       "      <td>103.145.13.43</td>\n",
       "      <td>10.44.0.141 172.16.20.79</td>\n",
       "      <td>ip_intel</td>\n",
       "      <td>blueliv_attacking_ips</td>\n",
       "      <td>threatlist</td>\n",
       "    </tr>\n",
       "    <tr>\n",
       "      <th>4</th>\n",
       "      <td>17</td>\n",
       "      <td>src</td>\n",
       "      <td>84.17.43.179</td>\n",
       "      <td>cisco:asa</td>\n",
       "      <td>84.17.43.179</td>\n",
       "      <td>10.44.0.141 10.44.0.142</td>\n",
       "      <td>ip_intel</td>\n",
       "      <td>blueliv_attacking_ips</td>\n",
       "      <td>threatlist</td>\n",
       "    </tr>\n",
       "  </tbody>\n",
       "</table>\n",
       "</div>"
      ],
      "text/plain": [
       "  _time threat_match_field threat_match_value             sourcetype  \\\n",
       "0     1                src         74.82.47.4            pan:traffic   \n",
       "1    22               dest     34.102.176.152  cisco:asa fgt_traffic   \n",
       "2    19                src      45.129.33.142              cisco:asa   \n",
       "3    18                src      103.145.13.43              cisco:asa   \n",
       "4    17                src       84.17.43.179              cisco:asa   \n",
       "\n",
       "                                                 src  \\\n",
       "0                                         74.82.47.4   \n",
       "1  10.39.141.10 10.57.0.198 10.57.4.103 10.57.4.1...   \n",
       "2                                      45.129.33.142   \n",
       "3                                      103.145.13.43   \n",
       "4                                       84.17.43.179   \n",
       "\n",
       "                                                dest threat_collection  \\\n",
       "0                                      186.10.122.22          ip_intel   \n",
       "1                                     34.102.176.152          ip_intel   \n",
       "2  10.44.0.141 10.44.0.142 172.16.20.79 186.67.17...          ip_intel   \n",
       "3                           10.44.0.141 172.16.20.79          ip_intel   \n",
       "4                            10.44.0.141 10.44.0.142          ip_intel   \n",
       "\n",
       "            threat_group threat_category  \n",
       "0  blueliv_attacking_ips      threatlist  \n",
       "1   blueliv_crimeservers      threatlist  \n",
       "2  blueliv_attacking_ips      threatlist  \n",
       "3  blueliv_attacking_ips      threatlist  \n",
       "4  blueliv_attacking_ips      threatlist  "
      ]
     },
     "execution_count": 6,
     "metadata": {},
     "output_type": "execute_result"
    }
   ],
   "source": [
    "df_blueliv_time = df_blueliv.copy()\n",
    "for i in range (len(df_blueliv_time)):\n",
    "    df_blueliv_time.at[i,\"_time\"] = df_blueliv_time.at[i,\"_time\"].hour\n",
    "df_blueliv_time.head()"
   ]
  },
  {
   "cell_type": "code",
   "execution_count": 7,
   "metadata": {},
   "outputs": [
    {
     "name": "stderr",
     "output_type": "stream",
     "text": [
      "c:\\users\\pablo\\appdata\\local\\programs\\python\\python37\\lib\\site-packages\\ipykernel_launcher.py:1: FutureWarning: Treating datetime data as categorical rather than numeric in `.describe` is deprecated and will be removed in a future version of pandas. Specify `datetime_is_numeric=True` to silence this warning and adopt the future behavior now.\n",
      "  \"\"\"Entry point for launching an IPython kernel.\n"
     ]
    },
    {
     "data": {
      "text/html": [
       "<div>\n",
       "<style scoped>\n",
       "    .dataframe tbody tr th:only-of-type {\n",
       "        vertical-align: middle;\n",
       "    }\n",
       "\n",
       "    .dataframe tbody tr th {\n",
       "        vertical-align: top;\n",
       "    }\n",
       "\n",
       "    .dataframe thead th {\n",
       "        text-align: right;\n",
       "    }\n",
       "</style>\n",
       "<table border=\"1\" class=\"dataframe\">\n",
       "  <thead>\n",
       "    <tr style=\"text-align: right;\">\n",
       "      <th></th>\n",
       "      <th>_time</th>\n",
       "      <th>threat_match_field</th>\n",
       "      <th>threat_match_value</th>\n",
       "      <th>sourcetype</th>\n",
       "      <th>src</th>\n",
       "      <th>dest</th>\n",
       "      <th>threat_collection</th>\n",
       "      <th>threat_group</th>\n",
       "      <th>threat_category</th>\n",
       "    </tr>\n",
       "  </thead>\n",
       "  <tbody>\n",
       "    <tr>\n",
       "      <th>count</th>\n",
       "      <td>25</td>\n",
       "      <td>25</td>\n",
       "      <td>25</td>\n",
       "      <td>25</td>\n",
       "      <td>25</td>\n",
       "      <td>25</td>\n",
       "      <td>25</td>\n",
       "      <td>25</td>\n",
       "      <td>25</td>\n",
       "    </tr>\n",
       "    <tr>\n",
       "      <th>unique</th>\n",
       "      <td>19</td>\n",
       "      <td>2</td>\n",
       "      <td>17</td>\n",
       "      <td>3</td>\n",
       "      <td>19</td>\n",
       "      <td>18</td>\n",
       "      <td>1</td>\n",
       "      <td>3</td>\n",
       "      <td>1</td>\n",
       "    </tr>\n",
       "    <tr>\n",
       "      <th>top</th>\n",
       "      <td>2020-09-14 09:45:00</td>\n",
       "      <td>dest</td>\n",
       "      <td>198.54.117.212</td>\n",
       "      <td>cisco:asa</td>\n",
       "      <td>128.223.55.186</td>\n",
       "      <td>198.54.117.212</td>\n",
       "      <td>ip_intel</td>\n",
       "      <td>blueliv_attacking_ips</td>\n",
       "      <td>threatlist</td>\n",
       "    </tr>\n",
       "    <tr>\n",
       "      <th>freq</th>\n",
       "      <td>4</td>\n",
       "      <td>13</td>\n",
       "      <td>4</td>\n",
       "      <td>21</td>\n",
       "      <td>4</td>\n",
       "      <td>4</td>\n",
       "      <td>25</td>\n",
       "      <td>16</td>\n",
       "      <td>25</td>\n",
       "    </tr>\n",
       "    <tr>\n",
       "      <th>first</th>\n",
       "      <td>2020-08-23 00:45:00</td>\n",
       "      <td>NaN</td>\n",
       "      <td>NaN</td>\n",
       "      <td>NaN</td>\n",
       "      <td>NaN</td>\n",
       "      <td>NaN</td>\n",
       "      <td>NaN</td>\n",
       "      <td>NaN</td>\n",
       "      <td>NaN</td>\n",
       "    </tr>\n",
       "    <tr>\n",
       "      <th>last</th>\n",
       "      <td>2020-09-22 01:45:00</td>\n",
       "      <td>NaN</td>\n",
       "      <td>NaN</td>\n",
       "      <td>NaN</td>\n",
       "      <td>NaN</td>\n",
       "      <td>NaN</td>\n",
       "      <td>NaN</td>\n",
       "      <td>NaN</td>\n",
       "      <td>NaN</td>\n",
       "    </tr>\n",
       "  </tbody>\n",
       "</table>\n",
       "</div>"
      ],
      "text/plain": [
       "                      _time threat_match_field threat_match_value sourcetype  \\\n",
       "count                    25                 25                 25         25   \n",
       "unique                   19                  2                 17          3   \n",
       "top     2020-09-14 09:45:00               dest     198.54.117.212  cisco:asa   \n",
       "freq                      4                 13                  4         21   \n",
       "first   2020-08-23 00:45:00                NaN                NaN        NaN   \n",
       "last    2020-09-22 01:45:00                NaN                NaN        NaN   \n",
       "\n",
       "                   src            dest threat_collection  \\\n",
       "count               25              25                25   \n",
       "unique              19              18                 1   \n",
       "top     128.223.55.186  198.54.117.212          ip_intel   \n",
       "freq                 4               4                25   \n",
       "first              NaN             NaN               NaN   \n",
       "last               NaN             NaN               NaN   \n",
       "\n",
       "                 threat_group threat_category  \n",
       "count                      25              25  \n",
       "unique                      3               1  \n",
       "top     blueliv_attacking_ips      threatlist  \n",
       "freq                       16              25  \n",
       "first                     NaN             NaN  \n",
       "last                      NaN             NaN  "
      ]
     },
     "execution_count": 7,
     "metadata": {},
     "output_type": "execute_result"
    }
   ],
   "source": [
    "df_blueliv.describe()"
   ]
  },
  {
   "cell_type": "code",
   "execution_count": 130,
   "metadata": {},
   "outputs": [
    {
     "data": {
      "text/plain": [
       "[Text(0.5, 0, 'Tiempo (horas)'),\n",
       " Text(0, 0.5, 'Cantidad de eventos'),\n",
       " Text(0.5, 1.0, 'Eventos Blueliv')]"
      ]
     },
     "execution_count": 130,
     "metadata": {},
     "output_type": "execute_result"
    },
    {
     "data": {
      "image/png": "[encoded data removed]",
      "text/plain": [
       "<Figure size 432x288 with 1 Axes>"
      ]
     },
     "metadata": {
      "needs_background": "light"
     },
     "output_type": "display_data"
    }
   ],
   "source": [
    "datos_hora_blueliv = sns.countplot(x=\"_time\", data=df_blueliv_time)\n",
    "datos_hora_blueliv.set(xlabel='Tiempo (horas)', ylabel='Cantidad de eventos', title=\"Eventos Blueliv\")"
   ]
  },
  {
   "cell_type": "markdown",
   "metadata": {},
   "source": [
    "### Análisis ip"
   ]
  },
  {
   "cell_type": "code",
   "execution_count": 9,
   "metadata": {},
   "outputs": [
    {
     "data": {
      "text/html": [
       "<div>\n",
       "<style scoped>\n",
       "    .dataframe tbody tr th:only-of-type {\n",
       "        vertical-align: middle;\n",
       "    }\n",
       "\n",
       "    .dataframe tbody tr th {\n",
       "        vertical-align: top;\n",
       "    }\n",
       "\n",
       "    .dataframe thead th {\n",
       "        text-align: right;\n",
       "    }\n",
       "</style>\n",
       "<table border=\"1\" class=\"dataframe\">\n",
       "  <thead>\n",
       "    <tr style=\"text-align: right;\">\n",
       "      <th></th>\n",
       "      <th>_time</th>\n",
       "      <th>threat_match_field</th>\n",
       "      <th>threat_match_value</th>\n",
       "      <th>sourcetype</th>\n",
       "      <th>src</th>\n",
       "      <th>dest</th>\n",
       "      <th>threat_collection</th>\n",
       "      <th>threat_group</th>\n",
       "      <th>threat_category</th>\n",
       "    </tr>\n",
       "  </thead>\n",
       "  <tbody>\n",
       "    <tr>\n",
       "      <th>0</th>\n",
       "      <td>2020-09-22 01:45:00</td>\n",
       "      <td>src</td>\n",
       "      <td>74.82.47</td>\n",
       "      <td>pan:traffic</td>\n",
       "      <td>74.82.47.4</td>\n",
       "      <td>186.10.122.22</td>\n",
       "      <td>ip_intel</td>\n",
       "      <td>blueliv_attacking_ips</td>\n",
       "      <td>threatlist</td>\n",
       "    </tr>\n",
       "    <tr>\n",
       "      <th>1</th>\n",
       "      <td>2020-09-21 22:45:00</td>\n",
       "      <td>dest</td>\n",
       "      <td>34.102.176</td>\n",
       "      <td>cisco:asa fgt_traffic</td>\n",
       "      <td>10.39.141.10 10.57.0.198 10.57.4.103 10.57.4.1...</td>\n",
       "      <td>34.102.176.152</td>\n",
       "      <td>ip_intel</td>\n",
       "      <td>blueliv_crimeservers</td>\n",
       "      <td>threatlist</td>\n",
       "    </tr>\n",
       "    <tr>\n",
       "      <th>2</th>\n",
       "      <td>2020-09-21 19:45:00</td>\n",
       "      <td>src</td>\n",
       "      <td>45.129.33</td>\n",
       "      <td>cisco:asa</td>\n",
       "      <td>45.129.33.142</td>\n",
       "      <td>10.44.0.141 10.44.0.142 172.16.20.79 186.67.17...</td>\n",
       "      <td>ip_intel</td>\n",
       "      <td>blueliv_attacking_ips</td>\n",
       "      <td>threatlist</td>\n",
       "    </tr>\n",
       "    <tr>\n",
       "      <th>3</th>\n",
       "      <td>2020-09-21 18:45:00</td>\n",
       "      <td>src</td>\n",
       "      <td>103.145.13</td>\n",
       "      <td>cisco:asa</td>\n",
       "      <td>103.145.13.43</td>\n",
       "      <td>10.44.0.141 172.16.20.79</td>\n",
       "      <td>ip_intel</td>\n",
       "      <td>blueliv_attacking_ips</td>\n",
       "      <td>threatlist</td>\n",
       "    </tr>\n",
       "    <tr>\n",
       "      <th>4</th>\n",
       "      <td>2020-09-21 17:45:00</td>\n",
       "      <td>src</td>\n",
       "      <td>84.17.43</td>\n",
       "      <td>cisco:asa</td>\n",
       "      <td>84.17.43.179</td>\n",
       "      <td>10.44.0.141 10.44.0.142</td>\n",
       "      <td>ip_intel</td>\n",
       "      <td>blueliv_attacking_ips</td>\n",
       "      <td>threatlist</td>\n",
       "    </tr>\n",
       "  </tbody>\n",
       "</table>\n",
       "</div>"
      ],
      "text/plain": [
       "                _time threat_match_field threat_match_value  \\\n",
       "0 2020-09-22 01:45:00                src           74.82.47   \n",
       "1 2020-09-21 22:45:00               dest         34.102.176   \n",
       "2 2020-09-21 19:45:00                src          45.129.33   \n",
       "3 2020-09-21 18:45:00                src         103.145.13   \n",
       "4 2020-09-21 17:45:00                src           84.17.43   \n",
       "\n",
       "              sourcetype                                                src  \\\n",
       "0            pan:traffic                                         74.82.47.4   \n",
       "1  cisco:asa fgt_traffic  10.39.141.10 10.57.0.198 10.57.4.103 10.57.4.1...   \n",
       "2              cisco:asa                                      45.129.33.142   \n",
       "3              cisco:asa                                      103.145.13.43   \n",
       "4              cisco:asa                                       84.17.43.179   \n",
       "\n",
       "                                                dest threat_collection  \\\n",
       "0                                      186.10.122.22          ip_intel   \n",
       "1                                     34.102.176.152          ip_intel   \n",
       "2  10.44.0.141 10.44.0.142 172.16.20.79 186.67.17...          ip_intel   \n",
       "3                           10.44.0.141 172.16.20.79          ip_intel   \n",
       "4                            10.44.0.141 10.44.0.142          ip_intel   \n",
       "\n",
       "            threat_group threat_category  \n",
       "0  blueliv_attacking_ips      threatlist  \n",
       "1   blueliv_crimeservers      threatlist  \n",
       "2  blueliv_attacking_ips      threatlist  \n",
       "3  blueliv_attacking_ips      threatlist  \n",
       "4  blueliv_attacking_ips      threatlist  "
      ]
     },
     "execution_count": 9,
     "metadata": {},
     "output_type": "execute_result"
    }
   ],
   "source": [
    "df_blueliv_ip = df_blueliv.copy()\n",
    "for i in range (len(df_blueliv_ip)):\n",
    "    lista = df_blueliv_ip.at[i,\"threat_match_value\"].split(\".\")\n",
    "    raiz_ip = \".\".join(lista[0:3])\n",
    "    df_blueliv_ip.at[i,\"threat_match_value\"] = raiz_ip\n",
    "df_blueliv_ip.head()"
   ]
  },
  {
   "cell_type": "code",
   "execution_count": 10,
   "metadata": {},
   "outputs": [
    {
     "name": "stdout",
     "output_type": "stream",
     "text": [
      "198.54.117     4\n",
      "139.99.125     3\n",
      "162.142.125    2\n",
      "185.221.134    2\n",
      "153.127.68     2\n",
      "103.145.13     1\n",
      "188.166.78     1\n",
      "45.129.33      1\n",
      "164.68.112     1\n",
      "85.159.233     1\n",
      "74.82.47       1\n",
      "18.213.250     1\n",
      "13.107.136     1\n",
      "167.89.123     1\n",
      "34.102.176     1\n",
      "84.17.43       1\n",
      "45.148.121     1\n",
      "Name: threat_match_value, dtype: int64\n"
     ]
    }
   ],
   "source": [
    "count = df_blueliv_ip['threat_match_value'].value_counts() \n",
    "print(count) "
   ]
  },
  {
   "cell_type": "code",
   "execution_count": 11,
   "metadata": {},
   "outputs": [
    {
     "name": "stdout",
     "output_type": "stream",
     "text": [
      "198.54.117     4\n",
      "139.99.125     3\n",
      "162.142.125    2\n",
      "185.221.134    2\n",
      "153.127.68     2\n",
      "103.145.13     1\n",
      "188.166.78     1\n",
      "45.129.33      1\n",
      "164.68.112     1\n",
      "85.159.233     1\n",
      "74.82.47       1\n",
      "18.213.250     1\n",
      "13.107.136     1\n",
      "167.89.123     1\n",
      "34.102.176     1\n",
      "84.17.43       1\n",
      "45.148.121     1\n",
      "Name: threat_match_value, dtype: int64\n"
     ]
    }
   ],
   "source": [
    "count = df_blueliv_ip['threat_match_value'].value_counts() \n",
    "print(count)"
   ]
  },
  {
   "cell_type": "code",
   "execution_count": 12,
   "metadata": {},
   "outputs": [
    {
     "name": "stderr",
     "output_type": "stream",
     "text": [
      "c:\\users\\pablo\\appdata\\local\\programs\\python\\python37\\lib\\site-packages\\ipykernel_launcher.py:1: FutureWarning: Treating datetime data as categorical rather than numeric in `.describe` is deprecated and will be removed in a future version of pandas. Specify `datetime_is_numeric=True` to silence this warning and adopt the future behavior now.\n",
      "  \"\"\"Entry point for launching an IPython kernel.\n"
     ]
    },
    {
     "data": {
      "text/html": [
       "<div>\n",
       "<style scoped>\n",
       "    .dataframe tbody tr th:only-of-type {\n",
       "        vertical-align: middle;\n",
       "    }\n",
       "\n",
       "    .dataframe tbody tr th {\n",
       "        vertical-align: top;\n",
       "    }\n",
       "\n",
       "    .dataframe thead th {\n",
       "        text-align: right;\n",
       "    }\n",
       "</style>\n",
       "<table border=\"1\" class=\"dataframe\">\n",
       "  <thead>\n",
       "    <tr style=\"text-align: right;\">\n",
       "      <th></th>\n",
       "      <th>_time</th>\n",
       "      <th>threat_match_field</th>\n",
       "      <th>threat_match_value</th>\n",
       "      <th>sourcetype</th>\n",
       "      <th>src</th>\n",
       "      <th>dest</th>\n",
       "      <th>threat_collection</th>\n",
       "      <th>threat_group</th>\n",
       "      <th>threat_category</th>\n",
       "    </tr>\n",
       "  </thead>\n",
       "  <tbody>\n",
       "    <tr>\n",
       "      <th>count</th>\n",
       "      <td>25</td>\n",
       "      <td>25</td>\n",
       "      <td>25</td>\n",
       "      <td>25</td>\n",
       "      <td>25</td>\n",
       "      <td>25</td>\n",
       "      <td>25</td>\n",
       "      <td>25</td>\n",
       "      <td>25</td>\n",
       "    </tr>\n",
       "    <tr>\n",
       "      <th>unique</th>\n",
       "      <td>19</td>\n",
       "      <td>2</td>\n",
       "      <td>17</td>\n",
       "      <td>3</td>\n",
       "      <td>19</td>\n",
       "      <td>18</td>\n",
       "      <td>1</td>\n",
       "      <td>3</td>\n",
       "      <td>1</td>\n",
       "    </tr>\n",
       "    <tr>\n",
       "      <th>top</th>\n",
       "      <td>2020-09-14 09:45:00</td>\n",
       "      <td>dest</td>\n",
       "      <td>198.54.117</td>\n",
       "      <td>cisco:asa</td>\n",
       "      <td>128.223.55.186</td>\n",
       "      <td>198.54.117.212</td>\n",
       "      <td>ip_intel</td>\n",
       "      <td>blueliv_attacking_ips</td>\n",
       "      <td>threatlist</td>\n",
       "    </tr>\n",
       "    <tr>\n",
       "      <th>freq</th>\n",
       "      <td>4</td>\n",
       "      <td>13</td>\n",
       "      <td>4</td>\n",
       "      <td>21</td>\n",
       "      <td>4</td>\n",
       "      <td>4</td>\n",
       "      <td>25</td>\n",
       "      <td>16</td>\n",
       "      <td>25</td>\n",
       "    </tr>\n",
       "    <tr>\n",
       "      <th>first</th>\n",
       "      <td>2020-08-23 00:45:00</td>\n",
       "      <td>NaN</td>\n",
       "      <td>NaN</td>\n",
       "      <td>NaN</td>\n",
       "      <td>NaN</td>\n",
       "      <td>NaN</td>\n",
       "      <td>NaN</td>\n",
       "      <td>NaN</td>\n",
       "      <td>NaN</td>\n",
       "    </tr>\n",
       "    <tr>\n",
       "      <th>last</th>\n",
       "      <td>2020-09-22 01:45:00</td>\n",
       "      <td>NaN</td>\n",
       "      <td>NaN</td>\n",
       "      <td>NaN</td>\n",
       "      <td>NaN</td>\n",
       "      <td>NaN</td>\n",
       "      <td>NaN</td>\n",
       "      <td>NaN</td>\n",
       "      <td>NaN</td>\n",
       "    </tr>\n",
       "  </tbody>\n",
       "</table>\n",
       "</div>"
      ],
      "text/plain": [
       "                      _time threat_match_field threat_match_value sourcetype  \\\n",
       "count                    25                 25                 25         25   \n",
       "unique                   19                  2                 17          3   \n",
       "top     2020-09-14 09:45:00               dest         198.54.117  cisco:asa   \n",
       "freq                      4                 13                  4         21   \n",
       "first   2020-08-23 00:45:00                NaN                NaN        NaN   \n",
       "last    2020-09-22 01:45:00                NaN                NaN        NaN   \n",
       "\n",
       "                   src            dest threat_collection  \\\n",
       "count               25              25                25   \n",
       "unique              19              18                 1   \n",
       "top     128.223.55.186  198.54.117.212          ip_intel   \n",
       "freq                 4               4                25   \n",
       "first              NaN             NaN               NaN   \n",
       "last               NaN             NaN               NaN   \n",
       "\n",
       "                 threat_group threat_category  \n",
       "count                      25              25  \n",
       "unique                      3               1  \n",
       "top     blueliv_attacking_ips      threatlist  \n",
       "freq                       16              25  \n",
       "first                     NaN             NaN  \n",
       "last                      NaN             NaN  "
      ]
     },
     "execution_count": 12,
     "metadata": {},
     "output_type": "execute_result"
    }
   ],
   "source": [
    "df_blueliv_ip.describe()"
   ]
  },
  {
   "cell_type": "markdown",
   "metadata": {},
   "source": [
    "# IPDAN"
   ]
  },
  {
   "cell_type": "code",
   "execution_count": 13,
   "metadata": {},
   "outputs": [
    {
     "data": {
      "text/html": [
       "<div>\n",
       "<style scoped>\n",
       "    .dataframe tbody tr th:only-of-type {\n",
       "        vertical-align: middle;\n",
       "    }\n",
       "\n",
       "    .dataframe tbody tr th {\n",
       "        vertical-align: top;\n",
       "    }\n",
       "\n",
       "    .dataframe thead th {\n",
       "        text-align: right;\n",
       "    }\n",
       "</style>\n",
       "<table border=\"1\" class=\"dataframe\">\n",
       "  <thead>\n",
       "    <tr style=\"text-align: right;\">\n",
       "      <th></th>\n",
       "      <th>_time</th>\n",
       "      <th>threat_match_field</th>\n",
       "      <th>threat_match_value</th>\n",
       "      <th>sourcetype</th>\n",
       "      <th>src</th>\n",
       "      <th>dest</th>\n",
       "      <th>threat_collection</th>\n",
       "      <th>threat_group</th>\n",
       "      <th>threat_category</th>\n",
       "    </tr>\n",
       "  </thead>\n",
       "  <tbody>\n",
       "    <tr>\n",
       "      <th>0</th>\n",
       "      <td>2020-09-22 08:15:00</td>\n",
       "      <td>dest</td>\n",
       "      <td>62.210.244.146</td>\n",
       "      <td>cisco:asa fgt_traffic</td>\n",
       "      <td>10.39.141.88 10.43.33.30 10.43.38.59 10.43.41....</td>\n",
       "      <td>62.210.244.146</td>\n",
       "      <td>ip_intel</td>\n",
       "      <td>ipdan_tor</td>\n",
       "      <td>threatlist</td>\n",
       "    </tr>\n",
       "    <tr>\n",
       "      <th>1</th>\n",
       "      <td>2020-09-22 08:15:00</td>\n",
       "      <td>src</td>\n",
       "      <td>91.109.29.76</td>\n",
       "      <td>cisco:asa</td>\n",
       "      <td>91.109.29.76</td>\n",
       "      <td>186.67.180.161</td>\n",
       "      <td>ip_intel</td>\n",
       "      <td>ipdan_tor</td>\n",
       "      <td>threatlist</td>\n",
       "    </tr>\n",
       "    <tr>\n",
       "      <th>2</th>\n",
       "      <td>2020-09-22 07:15:00</td>\n",
       "      <td>dest</td>\n",
       "      <td>37.187.17.67</td>\n",
       "      <td>cisco:asa fgt_traffic</td>\n",
       "      <td>10.30.247.108 172.17.225.13 192.168.188.121 19...</td>\n",
       "      <td>37.187.17.67</td>\n",
       "      <td>ip_intel</td>\n",
       "      <td>ipdan_tor</td>\n",
       "      <td>threatlist</td>\n",
       "    </tr>\n",
       "    <tr>\n",
       "      <th>3</th>\n",
       "      <td>2020-09-22 07:15:00</td>\n",
       "      <td>dest</td>\n",
       "      <td>81.169.167.88</td>\n",
       "      <td>pan:traffic</td>\n",
       "      <td>172.18.173.196</td>\n",
       "      <td>81.169.167.88</td>\n",
       "      <td>ip_intel</td>\n",
       "      <td>ipdan_tor</td>\n",
       "      <td>threatlist</td>\n",
       "    </tr>\n",
       "    <tr>\n",
       "      <th>4</th>\n",
       "      <td>2020-09-22 06:45:00</td>\n",
       "      <td>dest</td>\n",
       "      <td>198.27.64.215</td>\n",
       "      <td>fgt_traffic</td>\n",
       "      <td>192.168.86.115 192.168.86.116 192.168.86.206</td>\n",
       "      <td>198.27.64.215</td>\n",
       "      <td>ip_intel</td>\n",
       "      <td>ipdan_tor</td>\n",
       "      <td>threatlist</td>\n",
       "    </tr>\n",
       "  </tbody>\n",
       "</table>\n",
       "</div>"
      ],
      "text/plain": [
       "                _time threat_match_field threat_match_value  \\\n",
       "0 2020-09-22 08:15:00               dest     62.210.244.146   \n",
       "1 2020-09-22 08:15:00                src       91.109.29.76   \n",
       "2 2020-09-22 07:15:00               dest       37.187.17.67   \n",
       "3 2020-09-22 07:15:00               dest      81.169.167.88   \n",
       "4 2020-09-22 06:45:00               dest      198.27.64.215   \n",
       "\n",
       "              sourcetype                                                src  \\\n",
       "0  cisco:asa fgt_traffic  10.39.141.88 10.43.33.30 10.43.38.59 10.43.41....   \n",
       "1              cisco:asa                                       91.109.29.76   \n",
       "2  cisco:asa fgt_traffic  10.30.247.108 172.17.225.13 192.168.188.121 19...   \n",
       "3            pan:traffic                                     172.18.173.196   \n",
       "4            fgt_traffic       192.168.86.115 192.168.86.116 192.168.86.206   \n",
       "\n",
       "             dest threat_collection threat_group threat_category  \n",
       "0  62.210.244.146          ip_intel    ipdan_tor      threatlist  \n",
       "1  186.67.180.161          ip_intel    ipdan_tor      threatlist  \n",
       "2    37.187.17.67          ip_intel    ipdan_tor      threatlist  \n",
       "3   81.169.167.88          ip_intel    ipdan_tor      threatlist  \n",
       "4   198.27.64.215          ip_intel    ipdan_tor      threatlist  "
      ]
     },
     "execution_count": 13,
     "metadata": {},
     "output_type": "execute_result"
    }
   ],
   "source": [
    "df_ipdan = pd.read_excel(\"threat_activity.xlsx\", sheet_name= \"ipdan\")\n",
    "df_ipdan = df_ipdan.drop(columns=\"Per-panel Filter\")\n",
    "df_ipdan.head()"
   ]
  },
  {
   "cell_type": "markdown",
   "metadata": {},
   "source": [
    "### Análisis de día"
   ]
  },
  {
   "cell_type": "code",
   "execution_count": 108,
   "metadata": {},
   "outputs": [
    {
     "data": {
      "text/html": [
       "<div>\n",
       "<style scoped>\n",
       "    .dataframe tbody tr th:only-of-type {\n",
       "        vertical-align: middle;\n",
       "    }\n",
       "\n",
       "    .dataframe tbody tr th {\n",
       "        vertical-align: top;\n",
       "    }\n",
       "\n",
       "    .dataframe thead th {\n",
       "        text-align: right;\n",
       "    }\n",
       "</style>\n",
       "<table border=\"1\" class=\"dataframe\">\n",
       "  <thead>\n",
       "    <tr style=\"text-align: right;\">\n",
       "      <th></th>\n",
       "      <th>_time</th>\n",
       "      <th>threat_match_field</th>\n",
       "      <th>threat_match_value</th>\n",
       "      <th>sourcetype</th>\n",
       "      <th>src</th>\n",
       "      <th>dest</th>\n",
       "      <th>threat_collection</th>\n",
       "      <th>threat_group</th>\n",
       "      <th>threat_category</th>\n",
       "      <th>Day_id</th>\n",
       "    </tr>\n",
       "  </thead>\n",
       "  <tbody>\n",
       "    <tr>\n",
       "      <th>85</th>\n",
       "      <td>Monday</td>\n",
       "      <td>dest</td>\n",
       "      <td>94.16.114.254</td>\n",
       "      <td>cisco:asa fgt_traffic</td>\n",
       "      <td>10.40.27.22 10.43.38.58 10.43.52.77 172.17.225...</td>\n",
       "      <td>94.16.114.254</td>\n",
       "      <td>ip_intel</td>\n",
       "      <td>ipdan_tor</td>\n",
       "      <td>threatlist</td>\n",
       "      <td>0.0</td>\n",
       "    </tr>\n",
       "    <tr>\n",
       "      <th>533</th>\n",
       "      <td>Monday</td>\n",
       "      <td>src</td>\n",
       "      <td>185.220.101.140</td>\n",
       "      <td>cisco:asa</td>\n",
       "      <td>185.220.101.140</td>\n",
       "      <td>10.44.0.141 192.168.198.170</td>\n",
       "      <td>ip_intel</td>\n",
       "      <td>ipdan_tor</td>\n",
       "      <td>threatlist</td>\n",
       "      <td>0.0</td>\n",
       "    </tr>\n",
       "    <tr>\n",
       "      <th>534</th>\n",
       "      <td>Monday</td>\n",
       "      <td>src</td>\n",
       "      <td>185.220.101.195</td>\n",
       "      <td>cisco:asa</td>\n",
       "      <td>185.220.101.195</td>\n",
       "      <td>10.44.10.10 192.168.198.170</td>\n",
       "      <td>ip_intel</td>\n",
       "      <td>ipdan_tor</td>\n",
       "      <td>threatlist</td>\n",
       "      <td>0.0</td>\n",
       "    </tr>\n",
       "    <tr>\n",
       "      <th>535</th>\n",
       "      <td>Monday</td>\n",
       "      <td>src</td>\n",
       "      <td>185.220.101.215</td>\n",
       "      <td>cisco:asa</td>\n",
       "      <td>185.220.101.215</td>\n",
       "      <td>10.44.10.10 10.49.15.156 172.16.20.79 192.168....</td>\n",
       "      <td>ip_intel</td>\n",
       "      <td>ipdan_tor</td>\n",
       "      <td>threatlist</td>\n",
       "      <td>0.0</td>\n",
       "    </tr>\n",
       "    <tr>\n",
       "      <th>536</th>\n",
       "      <td>Monday</td>\n",
       "      <td>dest</td>\n",
       "      <td>158.58.173.78</td>\n",
       "      <td>pan:traffic</td>\n",
       "      <td>172.18.173.196</td>\n",
       "      <td>158.58.173.78</td>\n",
       "      <td>ip_intel</td>\n",
       "      <td>ipdan_tor</td>\n",
       "      <td>threatlist</td>\n",
       "      <td>0.0</td>\n",
       "    </tr>\n",
       "  </tbody>\n",
       "</table>\n",
       "</div>"
      ],
      "text/plain": [
       "      _time threat_match_field threat_match_value             sourcetype  \\\n",
       "85   Monday               dest      94.16.114.254  cisco:asa fgt_traffic   \n",
       "533  Monday                src    185.220.101.140              cisco:asa   \n",
       "534  Monday                src    185.220.101.195              cisco:asa   \n",
       "535  Monday                src    185.220.101.215              cisco:asa   \n",
       "536  Monday               dest      158.58.173.78            pan:traffic   \n",
       "\n",
       "                                                   src  \\\n",
       "85   10.40.27.22 10.43.38.58 10.43.52.77 172.17.225...   \n",
       "533                                    185.220.101.140   \n",
       "534                                    185.220.101.195   \n",
       "535                                    185.220.101.215   \n",
       "536                                     172.18.173.196   \n",
       "\n",
       "                                                  dest threat_collection  \\\n",
       "85                                       94.16.114.254          ip_intel   \n",
       "533                        10.44.0.141 192.168.198.170          ip_intel   \n",
       "534                        10.44.10.10 192.168.198.170          ip_intel   \n",
       "535  10.44.10.10 10.49.15.156 172.16.20.79 192.168....          ip_intel   \n",
       "536                                      158.58.173.78          ip_intel   \n",
       "\n",
       "    threat_group threat_category  Day_id  \n",
       "85     ipdan_tor      threatlist     0.0  \n",
       "533    ipdan_tor      threatlist     0.0  \n",
       "534    ipdan_tor      threatlist     0.0  \n",
       "535    ipdan_tor      threatlist     0.0  \n",
       "536    ipdan_tor      threatlist     0.0  "
      ]
     },
     "execution_count": 108,
     "metadata": {},
     "output_type": "execute_result"
    }
   ],
   "source": [
    "df_ipdan_day = df_ipdan.copy()\n",
    "for i in range (len(df_ipdan_day)):\n",
    "    df_ipdan_day.at[i,\"_time\"] = calendar.day_name[df_ipdan.at[i,\"_time\"].weekday()]\n",
    "    df_ipdan_day.at[i,\"Day_id\"] = df_ipdan.at[i,\"_time\"].weekday()\n",
    "df_ipdan_day.sort_values('Day_id', inplace=True)\n",
    "df_ipdan_day.head()"
   ]
  },
  {
   "cell_type": "code",
   "execution_count": 131,
   "metadata": {},
   "outputs": [
    {
     "data": {
      "text/plain": [
       "[Text(0.5, 0, 'Día'),\n",
       " Text(0, 0.5, 'Cantidad de eventos'),\n",
       " Text(0.5, 1.0, 'Eventos Ipdan')]"
      ]
     },
     "execution_count": 131,
     "metadata": {},
     "output_type": "execute_result"
    },
    {
     "data": {
      "image/png": "[encoded data removed]",
      "text/plain": [
       "<Figure size 432x288 with 1 Axes>"
      ]
     },
     "metadata": {
      "needs_background": "light"
     },
     "output_type": "display_data"
    }
   ],
   "source": [
    "datos_dias_ipdan = sns.countplot(x=\"_time\", data=df_ipdan_day)\n",
    "datos_dias_ipdan.set(xlabel='Día', ylabel='Cantidad de eventos', title=\"Eventos Ipdan\")"
   ]
  },
  {
   "cell_type": "markdown",
   "metadata": {},
   "source": [
    "### Analisis de hora"
   ]
  },
  {
   "cell_type": "code",
   "execution_count": 16,
   "metadata": {},
   "outputs": [
    {
     "data": {
      "text/html": [
       "<div>\n",
       "<style scoped>\n",
       "    .dataframe tbody tr th:only-of-type {\n",
       "        vertical-align: middle;\n",
       "    }\n",
       "\n",
       "    .dataframe tbody tr th {\n",
       "        vertical-align: top;\n",
       "    }\n",
       "\n",
       "    .dataframe thead th {\n",
       "        text-align: right;\n",
       "    }\n",
       "</style>\n",
       "<table border=\"1\" class=\"dataframe\">\n",
       "  <thead>\n",
       "    <tr style=\"text-align: right;\">\n",
       "      <th></th>\n",
       "      <th>_time</th>\n",
       "      <th>threat_match_field</th>\n",
       "      <th>threat_match_value</th>\n",
       "      <th>sourcetype</th>\n",
       "      <th>src</th>\n",
       "      <th>dest</th>\n",
       "      <th>threat_collection</th>\n",
       "      <th>threat_group</th>\n",
       "      <th>threat_category</th>\n",
       "    </tr>\n",
       "  </thead>\n",
       "  <tbody>\n",
       "    <tr>\n",
       "      <th>0</th>\n",
       "      <td>8</td>\n",
       "      <td>dest</td>\n",
       "      <td>62.210.244.146</td>\n",
       "      <td>cisco:asa fgt_traffic</td>\n",
       "      <td>10.39.141.88 10.43.33.30 10.43.38.59 10.43.41....</td>\n",
       "      <td>62.210.244.146</td>\n",
       "      <td>ip_intel</td>\n",
       "      <td>ipdan_tor</td>\n",
       "      <td>threatlist</td>\n",
       "    </tr>\n",
       "    <tr>\n",
       "      <th>1</th>\n",
       "      <td>8</td>\n",
       "      <td>src</td>\n",
       "      <td>91.109.29.76</td>\n",
       "      <td>cisco:asa</td>\n",
       "      <td>91.109.29.76</td>\n",
       "      <td>186.67.180.161</td>\n",
       "      <td>ip_intel</td>\n",
       "      <td>ipdan_tor</td>\n",
       "      <td>threatlist</td>\n",
       "    </tr>\n",
       "    <tr>\n",
       "      <th>2</th>\n",
       "      <td>7</td>\n",
       "      <td>dest</td>\n",
       "      <td>37.187.17.67</td>\n",
       "      <td>cisco:asa fgt_traffic</td>\n",
       "      <td>10.30.247.108 172.17.225.13 192.168.188.121 19...</td>\n",
       "      <td>37.187.17.67</td>\n",
       "      <td>ip_intel</td>\n",
       "      <td>ipdan_tor</td>\n",
       "      <td>threatlist</td>\n",
       "    </tr>\n",
       "    <tr>\n",
       "      <th>3</th>\n",
       "      <td>7</td>\n",
       "      <td>dest</td>\n",
       "      <td>81.169.167.88</td>\n",
       "      <td>pan:traffic</td>\n",
       "      <td>172.18.173.196</td>\n",
       "      <td>81.169.167.88</td>\n",
       "      <td>ip_intel</td>\n",
       "      <td>ipdan_tor</td>\n",
       "      <td>threatlist</td>\n",
       "    </tr>\n",
       "    <tr>\n",
       "      <th>4</th>\n",
       "      <td>6</td>\n",
       "      <td>dest</td>\n",
       "      <td>198.27.64.215</td>\n",
       "      <td>fgt_traffic</td>\n",
       "      <td>192.168.86.115 192.168.86.116 192.168.86.206</td>\n",
       "      <td>198.27.64.215</td>\n",
       "      <td>ip_intel</td>\n",
       "      <td>ipdan_tor</td>\n",
       "      <td>threatlist</td>\n",
       "    </tr>\n",
       "  </tbody>\n",
       "</table>\n",
       "</div>"
      ],
      "text/plain": [
       "  _time threat_match_field threat_match_value             sourcetype  \\\n",
       "0     8               dest     62.210.244.146  cisco:asa fgt_traffic   \n",
       "1     8                src       91.109.29.76              cisco:asa   \n",
       "2     7               dest       37.187.17.67  cisco:asa fgt_traffic   \n",
       "3     7               dest      81.169.167.88            pan:traffic   \n",
       "4     6               dest      198.27.64.215            fgt_traffic   \n",
       "\n",
       "                                                 src            dest  \\\n",
       "0  10.39.141.88 10.43.33.30 10.43.38.59 10.43.41....  62.210.244.146   \n",
       "1                                       91.109.29.76  186.67.180.161   \n",
       "2  10.30.247.108 172.17.225.13 192.168.188.121 19...    37.187.17.67   \n",
       "3                                     172.18.173.196   81.169.167.88   \n",
       "4       192.168.86.115 192.168.86.116 192.168.86.206   198.27.64.215   \n",
       "\n",
       "  threat_collection threat_group threat_category  \n",
       "0          ip_intel    ipdan_tor      threatlist  \n",
       "1          ip_intel    ipdan_tor      threatlist  \n",
       "2          ip_intel    ipdan_tor      threatlist  \n",
       "3          ip_intel    ipdan_tor      threatlist  \n",
       "4          ip_intel    ipdan_tor      threatlist  "
      ]
     },
     "execution_count": 16,
     "metadata": {},
     "output_type": "execute_result"
    }
   ],
   "source": [
    "df_ipdan_time = df_ipdan.copy()\n",
    "for i in range (len(df_ipdan_time)):\n",
    "    df_ipdan_time.at[i,\"_time\"] = df_ipdan_time.at[i,\"_time\"].hour\n",
    "df_ipdan_time.head()"
   ]
  },
  {
   "cell_type": "code",
   "execution_count": 132,
   "metadata": {},
   "outputs": [
    {
     "data": {
      "text/plain": [
       "[Text(0.5, 0, 'Tiempo (horas)'),\n",
       " Text(0, 0.5, 'Cantidad de eventos'),\n",
       " Text(0.5, 1.0, 'Eventos Ipdan')]"
      ]
     },
     "execution_count": 132,
     "metadata": {},
     "output_type": "execute_result"
    },
    {
     "data": {
      "image/png": "[encoded data removed]",
      "text/plain": [
       "<Figure size 432x288 with 1 Axes>"
      ]
     },
     "metadata": {
      "needs_background": "light"
     },
     "output_type": "display_data"
    }
   ],
   "source": [
    "datos_hora_ipdan = sns.countplot(x=\"_time\", data=df_ipdan_time)\n",
    "datos_hora_ipdan.set(xlabel='Tiempo (horas)', ylabel='Cantidad de eventos', title=\"Eventos Ipdan\")"
   ]
  },
  {
   "cell_type": "markdown",
   "metadata": {},
   "source": [
    "### Análisis de IP"
   ]
  },
  {
   "cell_type": "code",
   "execution_count": 18,
   "metadata": {},
   "outputs": [
    {
     "data": {
      "text/html": [
       "<div>\n",
       "<style scoped>\n",
       "    .dataframe tbody tr th:only-of-type {\n",
       "        vertical-align: middle;\n",
       "    }\n",
       "\n",
       "    .dataframe tbody tr th {\n",
       "        vertical-align: top;\n",
       "    }\n",
       "\n",
       "    .dataframe thead th {\n",
       "        text-align: right;\n",
       "    }\n",
       "</style>\n",
       "<table border=\"1\" class=\"dataframe\">\n",
       "  <thead>\n",
       "    <tr style=\"text-align: right;\">\n",
       "      <th></th>\n",
       "      <th>_time</th>\n",
       "      <th>threat_match_field</th>\n",
       "      <th>threat_match_value</th>\n",
       "      <th>sourcetype</th>\n",
       "      <th>src</th>\n",
       "      <th>dest</th>\n",
       "      <th>threat_collection</th>\n",
       "      <th>threat_group</th>\n",
       "      <th>threat_category</th>\n",
       "    </tr>\n",
       "  </thead>\n",
       "  <tbody>\n",
       "    <tr>\n",
       "      <th>0</th>\n",
       "      <td>2020-09-22 08:15:00</td>\n",
       "      <td>dest</td>\n",
       "      <td>62.210.244</td>\n",
       "      <td>cisco:asa fgt_traffic</td>\n",
       "      <td>10.39.141.88 10.43.33.30 10.43.38.59 10.43.41....</td>\n",
       "      <td>62.210.244.146</td>\n",
       "      <td>ip_intel</td>\n",
       "      <td>ipdan_tor</td>\n",
       "      <td>threatlist</td>\n",
       "    </tr>\n",
       "    <tr>\n",
       "      <th>1</th>\n",
       "      <td>2020-09-22 08:15:00</td>\n",
       "      <td>src</td>\n",
       "      <td>91.109.29</td>\n",
       "      <td>cisco:asa</td>\n",
       "      <td>91.109.29.76</td>\n",
       "      <td>186.67.180.161</td>\n",
       "      <td>ip_intel</td>\n",
       "      <td>ipdan_tor</td>\n",
       "      <td>threatlist</td>\n",
       "    </tr>\n",
       "    <tr>\n",
       "      <th>2</th>\n",
       "      <td>2020-09-22 07:15:00</td>\n",
       "      <td>dest</td>\n",
       "      <td>37.187.17</td>\n",
       "      <td>cisco:asa fgt_traffic</td>\n",
       "      <td>10.30.247.108 172.17.225.13 192.168.188.121 19...</td>\n",
       "      <td>37.187.17.67</td>\n",
       "      <td>ip_intel</td>\n",
       "      <td>ipdan_tor</td>\n",
       "      <td>threatlist</td>\n",
       "    </tr>\n",
       "    <tr>\n",
       "      <th>3</th>\n",
       "      <td>2020-09-22 07:15:00</td>\n",
       "      <td>dest</td>\n",
       "      <td>81.169.167</td>\n",
       "      <td>pan:traffic</td>\n",
       "      <td>172.18.173.196</td>\n",
       "      <td>81.169.167.88</td>\n",
       "      <td>ip_intel</td>\n",
       "      <td>ipdan_tor</td>\n",
       "      <td>threatlist</td>\n",
       "    </tr>\n",
       "    <tr>\n",
       "      <th>4</th>\n",
       "      <td>2020-09-22 06:45:00</td>\n",
       "      <td>dest</td>\n",
       "      <td>198.27.64</td>\n",
       "      <td>fgt_traffic</td>\n",
       "      <td>192.168.86.115 192.168.86.116 192.168.86.206</td>\n",
       "      <td>198.27.64.215</td>\n",
       "      <td>ip_intel</td>\n",
       "      <td>ipdan_tor</td>\n",
       "      <td>threatlist</td>\n",
       "    </tr>\n",
       "  </tbody>\n",
       "</table>\n",
       "</div>"
      ],
      "text/plain": [
       "                _time threat_match_field threat_match_value  \\\n",
       "0 2020-09-22 08:15:00               dest         62.210.244   \n",
       "1 2020-09-22 08:15:00                src          91.109.29   \n",
       "2 2020-09-22 07:15:00               dest          37.187.17   \n",
       "3 2020-09-22 07:15:00               dest         81.169.167   \n",
       "4 2020-09-22 06:45:00               dest          198.27.64   \n",
       "\n",
       "              sourcetype                                                src  \\\n",
       "0  cisco:asa fgt_traffic  10.39.141.88 10.43.33.30 10.43.38.59 10.43.41....   \n",
       "1              cisco:asa                                       91.109.29.76   \n",
       "2  cisco:asa fgt_traffic  10.30.247.108 172.17.225.13 192.168.188.121 19...   \n",
       "3            pan:traffic                                     172.18.173.196   \n",
       "4            fgt_traffic       192.168.86.115 192.168.86.116 192.168.86.206   \n",
       "\n",
       "             dest threat_collection threat_group threat_category  \n",
       "0  62.210.244.146          ip_intel    ipdan_tor      threatlist  \n",
       "1  186.67.180.161          ip_intel    ipdan_tor      threatlist  \n",
       "2    37.187.17.67          ip_intel    ipdan_tor      threatlist  \n",
       "3   81.169.167.88          ip_intel    ipdan_tor      threatlist  \n",
       "4   198.27.64.215          ip_intel    ipdan_tor      threatlist  "
      ]
     },
     "execution_count": 18,
     "metadata": {},
     "output_type": "execute_result"
    }
   ],
   "source": [
    "df_ipdan_ip = df_ipdan.copy()\n",
    "for i in range (len(df_ipdan_ip)):\n",
    "    lista = df_ipdan_ip.at[i,\"threat_match_value\"].split(\".\")\n",
    "    raiz_ip = \".\".join(lista[0:3])\n",
    "    df_ipdan_ip.at[i,\"threat_match_value\"] = raiz_ip\n",
    "df_ipdan_ip.head()"
   ]
  },
  {
   "cell_type": "code",
   "execution_count": 19,
   "metadata": {},
   "outputs": [
    {
     "name": "stdout",
     "output_type": "stream",
     "text": [
      "107.189.10.101     2\n",
      "107.189.11.163     2\n",
      "107.189.11.80      2\n",
      "107.189.10.93      2\n",
      "89.163.143.8       2\n",
      "                  ..\n",
      "195.154.164.243    1\n",
      "5.252.176.20       1\n",
      "94.16.116.137      1\n",
      "185.86.148.90      1\n",
      "192.42.116.13      1\n",
      "Name: threat_match_value, Length: 1015, dtype: int64\n"
     ]
    }
   ],
   "source": [
    "count = df_ipdan['threat_match_value'].value_counts() \n",
    "print(count) "
   ]
  },
  {
   "cell_type": "code",
   "execution_count": 20,
   "metadata": {},
   "outputs": [
    {
     "name": "stdout",
     "output_type": "stream",
     "text": [
      "185.220.101    50\n",
      "51.81.82       23\n",
      "107.189.10     16\n",
      "185.220.102    13\n",
      "185.220.100    12\n",
      "               ..\n",
      "104.211.230     1\n",
      "159.69.186      1\n",
      "51.75.64        1\n",
      "51.15.112       1\n",
      "147.135.112     1\n",
      "Name: threat_match_value, Length: 754, dtype: int64\n"
     ]
    }
   ],
   "source": [
    "count = df_ipdan_ip['threat_match_value'].value_counts() \n",
    "print(count) "
   ]
  },
  {
   "cell_type": "code",
   "execution_count": 21,
   "metadata": {},
   "outputs": [
    {
     "name": "stdout",
     "output_type": "stream",
     "text": [
      "pan:traffic                                    675\n",
      "f5:bigip:asm:syslog                            134\n",
      "cisco:asa                                      120\n",
      "cisco:asa fgt_traffic                           27\n",
      "cisco:asa f5:bigip:asm:syslog                   23\n",
      "cisco:asa pan:traffic                           14\n",
      "fgt_traffic                                     10\n",
      "cisco:asa fgt_traffic pan:traffic                6\n",
      "cisco:asa f5:bigip:asm:syslog pan:traffic        6\n",
      "f5:bigip:asm:syslog pan:traffic                  6\n",
      "f5:bigip:asm:syslog fgt_traffic                  3\n",
      "cisco:asa fgt_utm                                2\n",
      "cisco:asa f5:bigip:asm:syslog fgt_traffic        2\n",
      "f5:bigip:asm:syslog fgt_traffic pan:traffic      1\n",
      "fgt_traffic pan:traffic                          1\n",
      "Name: sourcetype, dtype: int64\n"
     ]
    }
   ],
   "source": [
    "count = df_ipdan_ip['sourcetype'].value_counts() \n",
    "print(count) "
   ]
  },
  {
   "cell_type": "markdown",
   "metadata": {},
   "source": [
    "# SANS"
   ]
  },
  {
   "cell_type": "code",
   "execution_count": 24,
   "metadata": {},
   "outputs": [
    {
     "data": {
      "text/html": [
       "<div>\n",
       "<style scoped>\n",
       "    .dataframe tbody tr th:only-of-type {\n",
       "        vertical-align: middle;\n",
       "    }\n",
       "\n",
       "    .dataframe tbody tr th {\n",
       "        vertical-align: top;\n",
       "    }\n",
       "\n",
       "    .dataframe thead th {\n",
       "        text-align: right;\n",
       "    }\n",
       "</style>\n",
       "<table border=\"1\" class=\"dataframe\">\n",
       "  <thead>\n",
       "    <tr style=\"text-align: right;\">\n",
       "      <th></th>\n",
       "      <th>_time</th>\n",
       "      <th>threat_match_field</th>\n",
       "      <th>threat_match_value</th>\n",
       "      <th>sourcetype</th>\n",
       "      <th>src</th>\n",
       "      <th>dest</th>\n",
       "      <th>threat_collection</th>\n",
       "      <th>threat_group</th>\n",
       "      <th>threat_category</th>\n",
       "    </tr>\n",
       "  </thead>\n",
       "  <tbody>\n",
       "    <tr>\n",
       "      <th>0</th>\n",
       "      <td>2020-09-22 08:45:00</td>\n",
       "      <td>dest</td>\n",
       "      <td>103.145.13.57</td>\n",
       "      <td>cisco:asa</td>\n",
       "      <td>192.168.198.137</td>\n",
       "      <td>103.145.13.57</td>\n",
       "      <td>ip_intel</td>\n",
       "      <td>sans</td>\n",
       "      <td>threatlist</td>\n",
       "    </tr>\n",
       "    <tr>\n",
       "      <th>1</th>\n",
       "      <td>2020-09-22 08:45:00</td>\n",
       "      <td>dest</td>\n",
       "      <td>162.142.125.19</td>\n",
       "      <td>cisco:asa</td>\n",
       "      <td>10.44.0.141 10.44.0.142 192.168.198.137</td>\n",
       "      <td>162.142.125.19</td>\n",
       "      <td>ip_intel</td>\n",
       "      <td>sans</td>\n",
       "      <td>threatlist</td>\n",
       "    </tr>\n",
       "    <tr>\n",
       "      <th>2</th>\n",
       "      <td>2020-09-22 08:45:00</td>\n",
       "      <td>dest</td>\n",
       "      <td>162.142.125.23</td>\n",
       "      <td>cisco:asa</td>\n",
       "      <td>10.44.0.141 10.44.0.142 192.168.198.137</td>\n",
       "      <td>162.142.125.23</td>\n",
       "      <td>ip_intel</td>\n",
       "      <td>sans</td>\n",
       "      <td>threatlist</td>\n",
       "    </tr>\n",
       "    <tr>\n",
       "      <th>3</th>\n",
       "      <td>2020-09-22 08:45:00</td>\n",
       "      <td>dest</td>\n",
       "      <td>167.248.133.29</td>\n",
       "      <td>cisco:asa</td>\n",
       "      <td>10.44.0.141 10.44.0.142 192.168.198.137</td>\n",
       "      <td>167.248.133.29</td>\n",
       "      <td>ip_intel</td>\n",
       "      <td>sans</td>\n",
       "      <td>threatlist</td>\n",
       "    </tr>\n",
       "    <tr>\n",
       "      <th>4</th>\n",
       "      <td>2020-09-22 08:45:00</td>\n",
       "      <td>src</td>\n",
       "      <td>103.145.13.193</td>\n",
       "      <td>cisco:asa</td>\n",
       "      <td>103.145.13.193</td>\n",
       "      <td>10.44.0.141 10.44.0.142 172.16.20.79 192.168.1...</td>\n",
       "      <td>ip_intel</td>\n",
       "      <td>sans</td>\n",
       "      <td>threatlist</td>\n",
       "    </tr>\n",
       "  </tbody>\n",
       "</table>\n",
       "</div>"
      ],
      "text/plain": [
       "                _time threat_match_field threat_match_value sourcetype  \\\n",
       "0 2020-09-22 08:45:00               dest      103.145.13.57  cisco:asa   \n",
       "1 2020-09-22 08:45:00               dest     162.142.125.19  cisco:asa   \n",
       "2 2020-09-22 08:45:00               dest     162.142.125.23  cisco:asa   \n",
       "3 2020-09-22 08:45:00               dest     167.248.133.29  cisco:asa   \n",
       "4 2020-09-22 08:45:00                src     103.145.13.193  cisco:asa   \n",
       "\n",
       "                                       src  \\\n",
       "0                          192.168.198.137   \n",
       "1  10.44.0.141 10.44.0.142 192.168.198.137   \n",
       "2  10.44.0.141 10.44.0.142 192.168.198.137   \n",
       "3  10.44.0.141 10.44.0.142 192.168.198.137   \n",
       "4                           103.145.13.193   \n",
       "\n",
       "                                                dest threat_collection  \\\n",
       "0                                      103.145.13.57          ip_intel   \n",
       "1                                     162.142.125.19          ip_intel   \n",
       "2                                     162.142.125.23          ip_intel   \n",
       "3                                     167.248.133.29          ip_intel   \n",
       "4  10.44.0.141 10.44.0.142 172.16.20.79 192.168.1...          ip_intel   \n",
       "\n",
       "  threat_group threat_category  \n",
       "0         sans      threatlist  \n",
       "1         sans      threatlist  \n",
       "2         sans      threatlist  \n",
       "3         sans      threatlist  \n",
       "4         sans      threatlist  "
      ]
     },
     "execution_count": 24,
     "metadata": {},
     "output_type": "execute_result"
    }
   ],
   "source": [
    "df_sans = pd.read_excel(\"threat_activity.xlsx\", sheet_name= \"sans\")\n",
    "df_sans = df_sans.drop(columns=\"Per-panel Filter\")\n",
    "df_sans.head()"
   ]
  },
  {
   "cell_type": "markdown",
   "metadata": {},
   "source": [
    "### Análisis día"
   ]
  },
  {
   "cell_type": "code",
   "execution_count": 110,
   "metadata": {},
   "outputs": [
    {
     "data": {
      "text/html": [
       "<div>\n",
       "<style scoped>\n",
       "    .dataframe tbody tr th:only-of-type {\n",
       "        vertical-align: middle;\n",
       "    }\n",
       "\n",
       "    .dataframe tbody tr th {\n",
       "        vertical-align: top;\n",
       "    }\n",
       "\n",
       "    .dataframe thead th {\n",
       "        text-align: right;\n",
       "    }\n",
       "</style>\n",
       "<table border=\"1\" class=\"dataframe\">\n",
       "  <thead>\n",
       "    <tr style=\"text-align: right;\">\n",
       "      <th></th>\n",
       "      <th>_time</th>\n",
       "      <th>threat_match_field</th>\n",
       "      <th>threat_match_value</th>\n",
       "      <th>sourcetype</th>\n",
       "      <th>src</th>\n",
       "      <th>dest</th>\n",
       "      <th>threat_collection</th>\n",
       "      <th>threat_group</th>\n",
       "      <th>threat_category</th>\n",
       "      <th>Day_id</th>\n",
       "    </tr>\n",
       "  </thead>\n",
       "  <tbody>\n",
       "    <tr>\n",
       "      <th>275</th>\n",
       "      <td>Monday</td>\n",
       "      <td>src</td>\n",
       "      <td>193.27.228.156</td>\n",
       "      <td>cisco:asa</td>\n",
       "      <td>193.27.228.156</td>\n",
       "      <td>10.44.0.141 10.44.0.142 172.16.20.79 192.168.1...</td>\n",
       "      <td>ip_intel</td>\n",
       "      <td>sans</td>\n",
       "      <td>threatlist</td>\n",
       "      <td>0.0</td>\n",
       "    </tr>\n",
       "    <tr>\n",
       "      <th>287</th>\n",
       "      <td>Monday</td>\n",
       "      <td>src</td>\n",
       "      <td>185.193.90.54</td>\n",
       "      <td>cisco:asa</td>\n",
       "      <td>185.193.90.54</td>\n",
       "      <td>192.168.198.100</td>\n",
       "      <td>ip_intel</td>\n",
       "      <td>sans</td>\n",
       "      <td>threatlist</td>\n",
       "      <td>0.0</td>\n",
       "    </tr>\n",
       "    <tr>\n",
       "      <th>286</th>\n",
       "      <td>Monday</td>\n",
       "      <td>dest</td>\n",
       "      <td>45.129.33.209</td>\n",
       "      <td>pan:traffic</td>\n",
       "      <td>172.18.173.196</td>\n",
       "      <td>45.129.33.209</td>\n",
       "      <td>ip_intel</td>\n",
       "      <td>sans</td>\n",
       "      <td>threatlist</td>\n",
       "      <td>0.0</td>\n",
       "    </tr>\n",
       "    <tr>\n",
       "      <th>285</th>\n",
       "      <td>Monday</td>\n",
       "      <td>dest</td>\n",
       "      <td>103.145.13.229</td>\n",
       "      <td>cisco:asa</td>\n",
       "      <td>192.168.198.137</td>\n",
       "      <td>103.145.13.229</td>\n",
       "      <td>ip_intel</td>\n",
       "      <td>sans</td>\n",
       "      <td>threatlist</td>\n",
       "      <td>0.0</td>\n",
       "    </tr>\n",
       "    <tr>\n",
       "      <th>284</th>\n",
       "      <td>Monday</td>\n",
       "      <td>src</td>\n",
       "      <td>192.241.237.60</td>\n",
       "      <td>cisco:asa</td>\n",
       "      <td>192.241.237.60</td>\n",
       "      <td>10.44.0.142</td>\n",
       "      <td>ip_intel</td>\n",
       "      <td>sans</td>\n",
       "      <td>threatlist</td>\n",
       "      <td>0.0</td>\n",
       "    </tr>\n",
       "  </tbody>\n",
       "</table>\n",
       "</div>"
      ],
      "text/plain": [
       "      _time threat_match_field threat_match_value   sourcetype  \\\n",
       "275  Monday                src     193.27.228.156    cisco:asa   \n",
       "287  Monday                src      185.193.90.54    cisco:asa   \n",
       "286  Monday               dest      45.129.33.209  pan:traffic   \n",
       "285  Monday               dest     103.145.13.229    cisco:asa   \n",
       "284  Monday                src     192.241.237.60    cisco:asa   \n",
       "\n",
       "                 src                                               dest  \\\n",
       "275   193.27.228.156  10.44.0.141 10.44.0.142 172.16.20.79 192.168.1...   \n",
       "287    185.193.90.54                                    192.168.198.100   \n",
       "286   172.18.173.196                                      45.129.33.209   \n",
       "285  192.168.198.137                                     103.145.13.229   \n",
       "284   192.241.237.60                                        10.44.0.142   \n",
       "\n",
       "    threat_collection threat_group threat_category  Day_id  \n",
       "275          ip_intel         sans      threatlist     0.0  \n",
       "287          ip_intel         sans      threatlist     0.0  \n",
       "286          ip_intel         sans      threatlist     0.0  \n",
       "285          ip_intel         sans      threatlist     0.0  \n",
       "284          ip_intel         sans      threatlist     0.0  "
      ]
     },
     "execution_count": 110,
     "metadata": {},
     "output_type": "execute_result"
    }
   ],
   "source": [
    "df_sans_day = df_sans.copy()\n",
    "for i in range (len(df_sans_day)):\n",
    "    df_sans_day.at[i,\"_time\"] = calendar.day_name[df_sans.at[i,\"_time\"].weekday()]\n",
    "    df_sans_day.at[i,\"Day_id\"] = df_sans.at[i,\"_time\"].weekday()\n",
    "df_sans_day.sort_values('Day_id', inplace=True)\n",
    "df_sans_day.head()"
   ]
  },
  {
   "cell_type": "code",
   "execution_count": 133,
   "metadata": {},
   "outputs": [
    {
     "data": {
      "text/plain": [
       "[Text(0.5, 0, 'Día'),\n",
       " Text(0, 0.5, 'Cantidad de eventos'),\n",
       " Text(0.5, 1.0, 'Eventos Sans')]"
      ]
     },
     "execution_count": 133,
     "metadata": {},
     "output_type": "execute_result"
    },
    {
     "data": {
      "image/png": "[encoded data removed]",
      "text/plain": [
       "<Figure size 432x288 with 1 Axes>"
      ]
     },
     "metadata": {
      "needs_background": "light"
     },
     "output_type": "display_data"
    }
   ],
   "source": [
    "datos_dia_sans = sns.countplot(x=\"_time\", data=df_ipdan_day)\n",
    "datos_dia_sans.set(xlabel='Día', ylabel='Cantidad de eventos', title=\"Eventos Sans\")"
   ]
  },
  {
   "cell_type": "markdown",
   "metadata": {},
   "source": [
    "### Análisis hora "
   ]
  },
  {
   "cell_type": "code",
   "execution_count": 27,
   "metadata": {},
   "outputs": [
    {
     "data": {
      "text/html": [
       "<div>\n",
       "<style scoped>\n",
       "    .dataframe tbody tr th:only-of-type {\n",
       "        vertical-align: middle;\n",
       "    }\n",
       "\n",
       "    .dataframe tbody tr th {\n",
       "        vertical-align: top;\n",
       "    }\n",
       "\n",
       "    .dataframe thead th {\n",
       "        text-align: right;\n",
       "    }\n",
       "</style>\n",
       "<table border=\"1\" class=\"dataframe\">\n",
       "  <thead>\n",
       "    <tr style=\"text-align: right;\">\n",
       "      <th></th>\n",
       "      <th>_time</th>\n",
       "      <th>threat_match_field</th>\n",
       "      <th>threat_match_value</th>\n",
       "      <th>sourcetype</th>\n",
       "      <th>src</th>\n",
       "      <th>dest</th>\n",
       "      <th>threat_collection</th>\n",
       "      <th>threat_group</th>\n",
       "      <th>threat_category</th>\n",
       "    </tr>\n",
       "  </thead>\n",
       "  <tbody>\n",
       "    <tr>\n",
       "      <th>0</th>\n",
       "      <td>8</td>\n",
       "      <td>dest</td>\n",
       "      <td>103.145.13.57</td>\n",
       "      <td>cisco:asa</td>\n",
       "      <td>192.168.198.137</td>\n",
       "      <td>103.145.13.57</td>\n",
       "      <td>ip_intel</td>\n",
       "      <td>sans</td>\n",
       "      <td>threatlist</td>\n",
       "    </tr>\n",
       "    <tr>\n",
       "      <th>1</th>\n",
       "      <td>8</td>\n",
       "      <td>dest</td>\n",
       "      <td>162.142.125.19</td>\n",
       "      <td>cisco:asa</td>\n",
       "      <td>10.44.0.141 10.44.0.142 192.168.198.137</td>\n",
       "      <td>162.142.125.19</td>\n",
       "      <td>ip_intel</td>\n",
       "      <td>sans</td>\n",
       "      <td>threatlist</td>\n",
       "    </tr>\n",
       "    <tr>\n",
       "      <th>2</th>\n",
       "      <td>8</td>\n",
       "      <td>dest</td>\n",
       "      <td>162.142.125.23</td>\n",
       "      <td>cisco:asa</td>\n",
       "      <td>10.44.0.141 10.44.0.142 192.168.198.137</td>\n",
       "      <td>162.142.125.23</td>\n",
       "      <td>ip_intel</td>\n",
       "      <td>sans</td>\n",
       "      <td>threatlist</td>\n",
       "    </tr>\n",
       "    <tr>\n",
       "      <th>3</th>\n",
       "      <td>8</td>\n",
       "      <td>dest</td>\n",
       "      <td>167.248.133.29</td>\n",
       "      <td>cisco:asa</td>\n",
       "      <td>10.44.0.141 10.44.0.142 192.168.198.137</td>\n",
       "      <td>167.248.133.29</td>\n",
       "      <td>ip_intel</td>\n",
       "      <td>sans</td>\n",
       "      <td>threatlist</td>\n",
       "    </tr>\n",
       "    <tr>\n",
       "      <th>4</th>\n",
       "      <td>8</td>\n",
       "      <td>src</td>\n",
       "      <td>103.145.13.193</td>\n",
       "      <td>cisco:asa</td>\n",
       "      <td>103.145.13.193</td>\n",
       "      <td>10.44.0.141 10.44.0.142 172.16.20.79 192.168.1...</td>\n",
       "      <td>ip_intel</td>\n",
       "      <td>sans</td>\n",
       "      <td>threatlist</td>\n",
       "    </tr>\n",
       "  </tbody>\n",
       "</table>\n",
       "</div>"
      ],
      "text/plain": [
       "  _time threat_match_field threat_match_value sourcetype  \\\n",
       "0     8               dest      103.145.13.57  cisco:asa   \n",
       "1     8               dest     162.142.125.19  cisco:asa   \n",
       "2     8               dest     162.142.125.23  cisco:asa   \n",
       "3     8               dest     167.248.133.29  cisco:asa   \n",
       "4     8                src     103.145.13.193  cisco:asa   \n",
       "\n",
       "                                       src  \\\n",
       "0                          192.168.198.137   \n",
       "1  10.44.0.141 10.44.0.142 192.168.198.137   \n",
       "2  10.44.0.141 10.44.0.142 192.168.198.137   \n",
       "3  10.44.0.141 10.44.0.142 192.168.198.137   \n",
       "4                           103.145.13.193   \n",
       "\n",
       "                                                dest threat_collection  \\\n",
       "0                                      103.145.13.57          ip_intel   \n",
       "1                                     162.142.125.19          ip_intel   \n",
       "2                                     162.142.125.23          ip_intel   \n",
       "3                                     167.248.133.29          ip_intel   \n",
       "4  10.44.0.141 10.44.0.142 172.16.20.79 192.168.1...          ip_intel   \n",
       "\n",
       "  threat_group threat_category  \n",
       "0         sans      threatlist  \n",
       "1         sans      threatlist  \n",
       "2         sans      threatlist  \n",
       "3         sans      threatlist  \n",
       "4         sans      threatlist  "
      ]
     },
     "execution_count": 27,
     "metadata": {},
     "output_type": "execute_result"
    }
   ],
   "source": [
    "df_sans_time = df_sans.copy()\n",
    "for i in range (len(df_sans_time)):\n",
    "    df_sans_time.at[i,\"_time\"] = df_sans_time.at[i,\"_time\"].hour\n",
    "df_sans_time.head()"
   ]
  },
  {
   "cell_type": "code",
   "execution_count": 134,
   "metadata": {},
   "outputs": [
    {
     "data": {
      "text/plain": [
       "[Text(0.5, 0, 'Tiempo (horas)'),\n",
       " Text(0, 0.5, 'Cantidad de eventos'),\n",
       " Text(0.5, 1.0, 'Eventos Sans')]"
      ]
     },
     "execution_count": 134,
     "metadata": {},
     "output_type": "execute_result"
    },
    {
     "data": {
      "image/png": "[encoded data removed]",
      "text/plain": [
       "<Figure size 432x288 with 1 Axes>"
      ]
     },
     "metadata": {
      "needs_background": "light"
     },
     "output_type": "display_data"
    }
   ],
   "source": [
    "datos_hora_sans = sns.countplot(x=\"_time\", data=df_sans_time)\n",
    "datos_hora_sans.set(xlabel='Tiempo (horas)', ylabel='Cantidad de eventos', title=\"Eventos Sans\")"
   ]
  },
  {
   "cell_type": "markdown",
   "metadata": {},
   "source": [
    "### Análisis IP"
   ]
  },
  {
   "cell_type": "code",
   "execution_count": 29,
   "metadata": {},
   "outputs": [
    {
     "data": {
      "text/html": [
       "<div>\n",
       "<style scoped>\n",
       "    .dataframe tbody tr th:only-of-type {\n",
       "        vertical-align: middle;\n",
       "    }\n",
       "\n",
       "    .dataframe tbody tr th {\n",
       "        vertical-align: top;\n",
       "    }\n",
       "\n",
       "    .dataframe thead th {\n",
       "        text-align: right;\n",
       "    }\n",
       "</style>\n",
       "<table border=\"1\" class=\"dataframe\">\n",
       "  <thead>\n",
       "    <tr style=\"text-align: right;\">\n",
       "      <th></th>\n",
       "      <th>_time</th>\n",
       "      <th>threat_match_field</th>\n",
       "      <th>threat_match_value</th>\n",
       "      <th>sourcetype</th>\n",
       "      <th>src</th>\n",
       "      <th>dest</th>\n",
       "      <th>threat_collection</th>\n",
       "      <th>threat_group</th>\n",
       "      <th>threat_category</th>\n",
       "    </tr>\n",
       "  </thead>\n",
       "  <tbody>\n",
       "    <tr>\n",
       "      <th>0</th>\n",
       "      <td>2020-09-22 08:45:00</td>\n",
       "      <td>dest</td>\n",
       "      <td>103.145.13</td>\n",
       "      <td>cisco:asa</td>\n",
       "      <td>192.168.198.137</td>\n",
       "      <td>103.145.13.57</td>\n",
       "      <td>ip_intel</td>\n",
       "      <td>sans</td>\n",
       "      <td>threatlist</td>\n",
       "    </tr>\n",
       "    <tr>\n",
       "      <th>1</th>\n",
       "      <td>2020-09-22 08:45:00</td>\n",
       "      <td>dest</td>\n",
       "      <td>162.142.125</td>\n",
       "      <td>cisco:asa</td>\n",
       "      <td>10.44.0.141 10.44.0.142 192.168.198.137</td>\n",
       "      <td>162.142.125.19</td>\n",
       "      <td>ip_intel</td>\n",
       "      <td>sans</td>\n",
       "      <td>threatlist</td>\n",
       "    </tr>\n",
       "    <tr>\n",
       "      <th>2</th>\n",
       "      <td>2020-09-22 08:45:00</td>\n",
       "      <td>dest</td>\n",
       "      <td>162.142.125</td>\n",
       "      <td>cisco:asa</td>\n",
       "      <td>10.44.0.141 10.44.0.142 192.168.198.137</td>\n",
       "      <td>162.142.125.23</td>\n",
       "      <td>ip_intel</td>\n",
       "      <td>sans</td>\n",
       "      <td>threatlist</td>\n",
       "    </tr>\n",
       "    <tr>\n",
       "      <th>3</th>\n",
       "      <td>2020-09-22 08:45:00</td>\n",
       "      <td>dest</td>\n",
       "      <td>167.248.133</td>\n",
       "      <td>cisco:asa</td>\n",
       "      <td>10.44.0.141 10.44.0.142 192.168.198.137</td>\n",
       "      <td>167.248.133.29</td>\n",
       "      <td>ip_intel</td>\n",
       "      <td>sans</td>\n",
       "      <td>threatlist</td>\n",
       "    </tr>\n",
       "    <tr>\n",
       "      <th>4</th>\n",
       "      <td>2020-09-22 08:45:00</td>\n",
       "      <td>src</td>\n",
       "      <td>103.145.13</td>\n",
       "      <td>cisco:asa</td>\n",
       "      <td>103.145.13.193</td>\n",
       "      <td>10.44.0.141 10.44.0.142 172.16.20.79 192.168.1...</td>\n",
       "      <td>ip_intel</td>\n",
       "      <td>sans</td>\n",
       "      <td>threatlist</td>\n",
       "    </tr>\n",
       "  </tbody>\n",
       "</table>\n",
       "</div>"
      ],
      "text/plain": [
       "                _time threat_match_field threat_match_value sourcetype  \\\n",
       "0 2020-09-22 08:45:00               dest         103.145.13  cisco:asa   \n",
       "1 2020-09-22 08:45:00               dest        162.142.125  cisco:asa   \n",
       "2 2020-09-22 08:45:00               dest        162.142.125  cisco:asa   \n",
       "3 2020-09-22 08:45:00               dest        167.248.133  cisco:asa   \n",
       "4 2020-09-22 08:45:00                src         103.145.13  cisco:asa   \n",
       "\n",
       "                                       src  \\\n",
       "0                          192.168.198.137   \n",
       "1  10.44.0.141 10.44.0.142 192.168.198.137   \n",
       "2  10.44.0.141 10.44.0.142 192.168.198.137   \n",
       "3  10.44.0.141 10.44.0.142 192.168.198.137   \n",
       "4                           103.145.13.193   \n",
       "\n",
       "                                                dest threat_collection  \\\n",
       "0                                      103.145.13.57          ip_intel   \n",
       "1                                     162.142.125.19          ip_intel   \n",
       "2                                     162.142.125.23          ip_intel   \n",
       "3                                     167.248.133.29          ip_intel   \n",
       "4  10.44.0.141 10.44.0.142 172.16.20.79 192.168.1...          ip_intel   \n",
       "\n",
       "  threat_group threat_category  \n",
       "0         sans      threatlist  \n",
       "1         sans      threatlist  \n",
       "2         sans      threatlist  \n",
       "3         sans      threatlist  \n",
       "4         sans      threatlist  "
      ]
     },
     "execution_count": 29,
     "metadata": {},
     "output_type": "execute_result"
    }
   ],
   "source": [
    "df_sans_ip = df_sans.copy()\n",
    "for i in range (len(df_sans_ip)):\n",
    "    lista = df_sans_ip.at[i,\"threat_match_value\"].split(\".\")\n",
    "    raiz_ip = \".\".join(lista[0:3])\n",
    "    df_sans_ip.at[i,\"threat_match_value\"] = raiz_ip\n",
    "df_sans_ip.head()"
   ]
  },
  {
   "cell_type": "code",
   "execution_count": 141,
   "metadata": {},
   "outputs": [
    {
     "name": "stdout",
     "output_type": "stream",
     "text": [
      "80.82.77.193       2\n",
      "167.248.133.34     2\n",
      "103.145.13.221     2\n",
      "103.145.13.16      2\n",
      "162.243.128.36     2\n",
      "                  ..\n",
      "141.98.81.26       1\n",
      "192.241.223.178    1\n",
      "167.248.133.36     1\n",
      "88.214.26.167      1\n",
      "87.251.74.23       1\n",
      "Name: threat_match_value, Length: 1489, dtype: int64\n"
     ]
    }
   ],
   "source": [
    "count = df_sans['threat_match_value'].value_counts() \n",
    "print(count) "
   ]
  },
  {
   "cell_type": "code",
   "execution_count": 30,
   "metadata": {},
   "outputs": [
    {
     "name": "stdout",
     "output_type": "stream",
     "text": [
      "87.251.74      256\n",
      "45.141.84      254\n",
      "103.145.13     103\n",
      "162.243.128     88\n",
      "162.142.125     84\n",
      "              ... \n",
      "164.90.223       1\n",
      "164.90.214       1\n",
      "45.134.179       1\n",
      "185.200.34       1\n",
      "89.248.168       1\n",
      "Name: threat_match_value, Length: 72, dtype: int64\n"
     ]
    }
   ],
   "source": [
    "count = df_sans_ip['threat_match_value'].value_counts() \n",
    "print(count) "
   ]
  },
  {
   "cell_type": "code",
   "execution_count": 31,
   "metadata": {},
   "outputs": [
    {
     "name": "stdout",
     "output_type": "stream",
     "text": [
      "cisco:asa                                                        901\n",
      "pan:traffic                                                      586\n",
      "cisco:asa pan:traffic                                            100\n",
      "cisco:asa f5:bigip:asm:syslog fgt_traffic pan:traffic             33\n",
      "cisco:asa fgt_traffic                                             12\n",
      "cisco:asa fgt_traffic pan:traffic                                 10\n",
      "fgt_traffic                                                        7\n",
      "f5:bigip:asm:syslog                                                6\n",
      "cisco:asa f5:bigip:asm:syslog                                      4\n",
      "cisco:asa f5:bigip:asm:syslog pan:traffic                          4\n",
      "cisco:asa f5:bigip:asm:syslog fgt_traffic                          3\n",
      "cisco:asa f5:bigip:asm:syslog fgt_traffic fgt_utm pan:traffic      2\n",
      "fgt_utm                                                            1\n",
      "fgt_traffic fgt_utm                                                1\n",
      "cisco:asa fgt_traffic fgt_utm pan:traffic                          1\n",
      "Name: sourcetype, dtype: int64\n"
     ]
    }
   ],
   "source": [
    "count = df_sans_ip['sourcetype'].value_counts() \n",
    "print(count) "
   ]
  },
  {
   "cell_type": "code",
   "execution_count": 32,
   "metadata": {},
   "outputs": [
    {
     "name": "stdout",
     "output_type": "stream",
     "text": [
      "172.18.173.196                             574\n",
      "10.44.0.141 10.44.0.142 192.168.198.137     67\n",
      "192.168.198.137                             58\n",
      "10.44.0.141 10.44.0.142                     15\n",
      "10.44.0.141                                 11\n",
      "                                          ... \n",
      "192.241.237.193                              1\n",
      "94.102.49.7                                  1\n",
      "45.148.10.11                                 1\n",
      "193.27.228.156                               1\n",
      "192.241.230.58                               1\n",
      "Name: src, Length: 934, dtype: int64\n"
     ]
    }
   ],
   "source": [
    "count = df_sans_ip['src'].value_counts() \n",
    "print(count) "
   ]
  },
  {
   "cell_type": "markdown",
   "metadata": {},
   "source": [
    "# COMPROMISED_IP"
   ]
  },
  {
   "cell_type": "code",
   "execution_count": 33,
   "metadata": {},
   "outputs": [
    {
     "data": {
      "text/html": [
       "<div>\n",
       "<style scoped>\n",
       "    .dataframe tbody tr th:only-of-type {\n",
       "        vertical-align: middle;\n",
       "    }\n",
       "\n",
       "    .dataframe tbody tr th {\n",
       "        vertical-align: top;\n",
       "    }\n",
       "\n",
       "    .dataframe thead th {\n",
       "        text-align: right;\n",
       "    }\n",
       "</style>\n",
       "<table border=\"1\" class=\"dataframe\">\n",
       "  <thead>\n",
       "    <tr style=\"text-align: right;\">\n",
       "      <th></th>\n",
       "      <th>_time</th>\n",
       "      <th>threat_match_field</th>\n",
       "      <th>threat_match_value</th>\n",
       "      <th>sourcetype</th>\n",
       "      <th>src</th>\n",
       "      <th>dest</th>\n",
       "      <th>threat_collection</th>\n",
       "      <th>threat_group</th>\n",
       "      <th>threat_category</th>\n",
       "    </tr>\n",
       "  </thead>\n",
       "  <tbody>\n",
       "    <tr>\n",
       "      <th>0</th>\n",
       "      <td>2020-09-22 08:45:00</td>\n",
       "      <td>src</td>\n",
       "      <td>45.148.10.28</td>\n",
       "      <td>cisco:asa f5:bigip:asm:syslog fgt_traffic pan:...</td>\n",
       "      <td>45.148.10.28</td>\n",
       "      <td>10.44.0.141 10.44.0.142 10.44.1.145 10.44.10.1...</td>\n",
       "      <td>ip_intel</td>\n",
       "      <td>emerging_threats_compromised_ip_blocklist</td>\n",
       "      <td>threatlist</td>\n",
       "    </tr>\n",
       "    <tr>\n",
       "      <th>1</th>\n",
       "      <td>2020-09-22 07:45:00</td>\n",
       "      <td>src</td>\n",
       "      <td>95.213.243.77</td>\n",
       "      <td>cisco:asa</td>\n",
       "      <td>95.213.243.77</td>\n",
       "      <td>172.16.20.79 192.168.198.100</td>\n",
       "      <td>ip_intel</td>\n",
       "      <td>emerging_threats_compromised_ip_blocklist</td>\n",
       "      <td>threatlist</td>\n",
       "    </tr>\n",
       "    <tr>\n",
       "      <th>2</th>\n",
       "      <td>2020-09-22 06:45:00</td>\n",
       "      <td>src</td>\n",
       "      <td>64.227.61.176</td>\n",
       "      <td>cisco:asa</td>\n",
       "      <td>64.227.61.176</td>\n",
       "      <td>172.16.20.79</td>\n",
       "      <td>ip_intel</td>\n",
       "      <td>emerging_threats_compromised_ip_blocklist</td>\n",
       "      <td>threatlist</td>\n",
       "    </tr>\n",
       "    <tr>\n",
       "      <th>3</th>\n",
       "      <td>2020-09-22 06:45:00</td>\n",
       "      <td>src</td>\n",
       "      <td>85.209.0.103</td>\n",
       "      <td>cisco:asa</td>\n",
       "      <td>85.209.0.103</td>\n",
       "      <td>172.16.20.79</td>\n",
       "      <td>ip_intel</td>\n",
       "      <td>emerging_threats_compromised_ip_blocklist</td>\n",
       "      <td>threatlist</td>\n",
       "    </tr>\n",
       "    <tr>\n",
       "      <th>4</th>\n",
       "      <td>2020-09-22 06:15:00</td>\n",
       "      <td>src</td>\n",
       "      <td>192.42.116.16</td>\n",
       "      <td>pan:traffic</td>\n",
       "      <td>192.42.116.16</td>\n",
       "      <td>181.42.57.231</td>\n",
       "      <td>ip_intel</td>\n",
       "      <td>emerging_threats_compromised_ip_blocklist</td>\n",
       "      <td>threatlist</td>\n",
       "    </tr>\n",
       "  </tbody>\n",
       "</table>\n",
       "</div>"
      ],
      "text/plain": [
       "                _time threat_match_field threat_match_value  \\\n",
       "0 2020-09-22 08:45:00                src       45.148.10.28   \n",
       "1 2020-09-22 07:45:00                src      95.213.243.77   \n",
       "2 2020-09-22 06:45:00                src      64.227.61.176   \n",
       "3 2020-09-22 06:45:00                src       85.209.0.103   \n",
       "4 2020-09-22 06:15:00                src      192.42.116.16   \n",
       "\n",
       "                                          sourcetype            src  \\\n",
       "0  cisco:asa f5:bigip:asm:syslog fgt_traffic pan:...   45.148.10.28   \n",
       "1                                          cisco:asa  95.213.243.77   \n",
       "2                                          cisco:asa  64.227.61.176   \n",
       "3                                          cisco:asa   85.209.0.103   \n",
       "4                                        pan:traffic  192.42.116.16   \n",
       "\n",
       "                                                dest threat_collection  \\\n",
       "0  10.44.0.141 10.44.0.142 10.44.1.145 10.44.10.1...          ip_intel   \n",
       "1                       172.16.20.79 192.168.198.100          ip_intel   \n",
       "2                                       172.16.20.79          ip_intel   \n",
       "3                                       172.16.20.79          ip_intel   \n",
       "4                                      181.42.57.231          ip_intel   \n",
       "\n",
       "                                threat_group threat_category  \n",
       "0  emerging_threats_compromised_ip_blocklist      threatlist  \n",
       "1  emerging_threats_compromised_ip_blocklist      threatlist  \n",
       "2  emerging_threats_compromised_ip_blocklist      threatlist  \n",
       "3  emerging_threats_compromised_ip_blocklist      threatlist  \n",
       "4  emerging_threats_compromised_ip_blocklist      threatlist  "
      ]
     },
     "execution_count": 33,
     "metadata": {},
     "output_type": "execute_result"
    }
   ],
   "source": [
    "df_compromised_ip = pd.read_excel(\"threat_activity.xlsx\", sheet_name= \"emerging_threats_compromised_ip\")\n",
    "df_compromised_ip = df_compromised_ip.drop(columns=\"Per-panel Filter\")\n",
    "df_compromised_ip.head()"
   ]
  },
  {
   "cell_type": "markdown",
   "metadata": {},
   "source": [
    "### Análisis día"
   ]
  },
  {
   "cell_type": "code",
   "execution_count": 112,
   "metadata": {},
   "outputs": [
    {
     "data": {
      "text/html": [
       "<div>\n",
       "<style scoped>\n",
       "    .dataframe tbody tr th:only-of-type {\n",
       "        vertical-align: middle;\n",
       "    }\n",
       "\n",
       "    .dataframe tbody tr th {\n",
       "        vertical-align: top;\n",
       "    }\n",
       "\n",
       "    .dataframe thead th {\n",
       "        text-align: right;\n",
       "    }\n",
       "</style>\n",
       "<table border=\"1\" class=\"dataframe\">\n",
       "  <thead>\n",
       "    <tr style=\"text-align: right;\">\n",
       "      <th></th>\n",
       "      <th>_time</th>\n",
       "      <th>threat_match_field</th>\n",
       "      <th>threat_match_value</th>\n",
       "      <th>sourcetype</th>\n",
       "      <th>src</th>\n",
       "      <th>dest</th>\n",
       "      <th>threat_collection</th>\n",
       "      <th>threat_group</th>\n",
       "      <th>threat_category</th>\n",
       "      <th>Day_id</th>\n",
       "    </tr>\n",
       "  </thead>\n",
       "  <tbody>\n",
       "    <tr>\n",
       "      <th>44</th>\n",
       "      <td>Monday</td>\n",
       "      <td>src</td>\n",
       "      <td>104.244.74.223</td>\n",
       "      <td>cisco:asa</td>\n",
       "      <td>104.244.74.223</td>\n",
       "      <td>172.16.20.79 192.168.198.100</td>\n",
       "      <td>ip_intel</td>\n",
       "      <td>emerging_threats_compromised_ip_blocklist</td>\n",
       "      <td>threatlist</td>\n",
       "      <td>0.0</td>\n",
       "    </tr>\n",
       "    <tr>\n",
       "      <th>33</th>\n",
       "      <td>Monday</td>\n",
       "      <td>src</td>\n",
       "      <td>85.209.0.251</td>\n",
       "      <td>cisco:asa</td>\n",
       "      <td>85.209.0.251</td>\n",
       "      <td>172.16.20.79</td>\n",
       "      <td>ip_intel</td>\n",
       "      <td>emerging_threats_compromised_ip_blocklist</td>\n",
       "      <td>threatlist</td>\n",
       "      <td>0.0</td>\n",
       "    </tr>\n",
       "    <tr>\n",
       "      <th>34</th>\n",
       "      <td>Monday</td>\n",
       "      <td>src</td>\n",
       "      <td>31.220.3.107</td>\n",
       "      <td>fgt_traffic pan:traffic</td>\n",
       "      <td>31.220.3.107</td>\n",
       "      <td>152.231.86.59 186.10.122.22</td>\n",
       "      <td>ip_intel</td>\n",
       "      <td>emerging_threats_compromised_ip_blocklist</td>\n",
       "      <td>threatlist</td>\n",
       "      <td>0.0</td>\n",
       "    </tr>\n",
       "    <tr>\n",
       "      <th>35</th>\n",
       "      <td>Monday</td>\n",
       "      <td>src</td>\n",
       "      <td>45.95.168.215</td>\n",
       "      <td>cisco:asa</td>\n",
       "      <td>45.95.168.215</td>\n",
       "      <td>172.16.20.79 192.168.198.100</td>\n",
       "      <td>ip_intel</td>\n",
       "      <td>emerging_threats_compromised_ip_blocklist</td>\n",
       "      <td>threatlist</td>\n",
       "      <td>0.0</td>\n",
       "    </tr>\n",
       "    <tr>\n",
       "      <th>36</th>\n",
       "      <td>Monday</td>\n",
       "      <td>src</td>\n",
       "      <td>31.184.198.75</td>\n",
       "      <td>cisco:asa</td>\n",
       "      <td>31.184.198.75</td>\n",
       "      <td>192.168.198.100</td>\n",
       "      <td>ip_intel</td>\n",
       "      <td>emerging_threats_compromised_ip_blocklist</td>\n",
       "      <td>threatlist</td>\n",
       "      <td>0.0</td>\n",
       "    </tr>\n",
       "  </tbody>\n",
       "</table>\n",
       "</div>"
      ],
      "text/plain": [
       "     _time threat_match_field threat_match_value               sourcetype  \\\n",
       "44  Monday                src     104.244.74.223                cisco:asa   \n",
       "33  Monday                src       85.209.0.251                cisco:asa   \n",
       "34  Monday                src       31.220.3.107  fgt_traffic pan:traffic   \n",
       "35  Monday                src      45.95.168.215                cisco:asa   \n",
       "36  Monday                src      31.184.198.75                cisco:asa   \n",
       "\n",
       "               src                          dest threat_collection  \\\n",
       "44  104.244.74.223  172.16.20.79 192.168.198.100          ip_intel   \n",
       "33    85.209.0.251                  172.16.20.79          ip_intel   \n",
       "34    31.220.3.107   152.231.86.59 186.10.122.22          ip_intel   \n",
       "35   45.95.168.215  172.16.20.79 192.168.198.100          ip_intel   \n",
       "36   31.184.198.75               192.168.198.100          ip_intel   \n",
       "\n",
       "                                 threat_group threat_category  Day_id  \n",
       "44  emerging_threats_compromised_ip_blocklist      threatlist     0.0  \n",
       "33  emerging_threats_compromised_ip_blocklist      threatlist     0.0  \n",
       "34  emerging_threats_compromised_ip_blocklist      threatlist     0.0  \n",
       "35  emerging_threats_compromised_ip_blocklist      threatlist     0.0  \n",
       "36  emerging_threats_compromised_ip_blocklist      threatlist     0.0  "
      ]
     },
     "execution_count": 112,
     "metadata": {},
     "output_type": "execute_result"
    }
   ],
   "source": [
    "df_compromised_ip_day= df_compromised_ip.copy()\n",
    "for i in range (len(df_compromised_ip_day)):\n",
    "    df_compromised_ip_day.at[i,\"_time\"] = calendar.day_name[df_compromised_ip.at[i,\"_time\"].weekday()]\n",
    "    df_compromised_ip_day.at[i,\"Day_id\"] = df_compromised_ip.at[i,\"_time\"].weekday()\n",
    "df_compromised_ip_day.sort_values('Day_id', inplace=True)\n",
    "df_compromised_ip_day.head()"
   ]
  },
  {
   "cell_type": "code",
   "execution_count": 135,
   "metadata": {},
   "outputs": [
    {
     "data": {
      "text/plain": [
       "[Text(0.5, 0, 'Dia'),\n",
       " Text(0, 0.5, 'Cantidad de eventos'),\n",
       " Text(0.5, 1.0, 'Eventos IP Compromised')]"
      ]
     },
     "execution_count": 135,
     "metadata": {},
     "output_type": "execute_result"
    },
    {
     "data": {
      "image/png": "[encoded data removed]",
      "text/plain": [
       "<Figure size 432x288 with 1 Axes>"
      ]
     },
     "metadata": {
      "needs_background": "light"
     },
     "output_type": "display_data"
    }
   ],
   "source": [
    "datos_dia_ip_compromised = sns.countplot(x=\"_time\", data=df_compromised_ip_day)\n",
    "datos_dia_ip_compromised.set(xlabel='Dia', ylabel='Cantidad de eventos', title=\"Eventos IP Compromised\")"
   ]
  },
  {
   "cell_type": "markdown",
   "metadata": {},
   "source": [
    "### Análisis hora "
   ]
  },
  {
   "cell_type": "code",
   "execution_count": 36,
   "metadata": {},
   "outputs": [
    {
     "data": {
      "text/html": [
       "<div>\n",
       "<style scoped>\n",
       "    .dataframe tbody tr th:only-of-type {\n",
       "        vertical-align: middle;\n",
       "    }\n",
       "\n",
       "    .dataframe tbody tr th {\n",
       "        vertical-align: top;\n",
       "    }\n",
       "\n",
       "    .dataframe thead th {\n",
       "        text-align: right;\n",
       "    }\n",
       "</style>\n",
       "<table border=\"1\" class=\"dataframe\">\n",
       "  <thead>\n",
       "    <tr style=\"text-align: right;\">\n",
       "      <th></th>\n",
       "      <th>_time</th>\n",
       "      <th>threat_match_field</th>\n",
       "      <th>threat_match_value</th>\n",
       "      <th>sourcetype</th>\n",
       "      <th>src</th>\n",
       "      <th>dest</th>\n",
       "      <th>threat_collection</th>\n",
       "      <th>threat_group</th>\n",
       "      <th>threat_category</th>\n",
       "    </tr>\n",
       "  </thead>\n",
       "  <tbody>\n",
       "    <tr>\n",
       "      <th>0</th>\n",
       "      <td>8</td>\n",
       "      <td>src</td>\n",
       "      <td>45.148.10.28</td>\n",
       "      <td>cisco:asa f5:bigip:asm:syslog fgt_traffic pan:...</td>\n",
       "      <td>45.148.10.28</td>\n",
       "      <td>10.44.0.141 10.44.0.142 10.44.1.145 10.44.10.1...</td>\n",
       "      <td>ip_intel</td>\n",
       "      <td>emerging_threats_compromised_ip_blocklist</td>\n",
       "      <td>threatlist</td>\n",
       "    </tr>\n",
       "    <tr>\n",
       "      <th>1</th>\n",
       "      <td>7</td>\n",
       "      <td>src</td>\n",
       "      <td>95.213.243.77</td>\n",
       "      <td>cisco:asa</td>\n",
       "      <td>95.213.243.77</td>\n",
       "      <td>172.16.20.79 192.168.198.100</td>\n",
       "      <td>ip_intel</td>\n",
       "      <td>emerging_threats_compromised_ip_blocklist</td>\n",
       "      <td>threatlist</td>\n",
       "    </tr>\n",
       "    <tr>\n",
       "      <th>2</th>\n",
       "      <td>6</td>\n",
       "      <td>src</td>\n",
       "      <td>64.227.61.176</td>\n",
       "      <td>cisco:asa</td>\n",
       "      <td>64.227.61.176</td>\n",
       "      <td>172.16.20.79</td>\n",
       "      <td>ip_intel</td>\n",
       "      <td>emerging_threats_compromised_ip_blocklist</td>\n",
       "      <td>threatlist</td>\n",
       "    </tr>\n",
       "    <tr>\n",
       "      <th>3</th>\n",
       "      <td>6</td>\n",
       "      <td>src</td>\n",
       "      <td>85.209.0.103</td>\n",
       "      <td>cisco:asa</td>\n",
       "      <td>85.209.0.103</td>\n",
       "      <td>172.16.20.79</td>\n",
       "      <td>ip_intel</td>\n",
       "      <td>emerging_threats_compromised_ip_blocklist</td>\n",
       "      <td>threatlist</td>\n",
       "    </tr>\n",
       "    <tr>\n",
       "      <th>4</th>\n",
       "      <td>6</td>\n",
       "      <td>src</td>\n",
       "      <td>192.42.116.16</td>\n",
       "      <td>pan:traffic</td>\n",
       "      <td>192.42.116.16</td>\n",
       "      <td>181.42.57.231</td>\n",
       "      <td>ip_intel</td>\n",
       "      <td>emerging_threats_compromised_ip_blocklist</td>\n",
       "      <td>threatlist</td>\n",
       "    </tr>\n",
       "  </tbody>\n",
       "</table>\n",
       "</div>"
      ],
      "text/plain": [
       "  _time threat_match_field threat_match_value  \\\n",
       "0     8                src       45.148.10.28   \n",
       "1     7                src      95.213.243.77   \n",
       "2     6                src      64.227.61.176   \n",
       "3     6                src       85.209.0.103   \n",
       "4     6                src      192.42.116.16   \n",
       "\n",
       "                                          sourcetype            src  \\\n",
       "0  cisco:asa f5:bigip:asm:syslog fgt_traffic pan:...   45.148.10.28   \n",
       "1                                          cisco:asa  95.213.243.77   \n",
       "2                                          cisco:asa  64.227.61.176   \n",
       "3                                          cisco:asa   85.209.0.103   \n",
       "4                                        pan:traffic  192.42.116.16   \n",
       "\n",
       "                                                dest threat_collection  \\\n",
       "0  10.44.0.141 10.44.0.142 10.44.1.145 10.44.10.1...          ip_intel   \n",
       "1                       172.16.20.79 192.168.198.100          ip_intel   \n",
       "2                                       172.16.20.79          ip_intel   \n",
       "3                                       172.16.20.79          ip_intel   \n",
       "4                                      181.42.57.231          ip_intel   \n",
       "\n",
       "                                threat_group threat_category  \n",
       "0  emerging_threats_compromised_ip_blocklist      threatlist  \n",
       "1  emerging_threats_compromised_ip_blocklist      threatlist  \n",
       "2  emerging_threats_compromised_ip_blocklist      threatlist  \n",
       "3  emerging_threats_compromised_ip_blocklist      threatlist  \n",
       "4  emerging_threats_compromised_ip_blocklist      threatlist  "
      ]
     },
     "execution_count": 36,
     "metadata": {},
     "output_type": "execute_result"
    }
   ],
   "source": [
    "df_compromised_ip_time = df_compromised_ip.copy()\n",
    "for i in range (len(df_compromised_ip_time)):\n",
    "    df_compromised_ip_time.at[i,\"_time\"] = df_compromised_ip_time.at[i,\"_time\"].hour\n",
    "df_compromised_ip_time.head()"
   ]
  },
  {
   "cell_type": "code",
   "execution_count": 136,
   "metadata": {},
   "outputs": [
    {
     "data": {
      "text/plain": [
       "[Text(0.5, 0, 'Tiempo (horas)'),\n",
       " Text(0, 0.5, 'Cantidad de eventos'),\n",
       " Text(0.5, 1.0, 'Eventos IP Compromised')]"
      ]
     },
     "execution_count": 136,
     "metadata": {},
     "output_type": "execute_result"
    },
    {
     "data": {
      "image/png": "[encoded data removed]",
      "text/plain": [
       "<Figure size 432x288 with 1 Axes>"
      ]
     },
     "metadata": {
      "needs_background": "light"
     },
     "output_type": "display_data"
    }
   ],
   "source": [
    "datos_hora_ip_compromised = sns.countplot(x=\"_time\", data=df_compromised_ip_time)\n",
    "datos_hora_ip_compromised.set(xlabel='Tiempo (horas)', ylabel='Cantidad de eventos', title=\"Eventos IP Compromised\")"
   ]
  },
  {
   "cell_type": "markdown",
   "metadata": {},
   "source": [
    "### Análisis IP"
   ]
  },
  {
   "cell_type": "code",
   "execution_count": 38,
   "metadata": {},
   "outputs": [
    {
     "data": {
      "text/html": [
       "<div>\n",
       "<style scoped>\n",
       "    .dataframe tbody tr th:only-of-type {\n",
       "        vertical-align: middle;\n",
       "    }\n",
       "\n",
       "    .dataframe tbody tr th {\n",
       "        vertical-align: top;\n",
       "    }\n",
       "\n",
       "    .dataframe thead th {\n",
       "        text-align: right;\n",
       "    }\n",
       "</style>\n",
       "<table border=\"1\" class=\"dataframe\">\n",
       "  <thead>\n",
       "    <tr style=\"text-align: right;\">\n",
       "      <th></th>\n",
       "      <th>_time</th>\n",
       "      <th>threat_match_field</th>\n",
       "      <th>threat_match_value</th>\n",
       "      <th>sourcetype</th>\n",
       "      <th>src</th>\n",
       "      <th>dest</th>\n",
       "      <th>threat_collection</th>\n",
       "      <th>threat_group</th>\n",
       "      <th>threat_category</th>\n",
       "    </tr>\n",
       "  </thead>\n",
       "  <tbody>\n",
       "    <tr>\n",
       "      <th>0</th>\n",
       "      <td>2020-09-22 08:45:00</td>\n",
       "      <td>src</td>\n",
       "      <td>45.148.10</td>\n",
       "      <td>cisco:asa f5:bigip:asm:syslog fgt_traffic pan:...</td>\n",
       "      <td>45.148.10.28</td>\n",
       "      <td>10.44.0.141 10.44.0.142 10.44.1.145 10.44.10.1...</td>\n",
       "      <td>ip_intel</td>\n",
       "      <td>emerging_threats_compromised_ip_blocklist</td>\n",
       "      <td>threatlist</td>\n",
       "    </tr>\n",
       "    <tr>\n",
       "      <th>1</th>\n",
       "      <td>2020-09-22 07:45:00</td>\n",
       "      <td>src</td>\n",
       "      <td>95.213.243</td>\n",
       "      <td>cisco:asa</td>\n",
       "      <td>95.213.243.77</td>\n",
       "      <td>172.16.20.79 192.168.198.100</td>\n",
       "      <td>ip_intel</td>\n",
       "      <td>emerging_threats_compromised_ip_blocklist</td>\n",
       "      <td>threatlist</td>\n",
       "    </tr>\n",
       "    <tr>\n",
       "      <th>2</th>\n",
       "      <td>2020-09-22 06:45:00</td>\n",
       "      <td>src</td>\n",
       "      <td>64.227.61</td>\n",
       "      <td>cisco:asa</td>\n",
       "      <td>64.227.61.176</td>\n",
       "      <td>172.16.20.79</td>\n",
       "      <td>ip_intel</td>\n",
       "      <td>emerging_threats_compromised_ip_blocklist</td>\n",
       "      <td>threatlist</td>\n",
       "    </tr>\n",
       "    <tr>\n",
       "      <th>3</th>\n",
       "      <td>2020-09-22 06:45:00</td>\n",
       "      <td>src</td>\n",
       "      <td>85.209.0</td>\n",
       "      <td>cisco:asa</td>\n",
       "      <td>85.209.0.103</td>\n",
       "      <td>172.16.20.79</td>\n",
       "      <td>ip_intel</td>\n",
       "      <td>emerging_threats_compromised_ip_blocklist</td>\n",
       "      <td>threatlist</td>\n",
       "    </tr>\n",
       "    <tr>\n",
       "      <th>4</th>\n",
       "      <td>2020-09-22 06:15:00</td>\n",
       "      <td>src</td>\n",
       "      <td>192.42.116</td>\n",
       "      <td>pan:traffic</td>\n",
       "      <td>192.42.116.16</td>\n",
       "      <td>181.42.57.231</td>\n",
       "      <td>ip_intel</td>\n",
       "      <td>emerging_threats_compromised_ip_blocklist</td>\n",
       "      <td>threatlist</td>\n",
       "    </tr>\n",
       "  </tbody>\n",
       "</table>\n",
       "</div>"
      ],
      "text/plain": [
       "                _time threat_match_field threat_match_value  \\\n",
       "0 2020-09-22 08:45:00                src          45.148.10   \n",
       "1 2020-09-22 07:45:00                src         95.213.243   \n",
       "2 2020-09-22 06:45:00                src          64.227.61   \n",
       "3 2020-09-22 06:45:00                src           85.209.0   \n",
       "4 2020-09-22 06:15:00                src         192.42.116   \n",
       "\n",
       "                                          sourcetype            src  \\\n",
       "0  cisco:asa f5:bigip:asm:syslog fgt_traffic pan:...   45.148.10.28   \n",
       "1                                          cisco:asa  95.213.243.77   \n",
       "2                                          cisco:asa  64.227.61.176   \n",
       "3                                          cisco:asa   85.209.0.103   \n",
       "4                                        pan:traffic  192.42.116.16   \n",
       "\n",
       "                                                dest threat_collection  \\\n",
       "0  10.44.0.141 10.44.0.142 10.44.1.145 10.44.10.1...          ip_intel   \n",
       "1                       172.16.20.79 192.168.198.100          ip_intel   \n",
       "2                                       172.16.20.79          ip_intel   \n",
       "3                                       172.16.20.79          ip_intel   \n",
       "4                                      181.42.57.231          ip_intel   \n",
       "\n",
       "                                threat_group threat_category  \n",
       "0  emerging_threats_compromised_ip_blocklist      threatlist  \n",
       "1  emerging_threats_compromised_ip_blocklist      threatlist  \n",
       "2  emerging_threats_compromised_ip_blocklist      threatlist  \n",
       "3  emerging_threats_compromised_ip_blocklist      threatlist  \n",
       "4  emerging_threats_compromised_ip_blocklist      threatlist  "
      ]
     },
     "execution_count": 38,
     "metadata": {},
     "output_type": "execute_result"
    }
   ],
   "source": [
    "df_ip_compromised_ip = df_compromised_ip.copy()\n",
    "for i in range (len(df_ip_compromised_ip)):\n",
    "    lista = df_ip_compromised_ip.at[i,\"threat_match_value\"].split(\".\")\n",
    "    raiz_ip = \".\".join(lista[0:3])\n",
    "    df_ip_compromised_ip.at[i,\"threat_match_value\"] = raiz_ip\n",
    "df_ip_compromised_ip.head()"
   ]
  },
  {
   "cell_type": "code",
   "execution_count": 39,
   "metadata": {},
   "outputs": [
    {
     "name": "stdout",
     "output_type": "stream",
     "text": [
      "185.220.101    16\n",
      "194.87.138     15\n",
      "45.95.168      13\n",
      "185.220.102    12\n",
      "107.189.10     11\n",
      "               ..\n",
      "51.210.255      1\n",
      "157.245.227     1\n",
      "104.244.75      1\n",
      "95.213.243      1\n",
      "95.217.41       1\n",
      "Name: threat_match_value, Length: 235, dtype: int64\n"
     ]
    }
   ],
   "source": [
    "count = df_ip_compromised_ip['threat_match_value'].value_counts() \n",
    "print(count) "
   ]
  },
  {
   "cell_type": "code",
   "execution_count": 40,
   "metadata": {},
   "outputs": [
    {
     "name": "stdout",
     "output_type": "stream",
     "text": [
      "172.18.173.196     120\n",
      "192.168.198.137      2\n",
      "198.23.236.118       1\n",
      "45.95.168.130        1\n",
      "107.172.140.119      1\n",
      "                  ... \n",
      "185.220.102.8        1\n",
      "221.149.43.38        1\n",
      "138.68.96.104        1\n",
      "85.209.0.102         1\n",
      "192.42.116.13        1\n",
      "Name: src, Length: 277, dtype: int64\n"
     ]
    }
   ],
   "source": [
    "count = df_ip_compromised_ip['src'].value_counts() \n",
    "print(count) "
   ]
  },
  {
   "cell_type": "code",
   "execution_count": 41,
   "metadata": {},
   "outputs": [
    {
     "name": "stdout",
     "output_type": "stream",
     "text": [
      "cisco:asa                                                177\n",
      "pan:traffic                                              136\n",
      "f5:bigip:asm:syslog                                       57\n",
      "cisco:asa pan:traffic                                      7\n",
      "cisco:asa f5:bigip:asm:syslog                              5\n",
      "cisco:asa f5:bigip:asm:syslog pan:traffic                  5\n",
      "cisco:asa fgt_traffic                                      3\n",
      "fgt_traffic                                                3\n",
      "cisco:asa f5:bigip:asm:syslog fgt_traffic pan:traffic      1\n",
      "f5:bigip:asm:syslog pan:traffic                            1\n",
      "fgt_traffic pan:traffic                                    1\n",
      "cisco:asa fgt_utm                                          1\n",
      "Name: sourcetype, dtype: int64\n"
     ]
    }
   ],
   "source": [
    "count = df_ip_compromised_ip['sourcetype'].value_counts() \n",
    "print(count) "
   ]
  },
  {
   "cell_type": "markdown",
   "metadata": {},
   "source": [
    "# BLOCKED LIST "
   ]
  },
  {
   "cell_type": "code",
   "execution_count": 42,
   "metadata": {},
   "outputs": [
    {
     "data": {
      "text/html": [
       "<div>\n",
       "<style scoped>\n",
       "    .dataframe tbody tr th:only-of-type {\n",
       "        vertical-align: middle;\n",
       "    }\n",
       "\n",
       "    .dataframe tbody tr th {\n",
       "        vertical-align: top;\n",
       "    }\n",
       "\n",
       "    .dataframe thead th {\n",
       "        text-align: right;\n",
       "    }\n",
       "</style>\n",
       "<table border=\"1\" class=\"dataframe\">\n",
       "  <thead>\n",
       "    <tr style=\"text-align: right;\">\n",
       "      <th></th>\n",
       "      <th>_time</th>\n",
       "      <th>threat_match_field</th>\n",
       "      <th>threat_match_value</th>\n",
       "      <th>sourcetype</th>\n",
       "      <th>src</th>\n",
       "      <th>dest</th>\n",
       "      <th>threat_collection</th>\n",
       "      <th>threat_group</th>\n",
       "      <th>threat_category</th>\n",
       "    </tr>\n",
       "  </thead>\n",
       "  <tbody>\n",
       "    <tr>\n",
       "      <th>0</th>\n",
       "      <td>2020-09-22 09:45:00</td>\n",
       "      <td>dest</td>\n",
       "      <td>102.18.254.205</td>\n",
       "      <td>pan:traffic</td>\n",
       "      <td>172.18.173.196</td>\n",
       "      <td>102.18.254.205</td>\n",
       "      <td>ip_intel</td>\n",
       "      <td>emerging_threats_ip_blocklist</td>\n",
       "      <td>threatlist</td>\n",
       "    </tr>\n",
       "    <tr>\n",
       "      <th>1</th>\n",
       "      <td>2020-09-22 09:45:00</td>\n",
       "      <td>dest</td>\n",
       "      <td>102.240.221.135</td>\n",
       "      <td>pan:traffic</td>\n",
       "      <td>172.18.173.196</td>\n",
       "      <td>102.240.221.135</td>\n",
       "      <td>ip_intel</td>\n",
       "      <td>emerging_threats_ip_blocklist</td>\n",
       "      <td>threatlist</td>\n",
       "    </tr>\n",
       "    <tr>\n",
       "      <th>2</th>\n",
       "      <td>2020-09-22 09:45:00</td>\n",
       "      <td>dest</td>\n",
       "      <td>103.32.93.40</td>\n",
       "      <td>pan:traffic</td>\n",
       "      <td>172.18.173.196</td>\n",
       "      <td>103.32.93.40</td>\n",
       "      <td>ip_intel</td>\n",
       "      <td>emerging_threats_ip_blocklist</td>\n",
       "      <td>threatlist</td>\n",
       "    </tr>\n",
       "    <tr>\n",
       "      <th>3</th>\n",
       "      <td>2020-09-22 09:45:00</td>\n",
       "      <td>dest</td>\n",
       "      <td>103.34.69.241</td>\n",
       "      <td>pan:traffic</td>\n",
       "      <td>172.18.173.196</td>\n",
       "      <td>103.34.69.241</td>\n",
       "      <td>ip_intel</td>\n",
       "      <td>emerging_threats_ip_blocklist</td>\n",
       "      <td>threatlist</td>\n",
       "    </tr>\n",
       "    <tr>\n",
       "      <th>4</th>\n",
       "      <td>2020-09-22 09:45:00</td>\n",
       "      <td>dest</td>\n",
       "      <td>116.145.142.99</td>\n",
       "      <td>pan:traffic</td>\n",
       "      <td>172.18.173.196</td>\n",
       "      <td>116.145.142.99</td>\n",
       "      <td>ip_intel</td>\n",
       "      <td>emerging_threats_ip_blocklist</td>\n",
       "      <td>threatlist</td>\n",
       "    </tr>\n",
       "  </tbody>\n",
       "</table>\n",
       "</div>"
      ],
      "text/plain": [
       "                _time threat_match_field threat_match_value   sourcetype  \\\n",
       "0 2020-09-22 09:45:00               dest     102.18.254.205  pan:traffic   \n",
       "1 2020-09-22 09:45:00               dest    102.240.221.135  pan:traffic   \n",
       "2 2020-09-22 09:45:00               dest       103.32.93.40  pan:traffic   \n",
       "3 2020-09-22 09:45:00               dest      103.34.69.241  pan:traffic   \n",
       "4 2020-09-22 09:45:00               dest     116.145.142.99  pan:traffic   \n",
       "\n",
       "              src             dest threat_collection  \\\n",
       "0  172.18.173.196   102.18.254.205          ip_intel   \n",
       "1  172.18.173.196  102.240.221.135          ip_intel   \n",
       "2  172.18.173.196     103.32.93.40          ip_intel   \n",
       "3  172.18.173.196    103.34.69.241          ip_intel   \n",
       "4  172.18.173.196   116.145.142.99          ip_intel   \n",
       "\n",
       "                    threat_group threat_category  \n",
       "0  emerging_threats_ip_blocklist      threatlist  \n",
       "1  emerging_threats_ip_blocklist      threatlist  \n",
       "2  emerging_threats_ip_blocklist      threatlist  \n",
       "3  emerging_threats_ip_blocklist      threatlist  \n",
       "4  emerging_threats_ip_blocklist      threatlist  "
      ]
     },
     "execution_count": 42,
     "metadata": {},
     "output_type": "execute_result"
    }
   ],
   "source": [
    "df_blocked_list = pd.read_excel(\"threat_activity.xlsx\", sheet_name= \"emerging_threats_ip_blocklist\")\n",
    "df_blocked_list = df_blocked_list.drop(columns=\"Per-panel Filter\")\n",
    "df_blocked_list.head()"
   ]
  },
  {
   "cell_type": "markdown",
   "metadata": {},
   "source": [
    "### Análisis día"
   ]
  },
  {
   "cell_type": "code",
   "execution_count": 114,
   "metadata": {},
   "outputs": [
    {
     "data": {
      "text/html": [
       "<div>\n",
       "<style scoped>\n",
       "    .dataframe tbody tr th:only-of-type {\n",
       "        vertical-align: middle;\n",
       "    }\n",
       "\n",
       "    .dataframe tbody tr th {\n",
       "        vertical-align: top;\n",
       "    }\n",
       "\n",
       "    .dataframe thead th {\n",
       "        text-align: right;\n",
       "    }\n",
       "</style>\n",
       "<table border=\"1\" class=\"dataframe\">\n",
       "  <thead>\n",
       "    <tr style=\"text-align: right;\">\n",
       "      <th></th>\n",
       "      <th>_time</th>\n",
       "      <th>threat_match_field</th>\n",
       "      <th>threat_match_value</th>\n",
       "      <th>sourcetype</th>\n",
       "      <th>src</th>\n",
       "      <th>dest</th>\n",
       "      <th>threat_collection</th>\n",
       "      <th>threat_group</th>\n",
       "      <th>threat_category</th>\n",
       "      <th>Day_id</th>\n",
       "    </tr>\n",
       "  </thead>\n",
       "  <tbody>\n",
       "    <tr>\n",
       "      <th>9999</th>\n",
       "      <td>Monday</td>\n",
       "      <td>dest</td>\n",
       "      <td>164.155.121.15</td>\n",
       "      <td>pan:traffic</td>\n",
       "      <td>172.18.173.196</td>\n",
       "      <td>164.155.121.15</td>\n",
       "      <td>ip_intel</td>\n",
       "      <td>emerging_threats_ip_blocklist</td>\n",
       "      <td>threatlist</td>\n",
       "      <td>0.0</td>\n",
       "    </tr>\n",
       "    <tr>\n",
       "      <th>8757</th>\n",
       "      <td>Monday</td>\n",
       "      <td>dest</td>\n",
       "      <td>164.155.169.104</td>\n",
       "      <td>pan:traffic</td>\n",
       "      <td>172.18.173.196</td>\n",
       "      <td>164.155.169.104</td>\n",
       "      <td>ip_intel</td>\n",
       "      <td>emerging_threats_ip_blocklist</td>\n",
       "      <td>threatlist</td>\n",
       "      <td>0.0</td>\n",
       "    </tr>\n",
       "    <tr>\n",
       "      <th>8758</th>\n",
       "      <td>Monday</td>\n",
       "      <td>dest</td>\n",
       "      <td>164.155.169.105</td>\n",
       "      <td>pan:traffic</td>\n",
       "      <td>172.18.173.196</td>\n",
       "      <td>164.155.169.105</td>\n",
       "      <td>ip_intel</td>\n",
       "      <td>emerging_threats_ip_blocklist</td>\n",
       "      <td>threatlist</td>\n",
       "      <td>0.0</td>\n",
       "    </tr>\n",
       "    <tr>\n",
       "      <th>8759</th>\n",
       "      <td>Monday</td>\n",
       "      <td>dest</td>\n",
       "      <td>164.155.169.106</td>\n",
       "      <td>pan:traffic</td>\n",
       "      <td>172.18.173.196</td>\n",
       "      <td>164.155.169.106</td>\n",
       "      <td>ip_intel</td>\n",
       "      <td>emerging_threats_ip_blocklist</td>\n",
       "      <td>threatlist</td>\n",
       "      <td>0.0</td>\n",
       "    </tr>\n",
       "    <tr>\n",
       "      <th>8760</th>\n",
       "      <td>Monday</td>\n",
       "      <td>dest</td>\n",
       "      <td>164.155.169.107</td>\n",
       "      <td>pan:traffic</td>\n",
       "      <td>172.18.173.196</td>\n",
       "      <td>164.155.169.107</td>\n",
       "      <td>ip_intel</td>\n",
       "      <td>emerging_threats_ip_blocklist</td>\n",
       "      <td>threatlist</td>\n",
       "      <td>0.0</td>\n",
       "    </tr>\n",
       "  </tbody>\n",
       "</table>\n",
       "</div>"
      ],
      "text/plain": [
       "       _time threat_match_field threat_match_value   sourcetype  \\\n",
       "9999  Monday               dest     164.155.121.15  pan:traffic   \n",
       "8757  Monday               dest    164.155.169.104  pan:traffic   \n",
       "8758  Monday               dest    164.155.169.105  pan:traffic   \n",
       "8759  Monday               dest    164.155.169.106  pan:traffic   \n",
       "8760  Monday               dest    164.155.169.107  pan:traffic   \n",
       "\n",
       "                 src             dest threat_collection  \\\n",
       "9999  172.18.173.196   164.155.121.15          ip_intel   \n",
       "8757  172.18.173.196  164.155.169.104          ip_intel   \n",
       "8758  172.18.173.196  164.155.169.105          ip_intel   \n",
       "8759  172.18.173.196  164.155.169.106          ip_intel   \n",
       "8760  172.18.173.196  164.155.169.107          ip_intel   \n",
       "\n",
       "                       threat_group threat_category  Day_id  \n",
       "9999  emerging_threats_ip_blocklist      threatlist     0.0  \n",
       "8757  emerging_threats_ip_blocklist      threatlist     0.0  \n",
       "8758  emerging_threats_ip_blocklist      threatlist     0.0  \n",
       "8759  emerging_threats_ip_blocklist      threatlist     0.0  \n",
       "8760  emerging_threats_ip_blocklist      threatlist     0.0  "
      ]
     },
     "execution_count": 114,
     "metadata": {},
     "output_type": "execute_result"
    }
   ],
   "source": [
    "df_blocked_list_day = df_blocked_list.copy()\n",
    "for i in range (len(df_blocked_list_day)):\n",
    "    df_blocked_list_day.at[i,\"_time\"] = calendar.day_name[df_blocked_list.at[i,\"_time\"].weekday()]\n",
    "    df_blocked_list_day.at[i,\"Day_id\"] = df_blocked_list.at[i,\"_time\"].weekday()\n",
    "df_blocked_list_day.sort_values('Day_id', inplace=True)\n",
    "df_blocked_list_day.head()"
   ]
  },
  {
   "cell_type": "code",
   "execution_count": 137,
   "metadata": {},
   "outputs": [
    {
     "data": {
      "text/plain": [
       "[Text(0.5, 0, 'Dia'),\n",
       " Text(0, 0.5, 'Cantidad de eventos'),\n",
       " Text(0.5, 1.0, 'Eventos Blocked List')]"
      ]
     },
     "execution_count": 137,
     "metadata": {},
     "output_type": "execute_result"
    },
    {
     "data": {
      "image/png": "[encoded data removed]",
      "text/plain": [
       "<Figure size 432x288 with 1 Axes>"
      ]
     },
     "metadata": {
      "needs_background": "light"
     },
     "output_type": "display_data"
    }
   ],
   "source": [
    "datos_dia_blocked_list = sns.countplot(x=\"_time\", data=df_blocked_list_day)\n",
    "datos_dia_blocked_list.set(xlabel='Dia', ylabel='Cantidad de eventos', title=\"Eventos Blocked List\")"
   ]
  },
  {
   "cell_type": "markdown",
   "metadata": {},
   "source": [
    "### Análisis hora"
   ]
  },
  {
   "cell_type": "code",
   "execution_count": 45,
   "metadata": {},
   "outputs": [
    {
     "data": {
      "text/html": [
       "<div>\n",
       "<style scoped>\n",
       "    .dataframe tbody tr th:only-of-type {\n",
       "        vertical-align: middle;\n",
       "    }\n",
       "\n",
       "    .dataframe tbody tr th {\n",
       "        vertical-align: top;\n",
       "    }\n",
       "\n",
       "    .dataframe thead th {\n",
       "        text-align: right;\n",
       "    }\n",
       "</style>\n",
       "<table border=\"1\" class=\"dataframe\">\n",
       "  <thead>\n",
       "    <tr style=\"text-align: right;\">\n",
       "      <th></th>\n",
       "      <th>_time</th>\n",
       "      <th>threat_match_field</th>\n",
       "      <th>threat_match_value</th>\n",
       "      <th>sourcetype</th>\n",
       "      <th>src</th>\n",
       "      <th>dest</th>\n",
       "      <th>threat_collection</th>\n",
       "      <th>threat_group</th>\n",
       "      <th>threat_category</th>\n",
       "    </tr>\n",
       "  </thead>\n",
       "  <tbody>\n",
       "    <tr>\n",
       "      <th>0</th>\n",
       "      <td>9</td>\n",
       "      <td>dest</td>\n",
       "      <td>102.18.254.205</td>\n",
       "      <td>pan:traffic</td>\n",
       "      <td>172.18.173.196</td>\n",
       "      <td>102.18.254.205</td>\n",
       "      <td>ip_intel</td>\n",
       "      <td>emerging_threats_ip_blocklist</td>\n",
       "      <td>threatlist</td>\n",
       "    </tr>\n",
       "    <tr>\n",
       "      <th>1</th>\n",
       "      <td>9</td>\n",
       "      <td>dest</td>\n",
       "      <td>102.240.221.135</td>\n",
       "      <td>pan:traffic</td>\n",
       "      <td>172.18.173.196</td>\n",
       "      <td>102.240.221.135</td>\n",
       "      <td>ip_intel</td>\n",
       "      <td>emerging_threats_ip_blocklist</td>\n",
       "      <td>threatlist</td>\n",
       "    </tr>\n",
       "    <tr>\n",
       "      <th>2</th>\n",
       "      <td>9</td>\n",
       "      <td>dest</td>\n",
       "      <td>103.32.93.40</td>\n",
       "      <td>pan:traffic</td>\n",
       "      <td>172.18.173.196</td>\n",
       "      <td>103.32.93.40</td>\n",
       "      <td>ip_intel</td>\n",
       "      <td>emerging_threats_ip_blocklist</td>\n",
       "      <td>threatlist</td>\n",
       "    </tr>\n",
       "    <tr>\n",
       "      <th>3</th>\n",
       "      <td>9</td>\n",
       "      <td>dest</td>\n",
       "      <td>103.34.69.241</td>\n",
       "      <td>pan:traffic</td>\n",
       "      <td>172.18.173.196</td>\n",
       "      <td>103.34.69.241</td>\n",
       "      <td>ip_intel</td>\n",
       "      <td>emerging_threats_ip_blocklist</td>\n",
       "      <td>threatlist</td>\n",
       "    </tr>\n",
       "    <tr>\n",
       "      <th>4</th>\n",
       "      <td>9</td>\n",
       "      <td>dest</td>\n",
       "      <td>116.145.142.99</td>\n",
       "      <td>pan:traffic</td>\n",
       "      <td>172.18.173.196</td>\n",
       "      <td>116.145.142.99</td>\n",
       "      <td>ip_intel</td>\n",
       "      <td>emerging_threats_ip_blocklist</td>\n",
       "      <td>threatlist</td>\n",
       "    </tr>\n",
       "  </tbody>\n",
       "</table>\n",
       "</div>"
      ],
      "text/plain": [
       "  _time threat_match_field threat_match_value   sourcetype             src  \\\n",
       "0     9               dest     102.18.254.205  pan:traffic  172.18.173.196   \n",
       "1     9               dest    102.240.221.135  pan:traffic  172.18.173.196   \n",
       "2     9               dest       103.32.93.40  pan:traffic  172.18.173.196   \n",
       "3     9               dest      103.34.69.241  pan:traffic  172.18.173.196   \n",
       "4     9               dest     116.145.142.99  pan:traffic  172.18.173.196   \n",
       "\n",
       "              dest threat_collection                   threat_group  \\\n",
       "0   102.18.254.205          ip_intel  emerging_threats_ip_blocklist   \n",
       "1  102.240.221.135          ip_intel  emerging_threats_ip_blocklist   \n",
       "2     103.32.93.40          ip_intel  emerging_threats_ip_blocklist   \n",
       "3    103.34.69.241          ip_intel  emerging_threats_ip_blocklist   \n",
       "4   116.145.142.99          ip_intel  emerging_threats_ip_blocklist   \n",
       "\n",
       "  threat_category  \n",
       "0      threatlist  \n",
       "1      threatlist  \n",
       "2      threatlist  \n",
       "3      threatlist  \n",
       "4      threatlist  "
      ]
     },
     "execution_count": 45,
     "metadata": {},
     "output_type": "execute_result"
    }
   ],
   "source": [
    "df_blocked_list_time = df_blocked_list.copy()\n",
    "for i in range (len(df_blocked_list_time)):\n",
    "    df_blocked_list_time.at[i,\"_time\"] = df_blocked_list_time.at[i,\"_time\"].hour\n",
    "df_blocked_list_time.head()"
   ]
  },
  {
   "cell_type": "code",
   "execution_count": 138,
   "metadata": {},
   "outputs": [
    {
     "data": {
      "text/plain": [
       "[Text(0.5, 0, 'Tiempo (horas)'),\n",
       " Text(0, 0.5, 'Cantidad de eventos'),\n",
       " Text(0.5, 1.0, 'Eventos Blocked List')]"
      ]
     },
     "execution_count": 138,
     "metadata": {},
     "output_type": "execute_result"
    },
    {
     "data": {
      "image/png": "[encoded data removed]",
      "text/plain": [
       "<Figure size 432x288 with 1 Axes>"
      ]
     },
     "metadata": {
      "needs_background": "light"
     },
     "output_type": "display_data"
    }
   ],
   "source": [
    "datos_time_blocked_list = sns.countplot(x=\"_time\", data=df_blocked_list_time)\n",
    "datos_time_blocked_list.set(xlabel='Tiempo (horas)', ylabel='Cantidad de eventos', title=\"Eventos Blocked List\")"
   ]
  },
  {
   "cell_type": "markdown",
   "metadata": {},
   "source": [
    "### Análisis IP"
   ]
  },
  {
   "cell_type": "code",
   "execution_count": 47,
   "metadata": {},
   "outputs": [
    {
     "data": {
      "text/html": [
       "<div>\n",
       "<style scoped>\n",
       "    .dataframe tbody tr th:only-of-type {\n",
       "        vertical-align: middle;\n",
       "    }\n",
       "\n",
       "    .dataframe tbody tr th {\n",
       "        vertical-align: top;\n",
       "    }\n",
       "\n",
       "    .dataframe thead th {\n",
       "        text-align: right;\n",
       "    }\n",
       "</style>\n",
       "<table border=\"1\" class=\"dataframe\">\n",
       "  <thead>\n",
       "    <tr style=\"text-align: right;\">\n",
       "      <th></th>\n",
       "      <th>_time</th>\n",
       "      <th>threat_match_field</th>\n",
       "      <th>threat_match_value</th>\n",
       "      <th>sourcetype</th>\n",
       "      <th>src</th>\n",
       "      <th>dest</th>\n",
       "      <th>threat_collection</th>\n",
       "      <th>threat_group</th>\n",
       "      <th>threat_category</th>\n",
       "    </tr>\n",
       "  </thead>\n",
       "  <tbody>\n",
       "    <tr>\n",
       "      <th>0</th>\n",
       "      <td>2020-09-22 09:45:00</td>\n",
       "      <td>dest</td>\n",
       "      <td>102.18.254</td>\n",
       "      <td>pan:traffic</td>\n",
       "      <td>172.18.173.196</td>\n",
       "      <td>102.18.254.205</td>\n",
       "      <td>ip_intel</td>\n",
       "      <td>emerging_threats_ip_blocklist</td>\n",
       "      <td>threatlist</td>\n",
       "    </tr>\n",
       "    <tr>\n",
       "      <th>1</th>\n",
       "      <td>2020-09-22 09:45:00</td>\n",
       "      <td>dest</td>\n",
       "      <td>102.240.221</td>\n",
       "      <td>pan:traffic</td>\n",
       "      <td>172.18.173.196</td>\n",
       "      <td>102.240.221.135</td>\n",
       "      <td>ip_intel</td>\n",
       "      <td>emerging_threats_ip_blocklist</td>\n",
       "      <td>threatlist</td>\n",
       "    </tr>\n",
       "    <tr>\n",
       "      <th>2</th>\n",
       "      <td>2020-09-22 09:45:00</td>\n",
       "      <td>dest</td>\n",
       "      <td>103.32.93</td>\n",
       "      <td>pan:traffic</td>\n",
       "      <td>172.18.173.196</td>\n",
       "      <td>103.32.93.40</td>\n",
       "      <td>ip_intel</td>\n",
       "      <td>emerging_threats_ip_blocklist</td>\n",
       "      <td>threatlist</td>\n",
       "    </tr>\n",
       "    <tr>\n",
       "      <th>3</th>\n",
       "      <td>2020-09-22 09:45:00</td>\n",
       "      <td>dest</td>\n",
       "      <td>103.34.69</td>\n",
       "      <td>pan:traffic</td>\n",
       "      <td>172.18.173.196</td>\n",
       "      <td>103.34.69.241</td>\n",
       "      <td>ip_intel</td>\n",
       "      <td>emerging_threats_ip_blocklist</td>\n",
       "      <td>threatlist</td>\n",
       "    </tr>\n",
       "    <tr>\n",
       "      <th>4</th>\n",
       "      <td>2020-09-22 09:45:00</td>\n",
       "      <td>dest</td>\n",
       "      <td>116.145.142</td>\n",
       "      <td>pan:traffic</td>\n",
       "      <td>172.18.173.196</td>\n",
       "      <td>116.145.142.99</td>\n",
       "      <td>ip_intel</td>\n",
       "      <td>emerging_threats_ip_blocklist</td>\n",
       "      <td>threatlist</td>\n",
       "    </tr>\n",
       "  </tbody>\n",
       "</table>\n",
       "</div>"
      ],
      "text/plain": [
       "                _time threat_match_field threat_match_value   sourcetype  \\\n",
       "0 2020-09-22 09:45:00               dest         102.18.254  pan:traffic   \n",
       "1 2020-09-22 09:45:00               dest        102.240.221  pan:traffic   \n",
       "2 2020-09-22 09:45:00               dest          103.32.93  pan:traffic   \n",
       "3 2020-09-22 09:45:00               dest          103.34.69  pan:traffic   \n",
       "4 2020-09-22 09:45:00               dest        116.145.142  pan:traffic   \n",
       "\n",
       "              src             dest threat_collection  \\\n",
       "0  172.18.173.196   102.18.254.205          ip_intel   \n",
       "1  172.18.173.196  102.240.221.135          ip_intel   \n",
       "2  172.18.173.196     103.32.93.40          ip_intel   \n",
       "3  172.18.173.196    103.34.69.241          ip_intel   \n",
       "4  172.18.173.196   116.145.142.99          ip_intel   \n",
       "\n",
       "                    threat_group threat_category  \n",
       "0  emerging_threats_ip_blocklist      threatlist  \n",
       "1  emerging_threats_ip_blocklist      threatlist  \n",
       "2  emerging_threats_ip_blocklist      threatlist  \n",
       "3  emerging_threats_ip_blocklist      threatlist  \n",
       "4  emerging_threats_ip_blocklist      threatlist  "
      ]
     },
     "execution_count": 47,
     "metadata": {},
     "output_type": "execute_result"
    }
   ],
   "source": [
    "df_blocked_list_ip = df_blocked_list.copy()\n",
    "for i in range (len(df_blocked_list_ip)):\n",
    "    lista = df_blocked_list_ip.at[i,\"threat_match_value\"].split(\".\")\n",
    "    raiz_ip = \".\".join(lista[0:3])\n",
    "    df_blocked_list_ip.at[i,\"threat_match_value\"] = raiz_ip\n",
    "df_blocked_list_ip.head()"
   ]
  },
  {
   "cell_type": "code",
   "execution_count": 48,
   "metadata": {},
   "outputs": [
    {
     "name": "stdout",
     "output_type": "stream",
     "text": [
      "164.155.220    255\n",
      "164.155.64     254\n",
      "164.155.120    254\n",
      "164.155.125    254\n",
      "164.155.119    254\n",
      "              ... \n",
      "153.53.17        1\n",
      "221.132.243      1\n",
      "159.174.183      1\n",
      "128.24.2         1\n",
      "122.8.41         1\n",
      "Name: threat_match_value, Length: 1617, dtype: int64\n"
     ]
    }
   ],
   "source": [
    "count = df_blocked_list_ip['threat_match_value'].value_counts() \n",
    "print(count) "
   ]
  },
  {
   "cell_type": "code",
   "execution_count": 49,
   "metadata": {},
   "outputs": [
    {
     "name": "stdout",
     "output_type": "stream",
     "text": [
      "172.18.173.196                             9776\n",
      "10.44.0.141 10.44.0.142 192.168.198.137      17\n",
      "192.168.198.137                               2\n",
      "162.142.125.27                                1\n",
      "74.120.14.22                                  1\n",
      "                                           ... \n",
      "74.120.14.69                                  1\n",
      "103.145.13.58                                 1\n",
      "221.132.218.17                                1\n",
      "89.248.172.140                                1\n",
      "37.49.230.203                                 1\n",
      "Name: src, Length: 208, dtype: int64\n"
     ]
    }
   ],
   "source": [
    "count = df_blocked_list['src'].value_counts() \n",
    "print(count) "
   ]
  },
  {
   "cell_type": "code",
   "execution_count": 50,
   "metadata": {},
   "outputs": [
    {
     "name": "stdout",
     "output_type": "stream",
     "text": [
      "pan:traffic                                              9779\n",
      "cisco:asa                                                 130\n",
      "cisco:asa pan:traffic                                      55\n",
      "cisco:asa f5:bigip:asm:syslog fgt_traffic pan:traffic      27\n",
      "cisco:asa f5:bigip:asm:syslog                               2\n",
      "f5:bigip:asm:syslog                                         2\n",
      "cisco:asa f5:bigip:asm:syslog pan:traffic                   1\n",
      "cisco:asa f5:bigip:asm:syslog fgt_traffic                   1\n",
      "cisco:asa fgt_traffic pan:traffic                           1\n",
      "cisco:asa fgt_traffic                                       1\n",
      "cisco:asa fgt_traffic fgt_utm                               1\n",
      "Name: sourcetype, dtype: int64\n"
     ]
    }
   ],
   "source": [
    "count = df_blocked_list['sourcetype'].value_counts() \n",
    "print(count) "
   ]
  },
  {
   "cell_type": "markdown",
   "metadata": {},
   "source": [
    "# ALEXA"
   ]
  },
  {
   "cell_type": "code",
   "execution_count": 51,
   "metadata": {},
   "outputs": [
    {
     "data": {
      "text/html": [
       "<div>\n",
       "<style scoped>\n",
       "    .dataframe tbody tr th:only-of-type {\n",
       "        vertical-align: middle;\n",
       "    }\n",
       "\n",
       "    .dataframe tbody tr th {\n",
       "        vertical-align: top;\n",
       "    }\n",
       "\n",
       "    .dataframe thead th {\n",
       "        text-align: right;\n",
       "    }\n",
       "</style>\n",
       "<table border=\"1\" class=\"dataframe\">\n",
       "  <thead>\n",
       "    <tr style=\"text-align: right;\">\n",
       "      <th></th>\n",
       "      <th>_time</th>\n",
       "      <th>threat_match_field</th>\n",
       "      <th>threat_match_value</th>\n",
       "      <th>sourcetype</th>\n",
       "      <th>src</th>\n",
       "      <th>dest</th>\n",
       "      <th>threat_collection</th>\n",
       "      <th>threat_group</th>\n",
       "      <th>threat_category</th>\n",
       "    </tr>\n",
       "  </thead>\n",
       "  <tbody>\n",
       "    <tr>\n",
       "      <th>0</th>\n",
       "      <td>2020-09-22 10:20:00</td>\n",
       "      <td>recipient</td>\n",
       "      <td>01000174b5e650d2-5ac29e86-ad15-45ad-abf2-31da5...</td>\n",
       "      <td>cisco:esa:textmail</td>\n",
       "      <td>unknown</td>\n",
       "      <td>unknown</td>\n",
       "      <td>ip_intel</td>\n",
       "      <td>alexa_top_one_million_sites</td>\n",
       "      <td>alexa</td>\n",
       "    </tr>\n",
       "    <tr>\n",
       "      <th>1</th>\n",
       "      <td>2020-09-22 10:20:00</td>\n",
       "      <td>recipient</td>\n",
       "      <td>ANDYD.A2E@gmail.com</td>\n",
       "      <td>cisco:esa:legacy</td>\n",
       "      <td>unknown</td>\n",
       "      <td>unknown</td>\n",
       "      <td>ip_intel</td>\n",
       "      <td>alexa_top_one_million_sites</td>\n",
       "      <td>alexa</td>\n",
       "    </tr>\n",
       "    <tr>\n",
       "      <th>2</th>\n",
       "      <td>2020-09-22 10:20:00</td>\n",
       "      <td>recipient</td>\n",
       "      <td>ControldeCambios@bancochile.cl</td>\n",
       "      <td>cisco:esa:legacy cisco:esa:textmail</td>\n",
       "      <td>unknown</td>\n",
       "      <td>unknown</td>\n",
       "      <td>ip_intel</td>\n",
       "      <td>alexa_top_one_million_sites</td>\n",
       "      <td>alexa</td>\n",
       "    </tr>\n",
       "    <tr>\n",
       "      <th>3</th>\n",
       "      <td>2020-09-22 10:20:00</td>\n",
       "      <td>recipient</td>\n",
       "      <td>Controldeversiones@bancochile.cl</td>\n",
       "      <td>cisco:esa:legacy cisco:esa:textmail</td>\n",
       "      <td>unknown</td>\n",
       "      <td>unknown</td>\n",
       "      <td>ip_intel</td>\n",
       "      <td>alexa_top_one_million_sites</td>\n",
       "      <td>alexa</td>\n",
       "    </tr>\n",
       "    <tr>\n",
       "      <th>4</th>\n",
       "      <td>2020-09-22 10:20:00</td>\n",
       "      <td>recipient</td>\n",
       "      <td>JOSESANMARTINCARRION25@gmail.com</td>\n",
       "      <td>cisco:esa:legacy</td>\n",
       "      <td>unknown</td>\n",
       "      <td>unknown</td>\n",
       "      <td>ip_intel</td>\n",
       "      <td>alexa_top_one_million_sites</td>\n",
       "      <td>alexa</td>\n",
       "    </tr>\n",
       "  </tbody>\n",
       "</table>\n",
       "</div>"
      ],
      "text/plain": [
       "                _time threat_match_field  \\\n",
       "0 2020-09-22 10:20:00          recipient   \n",
       "1 2020-09-22 10:20:00          recipient   \n",
       "2 2020-09-22 10:20:00          recipient   \n",
       "3 2020-09-22 10:20:00          recipient   \n",
       "4 2020-09-22 10:20:00          recipient   \n",
       "\n",
       "                                  threat_match_value  \\\n",
       "0  01000174b5e650d2-5ac29e86-ad15-45ad-abf2-31da5...   \n",
       "1                                ANDYD.A2E@gmail.com   \n",
       "2                     ControldeCambios@bancochile.cl   \n",
       "3                   Controldeversiones@bancochile.cl   \n",
       "4                   JOSESANMARTINCARRION25@gmail.com   \n",
       "\n",
       "                            sourcetype      src     dest threat_collection  \\\n",
       "0                   cisco:esa:textmail  unknown  unknown          ip_intel   \n",
       "1                     cisco:esa:legacy  unknown  unknown          ip_intel   \n",
       "2  cisco:esa:legacy cisco:esa:textmail  unknown  unknown          ip_intel   \n",
       "3  cisco:esa:legacy cisco:esa:textmail  unknown  unknown          ip_intel   \n",
       "4                     cisco:esa:legacy  unknown  unknown          ip_intel   \n",
       "\n",
       "                  threat_group threat_category  \n",
       "0  alexa_top_one_million_sites           alexa  \n",
       "1  alexa_top_one_million_sites           alexa  \n",
       "2  alexa_top_one_million_sites           alexa  \n",
       "3  alexa_top_one_million_sites           alexa  \n",
       "4  alexa_top_one_million_sites           alexa  "
      ]
     },
     "execution_count": 51,
     "metadata": {},
     "output_type": "execute_result"
    }
   ],
   "source": [
    "df_alexa = pd.read_excel(\"threat_activity.xlsx\", sheet_name= \"alexa\")\n",
    "df_alexa = df_alexa.drop(columns=\"Per-panel Filter\")\n",
    "df_alexa.head()"
   ]
  },
  {
   "cell_type": "markdown",
   "metadata": {},
   "source": [
    "### Análisis de dia"
   ]
  },
  {
   "cell_type": "code",
   "execution_count": 116,
   "metadata": {
    "scrolled": true
   },
   "outputs": [
    {
     "data": {
      "text/html": [
       "<div>\n",
       "<style scoped>\n",
       "    .dataframe tbody tr th:only-of-type {\n",
       "        vertical-align: middle;\n",
       "    }\n",
       "\n",
       "    .dataframe tbody tr th {\n",
       "        vertical-align: top;\n",
       "    }\n",
       "\n",
       "    .dataframe thead th {\n",
       "        text-align: right;\n",
       "    }\n",
       "</style>\n",
       "<table border=\"1\" class=\"dataframe\">\n",
       "  <thead>\n",
       "    <tr style=\"text-align: right;\">\n",
       "      <th></th>\n",
       "      <th>_time</th>\n",
       "      <th>threat_match_field</th>\n",
       "      <th>threat_match_value</th>\n",
       "      <th>sourcetype</th>\n",
       "      <th>src</th>\n",
       "      <th>dest</th>\n",
       "      <th>threat_collection</th>\n",
       "      <th>threat_group</th>\n",
       "      <th>threat_category</th>\n",
       "      <th>Day_id</th>\n",
       "    </tr>\n",
       "  </thead>\n",
       "  <tbody>\n",
       "    <tr>\n",
       "      <th>834</th>\n",
       "      <td>Monday</td>\n",
       "      <td>recipient</td>\n",
       "      <td>mmperez@bancochile.cl</td>\n",
       "      <td>cisco:esa:legacy cisco:esa:textmail</td>\n",
       "      <td>unknown</td>\n",
       "      <td>unknown</td>\n",
       "      <td>ip_intel</td>\n",
       "      <td>alexa_top_one_million_sites</td>\n",
       "      <td>alexa</td>\n",
       "      <td>0.0</td>\n",
       "    </tr>\n",
       "    <tr>\n",
       "      <th>935</th>\n",
       "      <td>Monday</td>\n",
       "      <td>src_user</td>\n",
       "      <td>ProcTransversalesEFC@cge.cl</td>\n",
       "      <td>cisco:esa:textmail</td>\n",
       "      <td>unknown</td>\n",
       "      <td>unknown</td>\n",
       "      <td>ip_intel</td>\n",
       "      <td>alexa_top_one_million_sites</td>\n",
       "      <td>alexa</td>\n",
       "      <td>0.0</td>\n",
       "    </tr>\n",
       "    <tr>\n",
       "      <th>934</th>\n",
       "      <td>Monday</td>\n",
       "      <td>src_user</td>\n",
       "      <td>MiEntelFijo@entel.cl</td>\n",
       "      <td>cisco:esa:textmail</td>\n",
       "      <td>unknown</td>\n",
       "      <td>unknown</td>\n",
       "      <td>ip_intel</td>\n",
       "      <td>alexa_top_one_million_sites</td>\n",
       "      <td>alexa</td>\n",
       "      <td>0.0</td>\n",
       "    </tr>\n",
       "    <tr>\n",
       "      <th>933</th>\n",
       "      <td>Monday</td>\n",
       "      <td>src_user</td>\n",
       "      <td>JVPavez@entel.cl</td>\n",
       "      <td>cisco:esa:textmail</td>\n",
       "      <td>unknown</td>\n",
       "      <td>unknown</td>\n",
       "      <td>ip_intel</td>\n",
       "      <td>alexa_top_one_million_sites</td>\n",
       "      <td>alexa</td>\n",
       "      <td>0.0</td>\n",
       "    </tr>\n",
       "    <tr>\n",
       "      <th>932</th>\n",
       "      <td>Monday</td>\n",
       "      <td>src_user</td>\n",
       "      <td>JGGARCIA@entel.cl</td>\n",
       "      <td>cisco:esa:textmail</td>\n",
       "      <td>unknown</td>\n",
       "      <td>unknown</td>\n",
       "      <td>ip_intel</td>\n",
       "      <td>alexa_top_one_million_sites</td>\n",
       "      <td>alexa</td>\n",
       "      <td>0.0</td>\n",
       "    </tr>\n",
       "  </tbody>\n",
       "</table>\n",
       "</div>"
      ],
      "text/plain": [
       "      _time threat_match_field           threat_match_value  \\\n",
       "834  Monday          recipient        mmperez@bancochile.cl   \n",
       "935  Monday           src_user  ProcTransversalesEFC@cge.cl   \n",
       "934  Monday           src_user         MiEntelFijo@entel.cl   \n",
       "933  Monday           src_user             JVPavez@entel.cl   \n",
       "932  Monday           src_user            JGGARCIA@entel.cl   \n",
       "\n",
       "                              sourcetype      src     dest threat_collection  \\\n",
       "834  cisco:esa:legacy cisco:esa:textmail  unknown  unknown          ip_intel   \n",
       "935                   cisco:esa:textmail  unknown  unknown          ip_intel   \n",
       "934                   cisco:esa:textmail  unknown  unknown          ip_intel   \n",
       "933                   cisco:esa:textmail  unknown  unknown          ip_intel   \n",
       "932                   cisco:esa:textmail  unknown  unknown          ip_intel   \n",
       "\n",
       "                    threat_group threat_category  Day_id  \n",
       "834  alexa_top_one_million_sites           alexa     0.0  \n",
       "935  alexa_top_one_million_sites           alexa     0.0  \n",
       "934  alexa_top_one_million_sites           alexa     0.0  \n",
       "933  alexa_top_one_million_sites           alexa     0.0  \n",
       "932  alexa_top_one_million_sites           alexa     0.0  "
      ]
     },
     "execution_count": 116,
     "metadata": {},
     "output_type": "execute_result"
    }
   ],
   "source": [
    "df_alexa_day = df_alexa.copy()\n",
    "for i in range (len(df_alexa_day)):\n",
    "    df_alexa_day.at[i,\"_time\"] = calendar.day_name[df_alexa.at[i,\"_time\"].weekday()]\n",
    "    df_alexa_day.at[i,\"Day_id\"] = df_alexa.at[i,\"_time\"].weekday()\n",
    "df_alexa_day.sort_values('Day_id', inplace=True)\n",
    "df_alexa_day.head()"
   ]
  },
  {
   "cell_type": "code",
   "execution_count": 139,
   "metadata": {},
   "outputs": [
    {
     "data": {
      "text/plain": [
       "[Text(0.5, 0, 'Dia'),\n",
       " Text(0, 0.5, 'Cantidad de eventos'),\n",
       " Text(0.5, 1.0, 'Eventos Alexa')]"
      ]
     },
     "execution_count": 139,
     "metadata": {},
     "output_type": "execute_result"
    },
    {
     "data": {
      "image/png": "[encoded data removed]",
      "text/plain": [
       "<Figure size 432x288 with 1 Axes>"
      ]
     },
     "metadata": {
      "needs_background": "light"
     },
     "output_type": "display_data"
    }
   ],
   "source": [
    "datos_dia_alexa = sns.countplot(x=\"_time\", data=df_alexa_day)\n",
    "datos_dia_alexa.set(xlabel='Dia', ylabel='Cantidad de eventos', title=\"Eventos Alexa\")"
   ]
  },
  {
   "cell_type": "markdown",
   "metadata": {},
   "source": [
    "### Análisis de hora "
   ]
  },
  {
   "cell_type": "code",
   "execution_count": 54,
   "metadata": {},
   "outputs": [
    {
     "data": {
      "text/html": [
       "<div>\n",
       "<style scoped>\n",
       "    .dataframe tbody tr th:only-of-type {\n",
       "        vertical-align: middle;\n",
       "    }\n",
       "\n",
       "    .dataframe tbody tr th {\n",
       "        vertical-align: top;\n",
       "    }\n",
       "\n",
       "    .dataframe thead th {\n",
       "        text-align: right;\n",
       "    }\n",
       "</style>\n",
       "<table border=\"1\" class=\"dataframe\">\n",
       "  <thead>\n",
       "    <tr style=\"text-align: right;\">\n",
       "      <th></th>\n",
       "      <th>_time</th>\n",
       "      <th>threat_match_field</th>\n",
       "      <th>threat_match_value</th>\n",
       "      <th>sourcetype</th>\n",
       "      <th>src</th>\n",
       "      <th>dest</th>\n",
       "      <th>threat_collection</th>\n",
       "      <th>threat_group</th>\n",
       "      <th>threat_category</th>\n",
       "    </tr>\n",
       "  </thead>\n",
       "  <tbody>\n",
       "    <tr>\n",
       "      <th>0</th>\n",
       "      <td>10</td>\n",
       "      <td>recipient</td>\n",
       "      <td>01000174b5e650d2-5ac29e86-ad15-45ad-abf2-31da5...</td>\n",
       "      <td>cisco:esa:textmail</td>\n",
       "      <td>unknown</td>\n",
       "      <td>unknown</td>\n",
       "      <td>ip_intel</td>\n",
       "      <td>alexa_top_one_million_sites</td>\n",
       "      <td>alexa</td>\n",
       "    </tr>\n",
       "    <tr>\n",
       "      <th>1</th>\n",
       "      <td>10</td>\n",
       "      <td>recipient</td>\n",
       "      <td>ANDYD.A2E@gmail.com</td>\n",
       "      <td>cisco:esa:legacy</td>\n",
       "      <td>unknown</td>\n",
       "      <td>unknown</td>\n",
       "      <td>ip_intel</td>\n",
       "      <td>alexa_top_one_million_sites</td>\n",
       "      <td>alexa</td>\n",
       "    </tr>\n",
       "    <tr>\n",
       "      <th>2</th>\n",
       "      <td>10</td>\n",
       "      <td>recipient</td>\n",
       "      <td>ControldeCambios@bancochile.cl</td>\n",
       "      <td>cisco:esa:legacy cisco:esa:textmail</td>\n",
       "      <td>unknown</td>\n",
       "      <td>unknown</td>\n",
       "      <td>ip_intel</td>\n",
       "      <td>alexa_top_one_million_sites</td>\n",
       "      <td>alexa</td>\n",
       "    </tr>\n",
       "    <tr>\n",
       "      <th>3</th>\n",
       "      <td>10</td>\n",
       "      <td>recipient</td>\n",
       "      <td>Controldeversiones@bancochile.cl</td>\n",
       "      <td>cisco:esa:legacy cisco:esa:textmail</td>\n",
       "      <td>unknown</td>\n",
       "      <td>unknown</td>\n",
       "      <td>ip_intel</td>\n",
       "      <td>alexa_top_one_million_sites</td>\n",
       "      <td>alexa</td>\n",
       "    </tr>\n",
       "    <tr>\n",
       "      <th>4</th>\n",
       "      <td>10</td>\n",
       "      <td>recipient</td>\n",
       "      <td>JOSESANMARTINCARRION25@gmail.com</td>\n",
       "      <td>cisco:esa:legacy</td>\n",
       "      <td>unknown</td>\n",
       "      <td>unknown</td>\n",
       "      <td>ip_intel</td>\n",
       "      <td>alexa_top_one_million_sites</td>\n",
       "      <td>alexa</td>\n",
       "    </tr>\n",
       "  </tbody>\n",
       "</table>\n",
       "</div>"
      ],
      "text/plain": [
       "  _time threat_match_field                                 threat_match_value  \\\n",
       "0    10          recipient  01000174b5e650d2-5ac29e86-ad15-45ad-abf2-31da5...   \n",
       "1    10          recipient                                ANDYD.A2E@gmail.com   \n",
       "2    10          recipient                     ControldeCambios@bancochile.cl   \n",
       "3    10          recipient                   Controldeversiones@bancochile.cl   \n",
       "4    10          recipient                   JOSESANMARTINCARRION25@gmail.com   \n",
       "\n",
       "                            sourcetype      src     dest threat_collection  \\\n",
       "0                   cisco:esa:textmail  unknown  unknown          ip_intel   \n",
       "1                     cisco:esa:legacy  unknown  unknown          ip_intel   \n",
       "2  cisco:esa:legacy cisco:esa:textmail  unknown  unknown          ip_intel   \n",
       "3  cisco:esa:legacy cisco:esa:textmail  unknown  unknown          ip_intel   \n",
       "4                     cisco:esa:legacy  unknown  unknown          ip_intel   \n",
       "\n",
       "                  threat_group threat_category  \n",
       "0  alexa_top_one_million_sites           alexa  \n",
       "1  alexa_top_one_million_sites           alexa  \n",
       "2  alexa_top_one_million_sites           alexa  \n",
       "3  alexa_top_one_million_sites           alexa  \n",
       "4  alexa_top_one_million_sites           alexa  "
      ]
     },
     "execution_count": 54,
     "metadata": {},
     "output_type": "execute_result"
    }
   ],
   "source": [
    "df_alexa_time = df_alexa.copy()\n",
    "for i in range (len(df_alexa_time)):\n",
    "    df_alexa_time.at[i,\"_time\"] = df_alexa_time.at[i,\"_time\"].hour\n",
    "df_alexa_time.head()"
   ]
  },
  {
   "cell_type": "code",
   "execution_count": 140,
   "metadata": {},
   "outputs": [
    {
     "data": {
      "text/plain": [
       "[Text(0.5, 0, 'Tiempo (horas)'),\n",
       " Text(0, 0.5, 'Cantidad de eventos'),\n",
       " Text(0.5, 1.0, 'Eventos Alexa')]"
      ]
     },
     "execution_count": 140,
     "metadata": {},
     "output_type": "execute_result"
    },
    {
     "data": {
      "image/png": "[encoded data removed]",
      "text/plain": [
       "<Figure size 432x288 with 1 Axes>"
      ]
     },
     "metadata": {
      "needs_background": "light"
     },
     "output_type": "display_data"
    }
   ],
   "source": [
    "datos_hora_alexa = sns.countplot(x=\"_time\", data=df_alexa_time)\n",
    "datos_hora_alexa.set(xlabel='Tiempo (horas)', ylabel='Cantidad de eventos', title=\"Eventos Alexa\")"
   ]
  },
  {
   "cell_type": "markdown",
   "metadata": {},
   "source": [
    "### Análisis de IP"
   ]
  },
  {
   "cell_type": "code",
   "execution_count": 56,
   "metadata": {},
   "outputs": [
    {
     "data": {
      "text/html": [
       "<div>\n",
       "<style scoped>\n",
       "    .dataframe tbody tr th:only-of-type {\n",
       "        vertical-align: middle;\n",
       "    }\n",
       "\n",
       "    .dataframe tbody tr th {\n",
       "        vertical-align: top;\n",
       "    }\n",
       "\n",
       "    .dataframe thead th {\n",
       "        text-align: right;\n",
       "    }\n",
       "</style>\n",
       "<table border=\"1\" class=\"dataframe\">\n",
       "  <thead>\n",
       "    <tr style=\"text-align: right;\">\n",
       "      <th></th>\n",
       "      <th>_time</th>\n",
       "      <th>threat_match_field</th>\n",
       "      <th>threat_match_value</th>\n",
       "      <th>sourcetype</th>\n",
       "      <th>src</th>\n",
       "      <th>dest</th>\n",
       "      <th>threat_collection</th>\n",
       "      <th>threat_group</th>\n",
       "      <th>threat_category</th>\n",
       "    </tr>\n",
       "  </thead>\n",
       "  <tbody>\n",
       "    <tr>\n",
       "      <th>0</th>\n",
       "      <td>2020-09-22 10:20:00</td>\n",
       "      <td>recipient</td>\n",
       "      <td>amazonses.com</td>\n",
       "      <td>cisco:esa:textmail</td>\n",
       "      <td>unknown</td>\n",
       "      <td>unknown</td>\n",
       "      <td>ip_intel</td>\n",
       "      <td>alexa_top_one_million_sites</td>\n",
       "      <td>alexa</td>\n",
       "    </tr>\n",
       "    <tr>\n",
       "      <th>1</th>\n",
       "      <td>2020-09-22 10:20:00</td>\n",
       "      <td>recipient</td>\n",
       "      <td>gmail.com</td>\n",
       "      <td>cisco:esa:legacy</td>\n",
       "      <td>unknown</td>\n",
       "      <td>unknown</td>\n",
       "      <td>ip_intel</td>\n",
       "      <td>alexa_top_one_million_sites</td>\n",
       "      <td>alexa</td>\n",
       "    </tr>\n",
       "    <tr>\n",
       "      <th>2</th>\n",
       "      <td>2020-09-22 10:20:00</td>\n",
       "      <td>recipient</td>\n",
       "      <td>bancochile.cl</td>\n",
       "      <td>cisco:esa:legacy cisco:esa:textmail</td>\n",
       "      <td>unknown</td>\n",
       "      <td>unknown</td>\n",
       "      <td>ip_intel</td>\n",
       "      <td>alexa_top_one_million_sites</td>\n",
       "      <td>alexa</td>\n",
       "    </tr>\n",
       "    <tr>\n",
       "      <th>3</th>\n",
       "      <td>2020-09-22 10:20:00</td>\n",
       "      <td>recipient</td>\n",
       "      <td>bancochile.cl</td>\n",
       "      <td>cisco:esa:legacy cisco:esa:textmail</td>\n",
       "      <td>unknown</td>\n",
       "      <td>unknown</td>\n",
       "      <td>ip_intel</td>\n",
       "      <td>alexa_top_one_million_sites</td>\n",
       "      <td>alexa</td>\n",
       "    </tr>\n",
       "    <tr>\n",
       "      <th>4</th>\n",
       "      <td>2020-09-22 10:20:00</td>\n",
       "      <td>recipient</td>\n",
       "      <td>gmail.com</td>\n",
       "      <td>cisco:esa:legacy</td>\n",
       "      <td>unknown</td>\n",
       "      <td>unknown</td>\n",
       "      <td>ip_intel</td>\n",
       "      <td>alexa_top_one_million_sites</td>\n",
       "      <td>alexa</td>\n",
       "    </tr>\n",
       "  </tbody>\n",
       "</table>\n",
       "</div>"
      ],
      "text/plain": [
       "                _time threat_match_field threat_match_value  \\\n",
       "0 2020-09-22 10:20:00          recipient      amazonses.com   \n",
       "1 2020-09-22 10:20:00          recipient          gmail.com   \n",
       "2 2020-09-22 10:20:00          recipient      bancochile.cl   \n",
       "3 2020-09-22 10:20:00          recipient      bancochile.cl   \n",
       "4 2020-09-22 10:20:00          recipient          gmail.com   \n",
       "\n",
       "                            sourcetype      src     dest threat_collection  \\\n",
       "0                   cisco:esa:textmail  unknown  unknown          ip_intel   \n",
       "1                     cisco:esa:legacy  unknown  unknown          ip_intel   \n",
       "2  cisco:esa:legacy cisco:esa:textmail  unknown  unknown          ip_intel   \n",
       "3  cisco:esa:legacy cisco:esa:textmail  unknown  unknown          ip_intel   \n",
       "4                     cisco:esa:legacy  unknown  unknown          ip_intel   \n",
       "\n",
       "                  threat_group threat_category  \n",
       "0  alexa_top_one_million_sites           alexa  \n",
       "1  alexa_top_one_million_sites           alexa  \n",
       "2  alexa_top_one_million_sites           alexa  \n",
       "3  alexa_top_one_million_sites           alexa  \n",
       "4  alexa_top_one_million_sites           alexa  "
      ]
     },
     "execution_count": 56,
     "metadata": {},
     "output_type": "execute_result"
    }
   ],
   "source": [
    "df_alexa_ip = df_alexa.copy()\n",
    "for i in range (len(df_alexa_ip)):\n",
    "    if \"@\" in df_alexa_ip.at[i,\"threat_match_value\"]:\n",
    "        lista = df_alexa_ip.at[i,\"threat_match_value\"].split(\"@\")\n",
    "        df_alexa_ip.at[i,\"threat_match_value\"] = lista[1]\n",
    "df_alexa_ip.head()"
   ]
  },
  {
   "cell_type": "code",
   "execution_count": 57,
   "metadata": {},
   "outputs": [
    {
     "name": "stdout",
     "output_type": "stream",
     "text": [
      "entel.cl                    814\n",
      "bancochile.cl               508\n",
      "gmail.com                   377\n",
      "entel.pe                    173\n",
      "ericsson.com                 69\n",
      "                           ... \n",
      "latam.amcnetworks.com         1\n",
      "watchguard.com                1\n",
      "banmedica.cl                  1\n",
      "snd97-124.masterbase.com      1\n",
      "thyssenkrupp.com              1\n",
      "Name: threat_match_value, Length: 475, dtype: int64\n"
     ]
    }
   ],
   "source": [
    "count = df_alexa_ip['threat_match_value'].value_counts() \n",
    "print(count) "
   ]
  },
  {
   "cell_type": "code",
   "execution_count": 58,
   "metadata": {},
   "outputs": [
    {
     "name": "stdout",
     "output_type": "stream",
     "text": [
      "cisco:esa:legacy cisco:esa:textmail    1317\n",
      "cisco:esa:textmail                     1174\n",
      "cisco:esa:legacy                        880\n",
      "fgt_utm                                   9\n",
      "Name: sourcetype, dtype: int64\n"
     ]
    }
   ],
   "source": [
    "count = df_alexa_ip['sourcetype'].value_counts() \n",
    "print(count) "
   ]
  },
  {
   "cell_type": "markdown",
   "metadata": {},
   "source": [
    "### Clustering"
   ]
  },
  {
   "cell_type": "code",
   "execution_count": 59,
   "metadata": {},
   "outputs": [],
   "source": [
    "df_alexa_clustering = df_alexa_ip.copy()"
   ]
  },
  {
   "cell_type": "code",
   "execution_count": 60,
   "metadata": {},
   "outputs": [],
   "source": [
    "for i in range (len(df_alexa_clustering)):\n",
    "    df_alexa_clustering.at[i,\"_time\"] = df_alexa_clustering.at[i,\"_time\"].hour\n",
    "    if df_alexa_clustering.at[i,\"sourcetype\"] == \"cisco:esa:legacy cisco:esa:textmail\":\n",
    "        df_alexa_clustering.at[i,\"sourcetype\"] = 0\n",
    "    elif df_alexa_clustering.at[i,\"sourcetype\"] == \"cisco:esa:textmail\":\n",
    "        df_alexa_clustering.at[i,\"sourcetype\"] = 1\n",
    "    elif df_alexa_clustering.at[i,\"sourcetype\"] == \"cisco:esa:legacy\":\n",
    "        df_alexa_clustering.at[i,\"sourcetype\"] = 2\n",
    "    elif df_alexa_clustering.at[i,\"sourcetype\"] == \"fgt_utm\":\n",
    "        df_alexa_clustering.at[i,\"sourcetype\"] = 3"
   ]
  },
  {
   "cell_type": "code",
   "execution_count": 61,
   "metadata": {},
   "outputs": [
    {
     "data": {
      "text/html": [
       "<div>\n",
       "<style scoped>\n",
       "    .dataframe tbody tr th:only-of-type {\n",
       "        vertical-align: middle;\n",
       "    }\n",
       "\n",
       "    .dataframe tbody tr th {\n",
       "        vertical-align: top;\n",
       "    }\n",
       "\n",
       "    .dataframe thead th {\n",
       "        text-align: right;\n",
       "    }\n",
       "</style>\n",
       "<table border=\"1\" class=\"dataframe\">\n",
       "  <thead>\n",
       "    <tr style=\"text-align: right;\">\n",
       "      <th></th>\n",
       "      <th>_time</th>\n",
       "      <th>threat_match_value</th>\n",
       "      <th>sourcetype</th>\n",
       "    </tr>\n",
       "  </thead>\n",
       "  <tbody>\n",
       "    <tr>\n",
       "      <th>0</th>\n",
       "      <td>10</td>\n",
       "      <td>amazonses.com</td>\n",
       "      <td>1</td>\n",
       "    </tr>\n",
       "    <tr>\n",
       "      <th>1</th>\n",
       "      <td>10</td>\n",
       "      <td>gmail.com</td>\n",
       "      <td>2</td>\n",
       "    </tr>\n",
       "    <tr>\n",
       "      <th>2</th>\n",
       "      <td>10</td>\n",
       "      <td>bancochile.cl</td>\n",
       "      <td>0</td>\n",
       "    </tr>\n",
       "    <tr>\n",
       "      <th>3</th>\n",
       "      <td>10</td>\n",
       "      <td>bancochile.cl</td>\n",
       "      <td>0</td>\n",
       "    </tr>\n",
       "    <tr>\n",
       "      <th>4</th>\n",
       "      <td>10</td>\n",
       "      <td>gmail.com</td>\n",
       "      <td>2</td>\n",
       "    </tr>\n",
       "  </tbody>\n",
       "</table>\n",
       "</div>"
      ],
      "text/plain": [
       "  _time threat_match_value sourcetype\n",
       "0    10      amazonses.com          1\n",
       "1    10          gmail.com          2\n",
       "2    10      bancochile.cl          0\n",
       "3    10      bancochile.cl          0\n",
       "4    10          gmail.com          2"
      ]
     },
     "execution_count": 61,
     "metadata": {},
     "output_type": "execute_result"
    }
   ],
   "source": [
    "df_alexa_clustering = df_alexa_clustering.drop(columns=[\"threat_match_field\", \"src\", \"dest\", \"threat_collection\",\n",
    "                                                        \"threat_group\", \"threat_category\"])\n",
    "df_alexa_clustering.head()"
   ]
  },
  {
   "cell_type": "code",
   "execution_count": 62,
   "metadata": {},
   "outputs": [
    {
     "data": {
      "text/plain": [
       "array([[ 0.15431992],\n",
       "       [ 1.39919179],\n",
       "       [-1.09055196],\n",
       "       ...,\n",
       "       [ 1.39919179],\n",
       "       [ 0.15431992],\n",
       "       [ 0.15431992]])"
      ]
     },
     "execution_count": 62,
     "metadata": {},
     "output_type": "execute_result"
    }
   ],
   "source": [
    "from sklearn.preprocessing import StandardScaler\n",
    "X = df_alexa_clustering.values[:,2:]\n",
    "X = np.nan_to_num(X)\n",
    "Clus_dataSet = StandardScaler().fit_transform(X)\n",
    "Clus_dataSet"
   ]
  },
  {
   "cell_type": "code",
   "execution_count": 63,
   "metadata": {},
   "outputs": [
    {
     "name": "stdout",
     "output_type": "stream",
     "text": [
      "[0 2 1 ... 2 0 0]\n"
     ]
    }
   ],
   "source": [
    "clusterNum = 3\n",
    "k_means = KMeans(init = \"k-means++\", n_clusters = clusterNum, n_init = 12)\n",
    "k_means.fit(X)\n",
    "labels = k_means.labels_\n",
    "print(labels)"
   ]
  },
  {
   "cell_type": "code",
   "execution_count": 64,
   "metadata": {},
   "outputs": [
    {
     "data": {
      "text/html": [
       "<div>\n",
       "<style scoped>\n",
       "    .dataframe tbody tr th:only-of-type {\n",
       "        vertical-align: middle;\n",
       "    }\n",
       "\n",
       "    .dataframe tbody tr th {\n",
       "        vertical-align: top;\n",
       "    }\n",
       "\n",
       "    .dataframe thead th {\n",
       "        text-align: right;\n",
       "    }\n",
       "</style>\n",
       "<table border=\"1\" class=\"dataframe\">\n",
       "  <thead>\n",
       "    <tr style=\"text-align: right;\">\n",
       "      <th></th>\n",
       "      <th>_time</th>\n",
       "      <th>threat_match_value</th>\n",
       "      <th>sourcetype</th>\n",
       "      <th>Clus_km</th>\n",
       "    </tr>\n",
       "  </thead>\n",
       "  <tbody>\n",
       "    <tr>\n",
       "      <th>0</th>\n",
       "      <td>10</td>\n",
       "      <td>amazonses.com</td>\n",
       "      <td>1</td>\n",
       "      <td>0</td>\n",
       "    </tr>\n",
       "    <tr>\n",
       "      <th>1</th>\n",
       "      <td>10</td>\n",
       "      <td>gmail.com</td>\n",
       "      <td>2</td>\n",
       "      <td>2</td>\n",
       "    </tr>\n",
       "    <tr>\n",
       "      <th>2</th>\n",
       "      <td>10</td>\n",
       "      <td>bancochile.cl</td>\n",
       "      <td>0</td>\n",
       "      <td>1</td>\n",
       "    </tr>\n",
       "    <tr>\n",
       "      <th>3</th>\n",
       "      <td>10</td>\n",
       "      <td>bancochile.cl</td>\n",
       "      <td>0</td>\n",
       "      <td>1</td>\n",
       "    </tr>\n",
       "    <tr>\n",
       "      <th>4</th>\n",
       "      <td>10</td>\n",
       "      <td>gmail.com</td>\n",
       "      <td>2</td>\n",
       "      <td>2</td>\n",
       "    </tr>\n",
       "  </tbody>\n",
       "</table>\n",
       "</div>"
      ],
      "text/plain": [
       "  _time threat_match_value sourcetype  Clus_km\n",
       "0    10      amazonses.com          1        0\n",
       "1    10          gmail.com          2        2\n",
       "2    10      bancochile.cl          0        1\n",
       "3    10      bancochile.cl          0        1\n",
       "4    10          gmail.com          2        2"
      ]
     },
     "execution_count": 64,
     "metadata": {},
     "output_type": "execute_result"
    }
   ],
   "source": [
    "df_alexa_clustering[\"Clus_km\"] = labels\n",
    "df_alexa_clustering.head(5)"
   ]
  },
  {
   "cell_type": "code",
   "execution_count": 65,
   "metadata": {},
   "outputs": [
    {
     "ename": "DataError",
     "evalue": "No numeric types to aggregate",
     "output_type": "error",
     "traceback": [
      "\u001b[1;31m---------------------------------------------------------------------------\u001b[0m",
      "\u001b[1;31mDataError\u001b[0m                                 Traceback (most recent call last)",
      "\u001b[1;32m<ipython-input-65-e30bd8222189>\u001b[0m in \u001b[0;36m<module>\u001b[1;34m\u001b[0m\n\u001b[1;32m----> 1\u001b[1;33m \u001b[0mdf_alexa_clustering\u001b[0m\u001b[1;33m.\u001b[0m\u001b[0mgroupby\u001b[0m\u001b[1;33m(\u001b[0m\u001b[1;34m'Clus_km'\u001b[0m\u001b[1;33m)\u001b[0m\u001b[1;33m.\u001b[0m\u001b[0mmean\u001b[0m\u001b[1;33m(\u001b[0m\u001b[1;33m)\u001b[0m\u001b[1;33m\u001b[0m\u001b[1;33m\u001b[0m\u001b[0m\n\u001b[0m",
      "\u001b[1;32mc:\\users\\pablo\\appdata\\local\\programs\\python\\python37\\lib\\site-packages\\pandas\\core\\groupby\\groupby.py\u001b[0m in \u001b[0;36mmean\u001b[1;34m(self, numeric_only)\u001b[0m\n\u001b[0;32m   1394\u001b[0m             \u001b[1;34m\"mean\"\u001b[0m\u001b[1;33m,\u001b[0m\u001b[1;33m\u001b[0m\u001b[1;33m\u001b[0m\u001b[0m\n\u001b[0;32m   1395\u001b[0m             \u001b[0malt\u001b[0m\u001b[1;33m=\u001b[0m\u001b[1;32mlambda\u001b[0m \u001b[0mx\u001b[0m\u001b[1;33m,\u001b[0m \u001b[0maxis\u001b[0m\u001b[1;33m:\u001b[0m \u001b[0mSeries\u001b[0m\u001b[1;33m(\u001b[0m\u001b[0mx\u001b[0m\u001b[1;33m)\u001b[0m\u001b[1;33m.\u001b[0m\u001b[0mmean\u001b[0m\u001b[1;33m(\u001b[0m\u001b[0mnumeric_only\u001b[0m\u001b[1;33m=\u001b[0m\u001b[0mnumeric_only\u001b[0m\u001b[1;33m)\u001b[0m\u001b[1;33m,\u001b[0m\u001b[1;33m\u001b[0m\u001b[1;33m\u001b[0m\u001b[0m\n\u001b[1;32m-> 1396\u001b[1;33m             \u001b[0mnumeric_only\u001b[0m\u001b[1;33m=\u001b[0m\u001b[0mnumeric_only\u001b[0m\u001b[1;33m,\u001b[0m\u001b[1;33m\u001b[0m\u001b[1;33m\u001b[0m\u001b[0m\n\u001b[0m\u001b[0;32m   1397\u001b[0m         )\n\u001b[0;32m   1398\u001b[0m \u001b[1;33m\u001b[0m\u001b[0m\n",
      "\u001b[1;32mc:\\users\\pablo\\appdata\\local\\programs\\python\\python37\\lib\\site-packages\\pandas\\core\\groupby\\generic.py\u001b[0m in \u001b[0;36m_cython_agg_general\u001b[1;34m(self, how, alt, numeric_only, min_count)\u001b[0m\n\u001b[0;32m   1018\u001b[0m     ) -> DataFrame:\n\u001b[0;32m   1019\u001b[0m         agg_blocks, agg_items = self._cython_agg_blocks(\n\u001b[1;32m-> 1020\u001b[1;33m             \u001b[0mhow\u001b[0m\u001b[1;33m,\u001b[0m \u001b[0malt\u001b[0m\u001b[1;33m=\u001b[0m\u001b[0malt\u001b[0m\u001b[1;33m,\u001b[0m \u001b[0mnumeric_only\u001b[0m\u001b[1;33m=\u001b[0m\u001b[0mnumeric_only\u001b[0m\u001b[1;33m,\u001b[0m \u001b[0mmin_count\u001b[0m\u001b[1;33m=\u001b[0m\u001b[0mmin_count\u001b[0m\u001b[1;33m\u001b[0m\u001b[1;33m\u001b[0m\u001b[0m\n\u001b[0m\u001b[0;32m   1021\u001b[0m         )\n\u001b[0;32m   1022\u001b[0m         \u001b[1;32mreturn\u001b[0m \u001b[0mself\u001b[0m\u001b[1;33m.\u001b[0m\u001b[0m_wrap_agged_blocks\u001b[0m\u001b[1;33m(\u001b[0m\u001b[0magg_blocks\u001b[0m\u001b[1;33m,\u001b[0m \u001b[0mitems\u001b[0m\u001b[1;33m=\u001b[0m\u001b[0magg_items\u001b[0m\u001b[1;33m)\u001b[0m\u001b[1;33m\u001b[0m\u001b[1;33m\u001b[0m\u001b[0m\n",
      "\u001b[1;32mc:\\users\\pablo\\appdata\\local\\programs\\python\\python37\\lib\\site-packages\\pandas\\core\\groupby\\generic.py\u001b[0m in \u001b[0;36m_cython_agg_blocks\u001b[1;34m(self, how, alt, numeric_only, min_count)\u001b[0m\n\u001b[0;32m   1126\u001b[0m \u001b[1;33m\u001b[0m\u001b[0m\n\u001b[0;32m   1127\u001b[0m         \u001b[1;32mif\u001b[0m \u001b[1;32mnot\u001b[0m \u001b[1;33m(\u001b[0m\u001b[0magg_blocks\u001b[0m \u001b[1;32mor\u001b[0m \u001b[0msplit_frames\u001b[0m\u001b[1;33m)\u001b[0m\u001b[1;33m:\u001b[0m\u001b[1;33m\u001b[0m\u001b[1;33m\u001b[0m\u001b[0m\n\u001b[1;32m-> 1128\u001b[1;33m             \u001b[1;32mraise\u001b[0m \u001b[0mDataError\u001b[0m\u001b[1;33m(\u001b[0m\u001b[1;34m\"No numeric types to aggregate\"\u001b[0m\u001b[1;33m)\u001b[0m\u001b[1;33m\u001b[0m\u001b[1;33m\u001b[0m\u001b[0m\n\u001b[0m\u001b[0;32m   1129\u001b[0m \u001b[1;33m\u001b[0m\u001b[0m\n\u001b[0;32m   1130\u001b[0m         \u001b[1;32mif\u001b[0m \u001b[0msplit_items\u001b[0m\u001b[1;33m:\u001b[0m\u001b[1;33m\u001b[0m\u001b[1;33m\u001b[0m\u001b[0m\n",
      "\u001b[1;31mDataError\u001b[0m: No numeric types to aggregate"
     ]
    }
   ],
   "source": [
    "df_alexa_clustering.groupby('Clus_km').mean()"
   ]
  },
  {
   "cell_type": "code",
   "execution_count": 66,
   "metadata": {},
   "outputs": [
    {
     "ename": "IndexError",
     "evalue": "index 1 is out of bounds for axis 1 with size 1",
     "output_type": "error",
     "traceback": [
      "\u001b[1;31m---------------------------------------------------------------------------\u001b[0m",
      "\u001b[1;31mIndexError\u001b[0m                                Traceback (most recent call last)",
      "\u001b[1;32m<ipython-input-66-26e0ed1ca224>\u001b[0m in \u001b[0;36m<module>\u001b[1;34m\u001b[0m\n\u001b[0;32m      1\u001b[0m \u001b[0marea\u001b[0m \u001b[1;33m=\u001b[0m \u001b[0mnp\u001b[0m\u001b[1;33m.\u001b[0m\u001b[0mpi\u001b[0m \u001b[1;33m*\u001b[0m \u001b[1;33m(\u001b[0m\u001b[1;36m1\u001b[0m\u001b[1;33m)\u001b[0m\u001b[1;33m**\u001b[0m\u001b[1;36m2\u001b[0m\u001b[1;33m\u001b[0m\u001b[1;33m\u001b[0m\u001b[0m\n\u001b[1;32m----> 2\u001b[1;33m \u001b[0mplt\u001b[0m\u001b[1;33m.\u001b[0m\u001b[0mscatter\u001b[0m\u001b[1;33m(\u001b[0m\u001b[0mX\u001b[0m\u001b[1;33m[\u001b[0m\u001b[1;33m:\u001b[0m\u001b[1;33m,\u001b[0m \u001b[1;36m0\u001b[0m\u001b[1;33m]\u001b[0m\u001b[1;33m,\u001b[0m \u001b[0mX\u001b[0m\u001b[1;33m[\u001b[0m\u001b[1;33m:\u001b[0m\u001b[1;33m,\u001b[0m \u001b[1;36m1\u001b[0m\u001b[1;33m]\u001b[0m\u001b[1;33m,\u001b[0m \u001b[0ms\u001b[0m\u001b[1;33m=\u001b[0m\u001b[0marea\u001b[0m\u001b[1;33m,\u001b[0m \u001b[0mc\u001b[0m\u001b[1;33m=\u001b[0m\u001b[0mlabels\u001b[0m\u001b[1;33m.\u001b[0m\u001b[0mastype\u001b[0m\u001b[1;33m(\u001b[0m\u001b[0mnp\u001b[0m\u001b[1;33m.\u001b[0m\u001b[0mfloat\u001b[0m\u001b[1;33m)\u001b[0m\u001b[1;33m,\u001b[0m \u001b[0malpha\u001b[0m\u001b[1;33m=\u001b[0m\u001b[1;36m0.5\u001b[0m\u001b[1;33m)\u001b[0m\u001b[1;33m\u001b[0m\u001b[1;33m\u001b[0m\u001b[0m\n\u001b[0m\u001b[0;32m      3\u001b[0m \u001b[0mplt\u001b[0m\u001b[1;33m.\u001b[0m\u001b[0mxlabel\u001b[0m\u001b[1;33m(\u001b[0m\u001b[1;34m'Sourcetype'\u001b[0m\u001b[1;33m,\u001b[0m \u001b[0mfontsize\u001b[0m\u001b[1;33m=\u001b[0m\u001b[1;36m18\u001b[0m\u001b[1;33m)\u001b[0m\u001b[1;33m\u001b[0m\u001b[1;33m\u001b[0m\u001b[0m\n\u001b[0;32m      4\u001b[0m \u001b[0mplt\u001b[0m\u001b[1;33m.\u001b[0m\u001b[0mylabel\u001b[0m\u001b[1;33m(\u001b[0m\u001b[1;34m'Horas'\u001b[0m\u001b[1;33m,\u001b[0m \u001b[0mfontsize\u001b[0m\u001b[1;33m=\u001b[0m\u001b[1;36m16\u001b[0m\u001b[1;33m)\u001b[0m\u001b[1;33m\u001b[0m\u001b[1;33m\u001b[0m\u001b[0m\n\u001b[0;32m      5\u001b[0m \u001b[1;33m\u001b[0m\u001b[0m\n",
      "\u001b[1;31mIndexError\u001b[0m: index 1 is out of bounds for axis 1 with size 1"
     ]
    }
   ],
   "source": [
    "area = np.pi * (1)**2  \n",
    "plt.scatter(X[:, 0], X[:, 1], s=area, c=labels.astype(np.float), alpha=0.5)\n",
    "plt.xlabel('Sourcetype', fontsize=18)\n",
    "plt.ylabel('Horas', fontsize=16)\n",
    "\n",
    "plt.show()"
   ]
  },
  {
   "cell_type": "code",
   "execution_count": 119,
   "metadata": {},
   "outputs": [
    {
     "data": {
      "text/html": [
       "<div>\n",
       "<style scoped>\n",
       "    .dataframe tbody tr th:only-of-type {\n",
       "        vertical-align: middle;\n",
       "    }\n",
       "\n",
       "    .dataframe tbody tr th {\n",
       "        vertical-align: top;\n",
       "    }\n",
       "\n",
       "    .dataframe thead th {\n",
       "        text-align: right;\n",
       "    }\n",
       "</style>\n",
       "<table border=\"1\" class=\"dataframe\">\n",
       "  <thead>\n",
       "    <tr style=\"text-align: right;\">\n",
       "      <th></th>\n",
       "      <th>_time</th>\n",
       "    </tr>\n",
       "  </thead>\n",
       "  <tbody>\n",
       "    <tr>\n",
       "      <th>0</th>\n",
       "      <td>1</td>\n",
       "    </tr>\n",
       "    <tr>\n",
       "      <th>1</th>\n",
       "      <td>22</td>\n",
       "    </tr>\n",
       "    <tr>\n",
       "      <th>2</th>\n",
       "      <td>19</td>\n",
       "    </tr>\n",
       "    <tr>\n",
       "      <th>3</th>\n",
       "      <td>18</td>\n",
       "    </tr>\n",
       "    <tr>\n",
       "      <th>4</th>\n",
       "      <td>17</td>\n",
       "    </tr>\n",
       "  </tbody>\n",
       "</table>\n",
       "</div>"
      ],
      "text/plain": [
       "  _time\n",
       "0     1\n",
       "1    22\n",
       "2    19\n",
       "3    18\n",
       "4    17"
      ]
     },
     "execution_count": 119,
     "metadata": {},
     "output_type": "execute_result"
    }
   ],
   "source": [
    "a = df_blueliv_time[[\"_time\"]]\n",
    "b = df_ipdan_time[[\"_time\"]]\n",
    "c = df_sans_time[[\"_time\"]]\n",
    "d = df_compromised_ip_time[[\"_time\"]]\n",
    "e = df_blocked_list_time[[\"_time\"]]\n",
    "f = df_alexa_time[[\"_time\"]]\n",
    "frames = [a,b,c,d,e,f]\n",
    "result = pd.concat(frames)\n",
    "result.head()"
   ]
  },
  {
   "cell_type": "code",
   "execution_count": 120,
   "metadata": {},
   "outputs": [
    {
     "data": {
      "text/plain": [
       "[Text(0.5, 0, 'tiempo (horas)'),\n",
       " Text(0, 0.5, 'Cantidad de eventos'),\n",
       " Text(0.5, 1.0, 'Eventos totales')]"
      ]
     },
     "execution_count": 120,
     "metadata": {},
     "output_type": "execute_result"
    },
    {
     "data": {
      "image/png": "[encoded data removed]",
      "text/plain": [
       "<Figure size 432x288 with 1 Axes>"
      ]
     },
     "metadata": {
      "needs_background": "light"
     },
     "output_type": "display_data"
    }
   ],
   "source": [
    "datos_hora_total = sns.countplot(x=\"_time\", data=result)\n",
    "datos_hora_total.set(xlabel='tiempo (horas)', ylabel='Cantidad de eventos', title=\"Eventos totales\")"
   ]
  },
  {
   "cell_type": "code",
   "execution_count": 121,
   "metadata": {},
   "outputs": [
    {
     "data": {
      "text/html": [
       "<div>\n",
       "<style scoped>\n",
       "    .dataframe tbody tr th:only-of-type {\n",
       "        vertical-align: middle;\n",
       "    }\n",
       "\n",
       "    .dataframe tbody tr th {\n",
       "        vertical-align: top;\n",
       "    }\n",
       "\n",
       "    .dataframe thead th {\n",
       "        text-align: right;\n",
       "    }\n",
       "</style>\n",
       "<table border=\"1\" class=\"dataframe\">\n",
       "  <thead>\n",
       "    <tr style=\"text-align: right;\">\n",
       "      <th></th>\n",
       "      <th>_time</th>\n",
       "    </tr>\n",
       "  </thead>\n",
       "  <tbody>\n",
       "    <tr>\n",
       "      <th>0</th>\n",
       "      <td>1</td>\n",
       "    </tr>\n",
       "    <tr>\n",
       "      <th>1</th>\n",
       "      <td>22</td>\n",
       "    </tr>\n",
       "    <tr>\n",
       "      <th>2</th>\n",
       "      <td>19</td>\n",
       "    </tr>\n",
       "    <tr>\n",
       "      <th>3</th>\n",
       "      <td>18</td>\n",
       "    </tr>\n",
       "    <tr>\n",
       "      <th>4</th>\n",
       "      <td>17</td>\n",
       "    </tr>\n",
       "  </tbody>\n",
       "</table>\n",
       "</div>"
      ],
      "text/plain": [
       "  _time\n",
       "0     1\n",
       "1    22\n",
       "2    19\n",
       "3    18\n",
       "4    17"
      ]
     },
     "execution_count": 121,
     "metadata": {},
     "output_type": "execute_result"
    }
   ],
   "source": [
    "a = df_blueliv_time[[\"_time\"]]\n",
    "b = df_ipdan_time[[\"_time\"]]\n",
    "c = df_sans_time[[\"_time\"]]\n",
    "d = df_compromised_ip_time[[\"_time\"]]\n",
    "f = df_alexa_time[[\"_time\"]]\n",
    "frames = [a,b,c,d,f]\n",
    "result = pd.concat(frames)\n",
    "result.head()"
   ]
  },
  {
   "cell_type": "code",
   "execution_count": 123,
   "metadata": {},
   "outputs": [
    {
     "data": {
      "text/plain": [
       "[Text(0.5, 0, 'tiempo (horas)'),\n",
       " Text(0, 0.5, 'Cantidad de eventos'),\n",
       " Text(0.5, 1.0, 'Eventos sin blocked_list')]"
      ]
     },
     "execution_count": 123,
     "metadata": {},
     "output_type": "execute_result"
    },
    {
     "data": {
      "image/png": "[encoded data removed]",
      "text/plain": [
       "<Figure size 432x288 with 1 Axes>"
      ]
     },
     "metadata": {
      "needs_background": "light"
     },
     "output_type": "display_data"
    }
   ],
   "source": [
    "datos_hora_total = sns.countplot(x=\"_time\", data=result)\n",
    "datos_hora_total.set(xlabel='tiempo (horas)', ylabel='Cantidad de eventos', title=\"Eventos sin blocked_list\")"
   ]
  },
  {
   "cell_type": "code",
   "execution_count": 124,
   "metadata": {},
   "outputs": [],
   "source": [
    "a = df_blueliv_day[[\"_time\", \"Day_id\"]]\n",
    "b = df_ipdan_day[[\"_time\", \"Day_id\"]]\n",
    "c = df_sans_day[[\"_time\", \"Day_id\"]]\n",
    "d = df_compromised_ip_day[[\"_time\", \"Day_id\"]]\n",
    "e = df_blocked_list_day[[\"_time\", \"Day_id\"]]\n",
    "f = df_alexa_day[[\"_time\", \"Day_id\"]]\n",
    "frames = [a,b,c,d,e,f]\n",
    "result = pd.concat(frames)\n",
    "result.sort_values('Day_id', inplace=True)"
   ]
  },
  {
   "cell_type": "code",
   "execution_count": 125,
   "metadata": {},
   "outputs": [
    {
     "data": {
      "text/plain": [
       "[Text(0.5, 0, 'Día'),\n",
       " Text(0, 0.5, 'Cantidad de eventos'),\n",
       " Text(0.5, 1.0, 'Eventos totales')]"
      ]
     },
     "execution_count": 125,
     "metadata": {},
     "output_type": "execute_result"
    },
    {
     "data": {
      "image/png": "[encoded data removed]",
      "text/plain": [
       "<Figure size 432x288 with 1 Axes>"
      ]
     },
     "metadata": {
      "needs_background": "light"
     },
     "output_type": "display_data"
    }
   ],
   "source": [
    "datos_hora_total = sns.countplot(x=\"_time\", data=result)\n",
    "datos_hora_total.set(xlabel='Día', ylabel='Cantidad de eventos', title=\"Eventos totales\")"
   ]
  },
  {
   "cell_type": "code",
   "execution_count": 126,
   "metadata": {},
   "outputs": [],
   "source": [
    "a = df_blueliv_day[[\"_time\", \"Day_id\"]]\n",
    "b = df_ipdan_day[[\"_time\", \"Day_id\"]]\n",
    "c = df_sans_day[[\"_time\", \"Day_id\"]]\n",
    "d = df_compromised_ip_day[[\"_time\", \"Day_id\"]]\n",
    "f = df_alexa_day[[\"_time\", \"Day_id\"]]\n",
    "frames = [a,b,c,d,f]\n",
    "result = pd.concat(frames)\n",
    "result.sort_values('Day_id', inplace=True)"
   ]
  },
  {
   "cell_type": "code",
   "execution_count": 128,
   "metadata": {},
   "outputs": [
    {
     "data": {
      "text/plain": [
       "[Text(0.5, 0, 'Día'),\n",
       " Text(0, 0.5, 'Cantidad de eventos'),\n",
       " Text(0.5, 1.0, 'Eventos sin blocked_list')]"
      ]
     },
     "execution_count": 128,
     "metadata": {},
     "output_type": "execute_result"
    },
    {
     "data": {
      "image/png": "[encoded data removed]",
      "text/plain": [
       "<Figure size 432x288 with 1 Axes>"
      ]
     },
     "metadata": {
      "needs_background": "light"
     },
     "output_type": "display_data"
    }
   ],
   "source": [
    "datos_hora_total = sns.countplot(x=\"_time\", data=result)\n",
    "datos_hora_total.set(xlabel='Día', ylabel='Cantidad de eventos', title=\"Eventos sin blocked_list\")"
   ]
  },
  {
   "cell_type": "code",
   "execution_count": null,
   "metadata": {},
   "outputs": [],
   "source": []
  }
 ],
 "metadata": {
  "kernelspec": {
   "display_name": "Python 3",
   "language": "python",
   "name": "python3"
  },
  "language_info": {
   "codemirror_mode": {
    "name": "ipython",
    "version": 3
   },
   "file_extension": ".py",
   "mimetype": "text/x-python",
   "name": "python",
   "nbconvert_exporter": "python",
   "pygments_lexer": "ipython3",
   "version": "3.7.9"
  }
 },
 "nbformat": 4,
 "nbformat_minor": 4
}
